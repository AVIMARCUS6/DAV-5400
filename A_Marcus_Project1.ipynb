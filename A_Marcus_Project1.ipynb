{
 "cells": [
  {
   "cell_type": "code",
   "execution_count": 2,
   "metadata": {},
   "outputs": [],
   "source": [
    "import pandas as pd\n",
    "import numpy as np\n",
    "filename = \"https://raw.githubusercontent.com/jtopor/DAV-5400/master/Project1/hflights.csv\"\n",
    "fd = pd.read_csv(filename)"
   ]
  },
  {
   "cell_type": "code",
   "execution_count": 20,
   "metadata": {},
   "outputs": [
    {
     "data": {
      "text/plain": [
       "Year                   int64\n",
       "Month                  int64\n",
       "DayofMonth             int64\n",
       "DayOfWeek              int64\n",
       "DepTime              float64\n",
       "ArrTime              float64\n",
       "UniqueCarrier         object\n",
       "FlightNum              int64\n",
       "TailNum               object\n",
       "ActualElapsedTime    float64\n",
       "AirTime              float64\n",
       "ArrDelay             float64\n",
       "DepDelay             float64\n",
       "Origin                object\n",
       "Dest                  object\n",
       "Distance               int64\n",
       "TaxiIn               float64\n",
       "TaxiOut              float64\n",
       "Cancelled              int64\n",
       "CancellationCode      object\n",
       "Diverted               int64\n",
       "dtype: object"
      ]
     },
     "execution_count": 20,
     "metadata": {},
     "output_type": "execute_result"
    }
   ],
   "source": [
    "fd.dtypes"
   ]
  },
  {
   "cell_type": "markdown",
   "metadata": {},
   "source": [
    "### Create Date Column:"
   ]
  },
  {
   "cell_type": "code",
   "execution_count": 21,
   "metadata": {},
   "outputs": [],
   "source": [
    "# Change name of DayofMonth to Day to be compatible with to_datetime\n",
    "fd = fd.rename(index=str, columns={\"DayofMonth\": \"Day\"})"
   ]
  },
  {
   "cell_type": "code",
   "execution_count": 22,
   "metadata": {},
   "outputs": [],
   "source": [
    "# Create new Date column using Year, Month and Day columns\n",
    "fd['Date'] = pd.to_datetime(fd[['Year','Month','Day']])"
   ]
  },
  {
   "cell_type": "code",
   "execution_count": 23,
   "metadata": {},
   "outputs": [],
   "source": [
    "# Change new Date column data type to datetime\n",
    "fd.Date = pd.to_datetime(fd.Date)\n",
    "\n",
    "#fd.dtypes"
   ]
  },
  {
   "cell_type": "code",
   "execution_count": 24,
   "metadata": {},
   "outputs": [],
   "source": [
    "# Place new Date column in 0 index before all columns\n",
    "cols = fd.columns.tolist()\n",
    "cols.insert(0, cols.pop(cols.index('Date')))\n",
    "#cols"
   ]
  },
  {
   "cell_type": "code",
   "execution_count": 25,
   "metadata": {},
   "outputs": [],
   "source": [
    "# Derive new date_flights data frame\n",
    "date_flights = fd.reindex(columns= cols)"
   ]
  },
  {
   "cell_type": "code",
   "execution_count": 26,
   "metadata": {},
   "outputs": [
    {
     "data": {
      "text/html": [
       "<div>\n",
       "<style scoped>\n",
       "    .dataframe tbody tr th:only-of-type {\n",
       "        vertical-align: middle;\n",
       "    }\n",
       "\n",
       "    .dataframe tbody tr th {\n",
       "        vertical-align: top;\n",
       "    }\n",
       "\n",
       "    .dataframe thead th {\n",
       "        text-align: right;\n",
       "    }\n",
       "</style>\n",
       "<table border=\"1\" class=\"dataframe\">\n",
       "  <thead>\n",
       "    <tr style=\"text-align: right;\">\n",
       "      <th></th>\n",
       "      <th>Date</th>\n",
       "      <th>Year</th>\n",
       "      <th>Month</th>\n",
       "      <th>Day</th>\n",
       "      <th>DayOfWeek</th>\n",
       "      <th>DepTime</th>\n",
       "      <th>ArrTime</th>\n",
       "      <th>UniqueCarrier</th>\n",
       "      <th>FlightNum</th>\n",
       "      <th>TailNum</th>\n",
       "      <th>...</th>\n",
       "      <th>ArrDelay</th>\n",
       "      <th>DepDelay</th>\n",
       "      <th>Origin</th>\n",
       "      <th>Dest</th>\n",
       "      <th>Distance</th>\n",
       "      <th>TaxiIn</th>\n",
       "      <th>TaxiOut</th>\n",
       "      <th>Cancelled</th>\n",
       "      <th>CancellationCode</th>\n",
       "      <th>Diverted</th>\n",
       "    </tr>\n",
       "  </thead>\n",
       "  <tbody>\n",
       "    <tr>\n",
       "      <th>0</th>\n",
       "      <td>2011-01-01</td>\n",
       "      <td>2011</td>\n",
       "      <td>1</td>\n",
       "      <td>1</td>\n",
       "      <td>6</td>\n",
       "      <td>1400.0</td>\n",
       "      <td>1500.0</td>\n",
       "      <td>AA</td>\n",
       "      <td>428</td>\n",
       "      <td>N576AA</td>\n",
       "      <td>...</td>\n",
       "      <td>-10.0</td>\n",
       "      <td>0.0</td>\n",
       "      <td>IAH</td>\n",
       "      <td>DFW</td>\n",
       "      <td>224</td>\n",
       "      <td>7.0</td>\n",
       "      <td>13.0</td>\n",
       "      <td>0</td>\n",
       "      <td>NaN</td>\n",
       "      <td>0</td>\n",
       "    </tr>\n",
       "    <tr>\n",
       "      <th>1</th>\n",
       "      <td>2011-01-02</td>\n",
       "      <td>2011</td>\n",
       "      <td>1</td>\n",
       "      <td>2</td>\n",
       "      <td>7</td>\n",
       "      <td>1401.0</td>\n",
       "      <td>1501.0</td>\n",
       "      <td>AA</td>\n",
       "      <td>428</td>\n",
       "      <td>N557AA</td>\n",
       "      <td>...</td>\n",
       "      <td>-9.0</td>\n",
       "      <td>1.0</td>\n",
       "      <td>IAH</td>\n",
       "      <td>DFW</td>\n",
       "      <td>224</td>\n",
       "      <td>6.0</td>\n",
       "      <td>9.0</td>\n",
       "      <td>0</td>\n",
       "      <td>NaN</td>\n",
       "      <td>0</td>\n",
       "    </tr>\n",
       "    <tr>\n",
       "      <th>2</th>\n",
       "      <td>2011-01-03</td>\n",
       "      <td>2011</td>\n",
       "      <td>1</td>\n",
       "      <td>3</td>\n",
       "      <td>1</td>\n",
       "      <td>1352.0</td>\n",
       "      <td>1502.0</td>\n",
       "      <td>AA</td>\n",
       "      <td>428</td>\n",
       "      <td>N541AA</td>\n",
       "      <td>...</td>\n",
       "      <td>-8.0</td>\n",
       "      <td>-8.0</td>\n",
       "      <td>IAH</td>\n",
       "      <td>DFW</td>\n",
       "      <td>224</td>\n",
       "      <td>5.0</td>\n",
       "      <td>17.0</td>\n",
       "      <td>0</td>\n",
       "      <td>NaN</td>\n",
       "      <td>0</td>\n",
       "    </tr>\n",
       "    <tr>\n",
       "      <th>3</th>\n",
       "      <td>2011-01-04</td>\n",
       "      <td>2011</td>\n",
       "      <td>1</td>\n",
       "      <td>4</td>\n",
       "      <td>2</td>\n",
       "      <td>1403.0</td>\n",
       "      <td>1513.0</td>\n",
       "      <td>AA</td>\n",
       "      <td>428</td>\n",
       "      <td>N403AA</td>\n",
       "      <td>...</td>\n",
       "      <td>3.0</td>\n",
       "      <td>3.0</td>\n",
       "      <td>IAH</td>\n",
       "      <td>DFW</td>\n",
       "      <td>224</td>\n",
       "      <td>9.0</td>\n",
       "      <td>22.0</td>\n",
       "      <td>0</td>\n",
       "      <td>NaN</td>\n",
       "      <td>0</td>\n",
       "    </tr>\n",
       "    <tr>\n",
       "      <th>4</th>\n",
       "      <td>2011-01-05</td>\n",
       "      <td>2011</td>\n",
       "      <td>1</td>\n",
       "      <td>5</td>\n",
       "      <td>3</td>\n",
       "      <td>1405.0</td>\n",
       "      <td>1507.0</td>\n",
       "      <td>AA</td>\n",
       "      <td>428</td>\n",
       "      <td>N492AA</td>\n",
       "      <td>...</td>\n",
       "      <td>-3.0</td>\n",
       "      <td>5.0</td>\n",
       "      <td>IAH</td>\n",
       "      <td>DFW</td>\n",
       "      <td>224</td>\n",
       "      <td>9.0</td>\n",
       "      <td>9.0</td>\n",
       "      <td>0</td>\n",
       "      <td>NaN</td>\n",
       "      <td>0</td>\n",
       "    </tr>\n",
       "  </tbody>\n",
       "</table>\n",
       "<p>5 rows × 22 columns</p>\n",
       "</div>"
      ],
      "text/plain": [
       "        Date  Year  Month  Day  DayOfWeek  DepTime  ArrTime UniqueCarrier  \\\n",
       "0 2011-01-01  2011      1    1          6   1400.0   1500.0            AA   \n",
       "1 2011-01-02  2011      1    2          7   1401.0   1501.0            AA   \n",
       "2 2011-01-03  2011      1    3          1   1352.0   1502.0            AA   \n",
       "3 2011-01-04  2011      1    4          2   1403.0   1513.0            AA   \n",
       "4 2011-01-05  2011      1    5          3   1405.0   1507.0            AA   \n",
       "\n",
       "   FlightNum TailNum    ...     ArrDelay  DepDelay  Origin  Dest Distance  \\\n",
       "0        428  N576AA    ...        -10.0       0.0     IAH   DFW      224   \n",
       "1        428  N557AA    ...         -9.0       1.0     IAH   DFW      224   \n",
       "2        428  N541AA    ...         -8.0      -8.0     IAH   DFW      224   \n",
       "3        428  N403AA    ...          3.0       3.0     IAH   DFW      224   \n",
       "4        428  N492AA    ...         -3.0       5.0     IAH   DFW      224   \n",
       "\n",
       "  TaxiIn  TaxiOut  Cancelled  CancellationCode  Diverted  \n",
       "0    7.0     13.0          0               NaN         0  \n",
       "1    6.0      9.0          0               NaN         0  \n",
       "2    5.0     17.0          0               NaN         0  \n",
       "3    9.0     22.0          0               NaN         0  \n",
       "4    9.0      9.0          0               NaN         0  \n",
       "\n",
       "[5 rows x 22 columns]"
      ]
     },
     "execution_count": 26,
     "metadata": {},
     "output_type": "execute_result"
    }
   ],
   "source": [
    "date_flights.head()"
   ]
  },
  {
   "cell_type": "markdown",
   "metadata": {},
   "source": [
    "### Exploritory Data:"
   ]
  },
  {
   "cell_type": "markdown",
   "metadata": {},
   "source": [
    "#### How many Origin and Dest Airports, TailNum, and Unique Carriers are in this dataset?"
   ]
  },
  {
   "cell_type": "code",
   "execution_count": 41,
   "metadata": {},
   "outputs": [
    {
     "name": "stdout",
     "output_type": "stream",
     "text": [
      "Count of Origin Airports:  2\n",
      "Count of Destination Airports:  106\n"
     ]
    }
   ],
   "source": [
    "# Airports\n",
    "Origin = date_flights['Origin'].unique()\n",
    "Dest = date_flights['Dest'].unique()\n",
    "\n",
    "#print(\"Origin Aiports: \", Origin)\n",
    "print(\"Count of Origin Airports: \", len(Origin))\n",
    "#print(\"Destination Airports: \", Dest)\n",
    "print(\"Count of Destination Airports: \", len(Dest))"
   ]
  },
  {
   "cell_type": "code",
   "execution_count": 45,
   "metadata": {},
   "outputs": [
    {
     "name": "stdout",
     "output_type": "stream",
     "text": [
      "Tail numbers:  ['N576AA' 'N557AA' 'N541AA' ... 'N273JB' 'N198JB' 'N59053']\n",
      "Count of Tailnumbers:  2031\n"
     ]
    }
   ],
   "source": [
    "# TailNum\n",
    "TailNum = date_flights['TailNum'].unique()\n",
    "\n",
    "#print(\"Tail numbers: \", TailNum)\n",
    "print(\"Count of Tailnumbers: \", len(TailNum))"
   ]
  },
  {
   "cell_type": "code",
   "execution_count": 51,
   "metadata": {},
   "outputs": [
    {
     "name": "stdout",
     "output_type": "stream",
     "text": [
      "Carriers:  ['AA' 'AS' 'B6' 'CO' 'DL' 'OO' 'UA' 'US' 'WN' 'EV' 'F9' 'FL' 'MQ' 'XE']\n",
      "Count of Carriers:  14\n"
     ]
    }
   ],
   "source": [
    "# Carriers\n",
    "Carriers = date_flights['UniqueCarrier'].unique()\n",
    "print(\"Carriers: \", Carriers)\n",
    "print(\"Count of Carriers: \", len(Carriers))"
   ]
  },
  {
   "cell_type": "markdown",
   "metadata": {},
   "source": [
    "#### (1) Which Carrier has the most flights?"
   ]
  },
  {
   "cell_type": "code",
   "execution_count": 69,
   "metadata": {},
   "outputs": [],
   "source": [
    "AA = len(date_flights[(date_flights.UniqueCarrier == 'AA')])\n",
    "AS = len(date_flights[(date_flights.UniqueCarrier == 'AS')])\n",
    "B6 = len(date_flights[(date_flights.UniqueCarrier == 'B6')])\n",
    "CO = len(date_flights[(date_flights.UniqueCarrier == 'CO')])\n",
    "DL = len(date_flights[(date_flights.UniqueCarrier == 'DL')])\n",
    "OO = len(date_flights[(date_flights.UniqueCarrier == 'OO')])\n",
    "UA = len(date_flights[(date_flights.UniqueCarrier == 'UA')])\n",
    "US = len(date_flights[(date_flights.UniqueCarrier == 'US')])\n",
    "WN = len(date_flights[(date_flights.UniqueCarrier == 'WN')])\n",
    "EV = len(date_flights[(date_flights.UniqueCarrier == 'EV')])\n",
    "F9 = len(date_flights[(date_flights.UniqueCarrier == 'F9')])\n",
    "FL = len(date_flights[(date_flights.UniqueCarrier == 'FL')])\n",
    "MQ = len(date_flights[(date_flights.UniqueCarrier == 'MQ')])\n",
    "XE = len(date_flights[(date_flights.UniqueCarrier == 'XE')])"
   ]
  },
  {
   "cell_type": "code",
   "execution_count": 75,
   "metadata": {},
   "outputs": [
    {
     "data": {
      "image/png": "[encoded data removed]",
      "text/plain": [
       "<Figure size 432x288 with 1 Axes>"
      ]
     },
     "metadata": {
      "needs_background": "light"
     },
     "output_type": "display_data"
    }
   ],
   "source": [
    "plane_count = len(TailNum)\n",
    "Planes = {\"Carriers\":['AA', 'AS', 'B6', 'CO', 'DL', 'OO', 'UA', 'US', 'WN', 'EV', 'F9', 'FL', 'MQ', 'XE'],\n",
    "         \"Plane Count\": [AA, AS, B6, CO, DL, OO, UA, US, WN, EV, F9, FL, MQ, XE]}\n",
    "\n",
    "Carrier_Planes = pd.DataFrame(Planes)\n",
    "Carrier_Planes = Carrier_Planes.sort_values(by=\"Plane Count\", ascending = False)\n",
    "#Carrier_Planes\n",
    "\n",
    "ax = Carrier_Planes.plot.bar(x='Carriers', y='Plane Count', rot=0)"
   ]
  },
  {
   "cell_type": "markdown",
   "metadata": {},
   "source": [
    "#### (2) Out of the two carriers with the most flights, which Carrier Has the lowest average delay?"
   ]
  },
  {
   "cell_type": "code",
   "execution_count": 146,
   "metadata": {},
   "outputs": [],
   "source": [
    "# Create new column for Total Delay time by adding ArrDelay and DepDelay\n",
    "date_flights['Total_Delay'] = date_flights.ArrDelay + date_flights.DepDelay\n",
    "# Place new Total Delay column in 8 index between AirTime and ArrDelay\n",
    "cols = date_flights.columns.tolist()\n",
    "cols.insert(8, cols.pop(cols.index('Total_Delay')))\n",
    "date_flights = date_flights.reindex(columns= cols)"
   ]
  },
  {
   "cell_type": "code",
   "execution_count": 151,
   "metadata": {},
   "outputs": [
    {
     "name": "stdout",
     "output_type": "stream",
     "text": [
      "CO Average Delay:  36.706454226302995 Minutes\n"
     ]
    }
   ],
   "source": [
    "Carrier_Delay = date_flights[['UniqueCarrier', 'Total_Delay']]\n",
    "\n",
    "CO_Delay = Carrier_Delay[(Carrier_Delay.UniqueCarrier == \"CO\") & (Carrier_Delay.Total_Delay > 0)]\n",
    "#CO_Delay.head()\n",
    "count = len(CO_Delay)\n",
    "#Carriers = Carrier_Delay['UniqueCarrier'].unique()\n",
    "#Carriers\n",
    "\n",
    "# Average CO Delay Time\n",
    "CO_Delay = CO_Delay['Total_Delay'].sum()\n",
    "Average_CO_Delay = CO_Delay/count\n",
    "print(\"CO Average Delay: \", Average_CO_Delay, \"Minutes\")"
   ]
  },
  {
   "cell_type": "code",
   "execution_count": 152,
   "metadata": {},
   "outputs": [
    {
     "name": "stdout",
     "output_type": "stream",
     "text": [
      "XE Average Delay:  31.877608772550406 Minutes\n"
     ]
    }
   ],
   "source": [
    "XE_Delay = Carrier_Delay[(Carrier_Delay.UniqueCarrier == \"XE\") & (Carrier_Delay.Total_Delay > 0)]\n",
    "XE_Delay.head()\n",
    "\n",
    "count = len(XE_Delay)\n",
    "#Carriers = Carrier_Delay['UniqueCarrier'].unique()\n",
    "#Carriers\n",
    "\n",
    "# Average XE Delay Time\n",
    "XE_Delay = XE_Delay['Total_Delay'].sum()\n",
    "Average_XE_Delay = XE_Delay/count\n",
    "print(\"XE Average Delay: \", Average_XE_Delay, \"Minutes\")"
   ]
  },
  {
   "cell_type": "code",
   "execution_count": 153,
   "metadata": {},
   "outputs": [
    {
     "data": {
      "image/png": "[encoded data removed]",
      "text/plain": [
       "<Figure size 432x288 with 1 Axes>"
      ]
     },
     "metadata": {
      "needs_background": "light"
     },
     "output_type": "display_data"
    }
   ],
   "source": [
    "plane_count = len(TailNum)\n",
    "Delays = {\"Carriers\":['CO', 'XE'],\n",
    "         \"Average Delay\": [Average_CO_Delay, Average_XE_Delay]}\n",
    "\n",
    "Carrier_Planes = pd.DataFrame(Delays)\n",
    "Carrier_Planes = Carrier_Planes.sort_values(by=\"Average Delay\", ascending = False)\n",
    "#Carrier_Planes\n",
    "\n",
    "ax = Carrier_Planes.plot.bar(x='Carriers', y='Average Delay', rot=0)"
   ]
  },
  {
   "cell_type": "markdown",
   "metadata": {},
   "source": [
    "#### (3) Which airport has more departing flights?"
   ]
  },
  {
   "cell_type": "code",
   "execution_count": 136,
   "metadata": {},
   "outputs": [
    {
     "name": "stdout",
     "output_type": "stream",
     "text": [
      "HOU flights:  4319\n",
      "IAH flights:  15681\n"
     ]
    }
   ],
   "source": [
    "flights_data.Origin.unique()\n",
    "flights_data.Origin.unique()\n",
    "\n",
    "HOU_flights = flights_data[(flights_data.Origin == 'HOU')]\n",
    "IAH_flights = flights_data[(flights_data.Origin == 'IAH')]\n",
    "\n",
    "print(\"HOU flights: \", len(HOU_flights))\n",
    "print(\"IAH flights: \", len(IAH_flights))"
   ]
  },
  {
   "cell_type": "code",
   "execution_count": null,
   "metadata": {},
   "outputs": [],
   "source": []
  }
 ],
 "metadata": {
  "kernelspec": {
   "display_name": "Python 3",
   "language": "python",
   "name": "python3"
  },
  "language_info": {
   "codemirror_mode": {
    "name": "ipython",
    "version": 3
   },
   "file_extension": ".py",
   "mimetype": "text/x-python",
   "name": "python",
   "nbconvert_exporter": "python",
   "pygments_lexer": "ipython3",
   "version": "3.7.1"
  }
 },
 "nbformat": 4,
 "nbformat_minor": 2
}
