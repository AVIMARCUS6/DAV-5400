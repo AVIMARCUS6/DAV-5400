{
 "cells": [
  {
   "cell_type": "markdown",
   "metadata": {},
   "source": [
    "# DAV 5400 Final Project Proposal Guidelines\n",
    "Avi Marcus"
   ]
  },
  {
   "cell_type": "markdown",
   "metadata": {},
   "source": [
    "## Introduction"
   ]
  },
  {
   "cell_type": "markdown",
   "metadata": {},
   "source": [
    "***\n",
    "It is no secret that when utilized properly, data analysis and statistics can turn around any team. In recent years it has become popular among players to sacrifice a portion of their salary, in order to expand their team, while staying bellow their salary cap. This project will try to uncover the justification for players salary, the effect of a players performance on their salary, and the effect of their salary on their performance."
   ]
  },
  {
   "cell_type": "markdown",
   "metadata": {},
   "source": [
    "## Research Questions"
   ]
  },
  {
   "cell_type": "markdown",
   "metadata": {},
   "source": [
    "***\n",
    "- Which players do teams spend the most of their salary cap on?\n",
    "    - Every year each NBA team is given a salary cap which they must abide by. Therefore an assumption arises, that a player who takes up most of the salary cap must be the best player on the team. Answering this question should result in a list of the best players of each team and the league in addition to the highest paid player for each team.\n",
    "- Do the player's performance justify their salary?\n",
    "    - Out of these top paid players, does their performance justify the money they are making? There are two approaches to answering this question. The first way basis performance off of PER (Player Efficiency Rating) and salary. If there are players with Higher PER but lower salary than it can be assumed that the players salary is not justified. The second method uses win share to track performance. Player win share is an estimate of the number of wins attributed to a player. Meaning how many games did the player play a key role in the victory.  \n",
    "- Where do the highest paid player for each team land in the rankings of the highest paid players of the league?\n",
    "    - Even if a player is found to be the highest paid player for his team, it doesn’t make him one of the highest paid players in the league. A single team could have multiple players with salaries greater than the highest paid player on another team. This analysis will show if teams are paying enough for their top players. \n",
    "- If there is a discrepancy between the highest paid player for a team in comparison to the league, how does their performance match up to those that are being paid more?\n",
    "    - For those top paid players from among their teammates are paid less than regular players on other teams, does their performance justify not being paid as much?\n"
   ]
  },
  {
   "cell_type": "markdown",
   "metadata": {},
   "source": [
    "## Data to be Used"
   ]
  },
  {
   "cell_type": "markdown",
   "metadata": {},
   "source": [
    "***\n",
    "The data I will be using are:\n",
    "- NBA Database containing collection of data from 1937 - 2011\n",
    "    - https://relational.fit.cvut.cz/dataset/NBA\n",
    "    - Data from this source will be loaded into a SQL instance and queried accordinly\n",
    "- NBA Player Salaries from 1990 - 2018\n",
    "    - https://data.world/datadavis/nba-salaries/workspace/file?filename=nba_salaries_1990_to_2018.csv\n",
    "    - Salaries for each individual player for each year of their career\n",
    "    - CSV Data will be uploaded to a pandas dataframe \n",
    "- NBA Player Salaries\n",
    "    - Another source of data containing information for player salaries\n",
    "    - https://relational.fit.cvut.cz/dataset/NBA\n",
    "    - Data from this source will be loaded into a SQL instance and queried accordinly\n",
    "- NBA Team Salary Cap History:\n",
    "    - http://www.celticshub.com/2017/12/07/nba-player-salaries-1991-2017/\n",
    "    - Salary caps for each team each year they were active.\n",
    "    - Data will downloaded as a CSV file from google sheets and then uploaded to a pandas dataframe"
   ]
  },
  {
   "cell_type": "markdown",
   "metadata": {},
   "source": [
    "## Approach"
   ]
  },
  {
   "cell_type": "markdown",
   "metadata": {},
   "source": [
    "***\n",
    "- The data from the NBA database will be accessed using MySQL. \n",
    "- The data will then be transferred via python to a pandas data frame.\n",
    "- The NBA Salary data will be imported into python as a CSV\n",
    "- All of the imported data will then be cleaned\n",
    "    - the Salary cap data will also need to be transformed from wide format to long format\n",
    "    - Players will then be grouped by year, team, salary or year, team, performance rating and ordered according to each for each year\n",
    "    - Teams will also be grouped by years and then ordered by salary caps\n",
    "- A new variable will be created for player's salary share, which will be created by dividing the team salary cap for a specific year, by the players salary for that year\n",
    "    - This will be done for each team separately\n",
    "- Bar plots will then be constructed for the highest paid players and teams with the highest cap\n",
    "- Line graphs will be used to map salary caps of each team throughout NBA history\n",
    "- Scatter plot displaying player salaries and player efficiency rating\n",
    "    - Is there a relationship between how much a player makes and how well they play?"
   ]
  }
 ],
 "metadata": {
  "kernelspec": {
   "display_name": "Python 3",
   "language": "python",
   "name": "python3"
  },
  "language_info": {
   "codemirror_mode": {
    "name": "ipython",
    "version": 3
   },
   "file_extension": ".py",
   "mimetype": "text/x-python",
   "name": "python",
   "nbconvert_exporter": "python",
   "pygments_lexer": "ipython3",
   "version": "3.7.1"
  }
 },
 "nbformat": 4,
 "nbformat_minor": 2
}
