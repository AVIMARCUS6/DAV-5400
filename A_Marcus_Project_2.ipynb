{
 "cells": [
  {
   "cell_type": "code",
   "execution_count": 1,
   "metadata": {},
   "outputs": [],
   "source": [
    "import pandas as pd\n",
    "import numpy as np\n",
    "import seaborn as sns\n",
    "import matplotlib.pyplot as plt\n",
    "from scipy import stats\n",
    "\n",
    "filename = (\"https://raw.githubusercontent.com/AVIMARCUS6/DAV-5400/master/Arrests.csv\")\n",
    "weed_df = pd.read_csv(filename)\n",
    "\n",
    "weed_df = weed_df.drop(['Unnamed: 0'], axis = 1)"
   ]
  },
  {
   "cell_type": "markdown",
   "metadata": {},
   "source": [
    "#### Part 1: Introduction – A brief summary of the type of data you’ve chosen to work with and the research question you hope to answer with it.\n",
    "\n",
    "- Questions\n",
    "    - What is the age distribution of people arrested?\n",
    "        - By Gender?\n",
    "        - By Race?\n",
    "    - Is there a relationship between Race ('Colour') and "
   ]
  },
  {
   "cell_type": "markdown",
   "metadata": {},
   "source": [
    "## Part 2: Data Summary – Explain where you acquired your data from; how many use cases your data set provides; how many attributes are in each use case; what the data types are for each of the attributes; etc. (use cases = how many rows?)\n",
    "- The data was collected from 5226 people (use cases) arrested in Toronto for possession of small quantities of marijuana between 1997 and 2002.\n",
    "- There are 8 attributes: 'released', 'colour', 'year', 'age', 'sex', 'employed', 'citizen', 'checks'.\n",
    "- https://vincentarelbundock.github.io/Rdatasets/datasets.html\n",
    "- https://vincentarelbundock.github.io/Rdatasets/doc/carData/Arrests.html"
   ]
  },
  {
   "cell_type": "code",
   "execution_count": 4,
   "metadata": {},
   "outputs": [
    {
     "data": {
      "text/plain": [
       "(5226, 8)"
      ]
     },
     "execution_count": 4,
     "metadata": {},
     "output_type": "execute_result"
    }
   ],
   "source": [
    "weed_df.shape"
   ]
  },
  {
   "cell_type": "code",
   "execution_count": 3,
   "metadata": {},
   "outputs": [
    {
     "data": {
      "text/plain": [
       "Index(['released', 'colour', 'year', 'age', 'sex', 'employed', 'citizen',\n",
       "       'checks'],\n",
       "      dtype='object')"
      ]
     },
     "execution_count": 3,
     "metadata": {},
     "output_type": "execute_result"
    }
   ],
   "source": [
    "weed_df.columns"
   ]
  },
  {
   "cell_type": "code",
   "execution_count": 2,
   "metadata": {},
   "outputs": [
    {
     "data": {
      "text/plain": [
       "released    object\n",
       "colour      object\n",
       "year         int64\n",
       "age          int64\n",
       "sex         object\n",
       "employed    object\n",
       "citizen     object\n",
       "checks       int64\n",
       "dtype: object"
      ]
     },
     "execution_count": 2,
     "metadata": {},
     "output_type": "execute_result"
    }
   ],
   "source": [
    "weed_df.dtypes"
   ]
  },
  {
   "cell_type": "markdown",
   "metadata": {},
   "source": [
    "## Part 3: Exploratory Data Analysis (EDA) \n",
    "- Provide summary statistics for each attribute; "
   ]
  },
  {
   "cell_type": "code",
   "execution_count": 6,
   "metadata": {},
   "outputs": [
    {
     "data": {
      "text/plain": [
       "count     5226\n",
       "unique       2\n",
       "top        Yes\n",
       "freq      4334\n",
       "Name: released, dtype: object"
      ]
     },
     "execution_count": 6,
     "metadata": {},
     "output_type": "execute_result"
    }
   ],
   "source": [
    "weed_df['released'].describe()"
   ]
  },
  {
   "cell_type": "code",
   "execution_count": 7,
   "metadata": {},
   "outputs": [
    {
     "data": {
      "text/plain": [
       "count      5226\n",
       "unique        2\n",
       "top       White\n",
       "freq       3938\n",
       "Name: colour, dtype: object"
      ]
     },
     "execution_count": 7,
     "metadata": {},
     "output_type": "execute_result"
    }
   ],
   "source": [
    "weed_df['colour'].describe()"
   ]
  },
  {
   "cell_type": "code",
   "execution_count": 10,
   "metadata": {},
   "outputs": [
    {
     "data": {
      "text/plain": [
       "count     5226\n",
       "unique       2\n",
       "top       Male\n",
       "freq      4783\n",
       "Name: sex, dtype: object"
      ]
     },
     "execution_count": 10,
     "metadata": {},
     "output_type": "execute_result"
    }
   ],
   "source": [
    "weed_df['sex'].describe()"
   ]
  },
  {
   "cell_type": "code",
   "execution_count": 11,
   "metadata": {},
   "outputs": [
    {
     "data": {
      "text/plain": [
       "count     5226\n",
       "unique       2\n",
       "top        Yes\n",
       "freq      4111\n",
       "Name: employed, dtype: object"
      ]
     },
     "execution_count": 11,
     "metadata": {},
     "output_type": "execute_result"
    }
   ],
   "source": [
    "weed_df['employed'].describe()"
   ]
  },
  {
   "cell_type": "code",
   "execution_count": 12,
   "metadata": {},
   "outputs": [
    {
     "data": {
      "text/plain": [
       "count     5226\n",
       "unique       2\n",
       "top        Yes\n",
       "freq      4455\n",
       "Name: citizen, dtype: object"
      ]
     },
     "execution_count": 12,
     "metadata": {},
     "output_type": "execute_result"
    }
   ],
   "source": [
    "weed_df['citizen'].describe()"
   ]
  },
  {
   "cell_type": "code",
   "execution_count": 8,
   "metadata": {},
   "outputs": [
    {
     "data": {
      "text/plain": [
       "count    5226.000000\n",
       "mean     1999.509376\n",
       "std         1.390056\n",
       "min      1997.000000\n",
       "25%      1998.000000\n",
       "50%      2000.000000\n",
       "75%      2001.000000\n",
       "max      2002.000000\n",
       "Name: year, dtype: float64"
      ]
     },
     "execution_count": 8,
     "metadata": {},
     "output_type": "execute_result"
    }
   ],
   "source": [
    "weed_df['year'].describe()"
   ]
  },
  {
   "cell_type": "code",
   "execution_count": 9,
   "metadata": {},
   "outputs": [
    {
     "data": {
      "text/plain": [
       "count    5226.000000\n",
       "mean       23.846537\n",
       "std         8.316133\n",
       "min        12.000000\n",
       "25%        18.000000\n",
       "50%        21.000000\n",
       "75%        27.000000\n",
       "max        66.000000\n",
       "Name: age, dtype: float64"
      ]
     },
     "execution_count": 9,
     "metadata": {},
     "output_type": "execute_result"
    }
   ],
   "source": [
    "weed_df['age'].describe()"
   ]
  },
  {
   "cell_type": "code",
   "execution_count": 13,
   "metadata": {},
   "outputs": [
    {
     "data": {
      "text/plain": [
       "count    5226.000000\n",
       "mean        1.636433\n",
       "std         1.539230\n",
       "min         0.000000\n",
       "25%         0.000000\n",
       "50%         1.000000\n",
       "75%         3.000000\n",
       "max         6.000000\n",
       "Name: checks, dtype: float64"
      ]
     },
     "execution_count": 13,
     "metadata": {},
     "output_type": "execute_result"
    }
   ],
   "source": [
    "weed_df['checks'].describe()"
   ]
  },
  {
   "cell_type": "markdown",
   "metadata": {},
   "source": [
    "- provide appropriate graphical analysis for each attribute using both Matplotlib and Seaborn. For example, if you believe it is appropriate to generate a histogram for a particular variable as part of your EDA, create it first using Matplotlib and then once again using Seaborn. Include a narrative describing your EDA findings."
   ]
  },
  {
   "cell_type": "markdown",
   "metadata": {},
   "source": [
    "Matplotlib:"
   ]
  },
  {
   "cell_type": "code",
   "execution_count": 14,
   "metadata": {},
   "outputs": [
    {
     "data": {
      "image/png": "[encoded data removed]",
      "text/plain": [
       "<Figure size 432x288 with 5 Axes>"
      ]
     },
     "metadata": {
      "needs_background": "light"
     },
     "output_type": "display_data"
    }
   ],
   "source": [
    "# Create sublot 1 containing bar plot for released\n",
    "plt.subplot(231)\n",
    "released = weed_df['released']\n",
    "realeasedbar = released.value_counts().plot.bar(title = \"Freq Dist by Released\")\n",
    "plt.xlabel(\"Released\")\n",
    "plt.ylabel(\"Count\")\n",
    "plt.grid(True)\n",
    "\n",
    "# Create sublot 2 containing bar plot for Race\n",
    "plt.subplot(232)\n",
    "colour = weed_df['colour']\n",
    "colourbar = colour.value_counts().plot.bar(title = \"Freq Dist by Race\")\n",
    "plt.xlabel(\"Race\")\n",
    "plt.ylabel(\"Count\")\n",
    "plt.grid(True)\n",
    "\n",
    "# Create sublot 1 containing bar plot for Gender\n",
    "plt.subplot(233)\n",
    "sex = weed_df['sex']\n",
    "sexbar = sex.value_counts().plot.bar(title = \"Freq Dist by Gender\")\n",
    "plt.xlabel(\"Sex\")\n",
    "plt.ylabel(\"Count\")\n",
    "plt.grid(True)\n",
    "\n",
    "# Create sublot 1 containing bar plot for Employed\n",
    "plt.subplot(234)\n",
    "employed = weed_df['employed']\n",
    "employedbar = employed.value_counts().plot.bar(title = \"Freq Dist by Employed\")\n",
    "plt.xlabel(\"Employed\")\n",
    "plt.ylabel(\"Count\")\n",
    "plt.grid(True)\n",
    "\n",
    "# Create sublot 1 containing bar plot for Citizen\n",
    "plt.subplot(235)\n",
    "citizen = weed_df['citizen']\n",
    "citizenbar = citizen.value_counts().plot.bar(title = \"Freq Dist by Citizen\")\n",
    "plt.xlabel(\"Citizen\")\n",
    "plt.ylabel(\"Count\")\n",
    "plt.grid(True)\n",
    "\n",
    "# adjust subplots to fit properly\n",
    "plt.subplots_adjust(top=0.92, bottom=0.08, left=0.05, right=0.95, hspace=0.4,\n",
    "                    wspace=0.5)\n",
    "plt.tight_layout()"
   ]
  },
  {
   "cell_type": "code",
   "execution_count": 16,
   "metadata": {},
   "outputs": [
    {
     "data": {
      "text/plain": [
       "[<matplotlib.lines.Line2D at 0x1a21213048>]"
      ]
     },
     "execution_count": 16,
     "metadata": {},
     "output_type": "execute_result"
    },
    {
     "data": {
      "image/png": "[encoded data removed]",
      "text/plain": [
       "<Figure size 432x288 with 1 Axes>"
      ]
     },
     "metadata": {
      "needs_background": "light"
     },
     "output_type": "display_data"
    }
   ],
   "source": [
    "years = weed_df['year'].unique()\n",
    "years.sort()\n",
    "#years\n",
    "## https://pandas.pydata.org/pandas-docs/version/0.18/generated/pandas.DataFrame.sort.html\n",
    "\n",
    "counts = weed_df['year'].value_counts().sort_index()\n",
    "#counts\n",
    "## https://pandas.pydata.org/pandas-docs/stable/reference/api/pandas.Series.value_counts.html\n",
    "\n",
    "plt.plot(years, counts)"
   ]
  },
  {
   "cell_type": "code",
   "execution_count": 20,
   "metadata": {},
   "outputs": [
    {
     "data": {
      "image/png": "[encoded data removed]",
      "text/plain": [
       "<Figure size 432x288 with 1 Axes>"
      ]
     },
     "metadata": {
      "needs_background": "light"
     },
     "output_type": "display_data"
    }
   ],
   "source": [
    "# select age from dataframe\n",
    "age = weed_df['age']\n",
    "# Histogram of number of arrests for each age over all years\n",
    "age.plot.hist(grid=True, bins=15, rwidth=0.8, color='b')\n",
    "plt.title('Arrest Ages')\n",
    "plt.xlabel('Ages')\n",
    "plt.ylabel('Counts')\n",
    "plt.grid(axis='y', alpha=0.75)"
   ]
  },
  {
   "cell_type": "markdown",
   "metadata": {},
   "source": [
    "Seaborn:"
   ]
  },
  {
   "cell_type": "code",
   "execution_count": 15,
   "metadata": {},
   "outputs": [
    {
     "data": {
      "image/png": "[encoded data removed]",
      "text/plain": [
       "<Figure size 432x288 with 5 Axes>"
      ]
     },
     "metadata": {
      "needs_background": "light"
     },
     "output_type": "display_data"
    }
   ],
   "source": [
    "# Create sublot 1 containing bar plot for released\n",
    "plt.subplot(231)\n",
    "released = weed_df['released']\n",
    "realeasedbar = released.value_counts().plot.bar(title = \"Freq Dist by Released\")\n",
    "plt.xlabel(\"Released\")\n",
    "plt.ylabel(\"Count\")\n",
    "plt.grid(True)\n",
    "\n",
    "# Create sublot 2 containing bar plot for Race\n",
    "plt.subplot(232)\n",
    "colour = weed_df['colour']\n",
    "colourbar = colour.value_counts().plot.bar(title = \"Freq Dist by Race\")\n",
    "plt.xlabel(\"Race\")\n",
    "plt.ylabel(\"Count\")\n",
    "plt.grid(True)\n",
    "\n",
    "# Create sublot 1 containing bar plot for Gender\n",
    "plt.subplot(233)\n",
    "sex = weed_df['sex']\n",
    "sexbar = sex.value_counts().plot.bar(title = \"Freq Dist by Gender\")\n",
    "plt.xlabel(\"Sex\")\n",
    "plt.ylabel(\"Count\")\n",
    "plt.grid(True)\n",
    "\n",
    "# Create sublot 1 containing bar plot for Employed\n",
    "plt.subplot(234)\n",
    "employed = weed_df['employed']\n",
    "employedbar = employed.value_counts().plot.bar(title = \"Freq Dist by Employed\")\n",
    "plt.xlabel(\"Employed\")\n",
    "plt.ylabel(\"Count\")\n",
    "plt.grid(True)\n",
    "\n",
    "# Create sublot 1 containing bar plot for Citizen\n",
    "plt.subplot(235)\n",
    "citizen = weed_df['citizen']\n",
    "citizenbar = citizen.value_counts().plot.bar(title = \"Freq Dist by Citizen\")\n",
    "plt.xlabel(\"Citizen\")\n",
    "plt.ylabel(\"Count\")\n",
    "plt.grid(True)\n",
    "\n",
    "plt.subplots_adjust(top=0.92, bottom=0.08, left=0.05, right=0.95, hspace=0.4,\n",
    "                    wspace=0.5)\n",
    "plt.tight_layout()"
   ]
  },
  {
   "cell_type": "code",
   "execution_count": 17,
   "metadata": {},
   "outputs": [
    {
     "data": {
      "text/plain": [
       "<matplotlib.axes._subplots.AxesSubplot at 0x1a21e6e198>"
      ]
     },
     "execution_count": 17,
     "metadata": {},
     "output_type": "execute_result"
    },
    {
     "data": {
      "image/png": "[encoded data removed]",
      "text/plain": [
       "<Figure size 432x288 with 1 Axes>"
      ]
     },
     "metadata": {
      "needs_background": "light"
     },
     "output_type": "display_data"
    }
   ],
   "source": [
    "years = weed_df['year'].unique()\n",
    "years.sort()\n",
    "#years\n",
    "\n",
    "## https://pandas.pydata.org/pandas-docs/version/0.18/generated/pandas.DataFrame.sort.html\n",
    "\n",
    "counts = weed_df['year'].value_counts().sort_index()\n",
    "#counts\n",
    "## https://pandas.pydata.org/pandas-docs/stable/reference/api/pandas.Series.value_counts.html\n",
    "\n",
    "counts.plot()"
   ]
  },
  {
   "cell_type": "code",
   "execution_count": 18,
   "metadata": {},
   "outputs": [
    {
     "name": "stderr",
     "output_type": "stream",
     "text": [
      "/anaconda3/lib/python3.7/site-packages/scipy/stats/stats.py:1713: FutureWarning: Using a non-tuple sequence for multidimensional indexing is deprecated; use `arr[tuple(seq)]` instead of `arr[seq]`. In the future this will be interpreted as an array index, `arr[np.array(seq)]`, which will result either in an error or a different result.\n",
      "  return np.add.reduce(sorted[indexer] * weights, axis=axis) / sumval\n"
     ]
    },
    {
     "data": {
      "text/plain": [
       "<matplotlib.axes._subplots.AxesSubplot at 0x1a225c8eb8>"
      ]
     },
     "execution_count": 18,
     "metadata": {},
     "output_type": "execute_result"
    },
    {
     "data": {
      "image/png": "[encoded data removed]",
      "text/plain": [
       "<Figure size 432x288 with 1 Axes>"
      ]
     },
     "metadata": {
      "needs_background": "light"
     },
     "output_type": "display_data"
    }
   ],
   "source": [
    "sns.distplot(weed_df['age'], color=\"b\")"
   ]
  },
  {
   "cell_type": "markdown",
   "metadata": {},
   "source": [
    "#### Part 4: Inference – Perform whatever analysis is necessary to answer your research question. Your analysis should include at least one graphic, and for each graphic you create you must do so using both Matplotlib and Seaborn (as described in Part 3 above). Include a narrative explaining your research approach and findings.\n",
    "\n",
    "I have been tasked in investigating if there are any defining trends that can be found as to who the forces focus should be on in order to better the sittuation.\n",
    "\n",
    "Some questions I have decided to ask in this research are:\n",
    "- Has there been a change in number of arrests over time?\n",
    "- Has there been a change in the ages of those arrested over time?\n",
    "- Which gender has more arrests? Which race?\n",
    "    - Out of those how many where citizens? \n",
    "    - How many were employed?"
   ]
  },
  {
   "cell_type": "code",
   "execution_count": 21,
   "metadata": {},
   "outputs": [
    {
     "name": "stderr",
     "output_type": "stream",
     "text": [
      "/anaconda3/lib/python3.7/site-packages/scipy/stats/stats.py:1713: FutureWarning: Using a non-tuple sequence for multidimensional indexing is deprecated; use `arr[tuple(seq)]` instead of `arr[seq]`. In the future this will be interpreted as an array index, `arr[np.array(seq)]`, which will result either in an error or a different result.\n",
      "  return np.add.reduce(sorted[indexer] * weights, axis=axis) / sumval\n"
     ]
    },
    {
     "data": {
      "text/plain": [
       "<matplotlib.axes._subplots.AxesSubplot at 0x1a2368a400>"
      ]
     },
     "execution_count": 21,
     "metadata": {},
     "output_type": "execute_result"
    },
    {
     "data": {
      "image/png": "[encoded data removed]",
      "text/plain": [
       "<Figure size 504x504 with 6 Axes>"
      ]
     },
     "metadata": {
      "needs_background": "light"
     },
     "output_type": "display_data"
    }
   ],
   "source": [
    "# select age from dataframe\n",
    "age = weed_df['age']\n",
    "\n",
    "# create dataframe with only 1997 data\n",
    "age1997 = weed_df[weed_df['year'] == 1997]\n",
    "age1997 = age1997['age']\n",
    "#age1997\n",
    "\n",
    "# create dataframe with only 1998 data\n",
    "age1998 = weed_df[weed_df['year'] == 1998]\n",
    "age1998 = age1998['age']\n",
    "#age1998\n",
    "\n",
    "# create dataframe with only 1999 data\n",
    "age1999 = weed_df[weed_df['year'] == 1999]\n",
    "age1999 = age1999['age']\n",
    "#age1999\n",
    "\n",
    "# create dataframe with only 2000 data\n",
    "age2000 = weed_df[weed_df['year'] == 2000]\n",
    "age2000 = age2000['age']\n",
    "#age2000\n",
    "\n",
    "# create dataframe with only 2001 data\n",
    "age2001 = weed_df[weed_df['year'] == 2001]\n",
    "age2001 = age2001['age']\n",
    "#age2001\n",
    "\n",
    "# create dataframe with only 2002 data\n",
    "age2002 = weed_df[weed_df['year'] == 2002]\n",
    "age2002 = age2002['age']\n",
    "#age2002\n",
    "\n",
    "f, axes = plt.subplots(2, 3, figsize=(7, 7), sharex=False)\n",
    "sns.despine(left=True)\n",
    "\n",
    "sns.distplot(age1997, color=\"b\", ax=axes[0, 0])\n",
    "sns.distplot(age1998, color=\"b\", ax=axes[0, 1])\n",
    "sns.distplot(age1999, color=\"b\", ax=axes[0, 2])\n",
    "sns.distplot(age2000, color=\"b\", ax=axes[1, 0])\n",
    "sns.distplot(age2001, color=\"b\", ax=axes[1, 1])\n",
    "sns.distplot(age2002, color=\"b\", ax=axes[1, 2])   "
   ]
  },
  {
   "cell_type": "code",
   "execution_count": 22,
   "metadata": {},
   "outputs": [
    {
     "data": {
      "image/png": "[encoded data removed]",
      "text/plain": [
       "<Figure size 432x288 with 1 Axes>"
      ]
     },
     "metadata": {
      "needs_background": "light"
     },
     "output_type": "display_data"
    }
   ],
   "source": [
    "colour = weed_df['colour']\n",
    "colourbar = colour.value_counts().plot.bar(title = \"Freq Dist by Race\")\n",
    "plt.xlabel(\"Race\")\n",
    "plt.ylabel(\"Count\")\n",
    "plt.grid(True)"
   ]
  },
  {
   "cell_type": "code",
   "execution_count": 26,
   "metadata": {},
   "outputs": [
    {
     "ename": "SyntaxError",
     "evalue": "unexpected EOF while parsing (<ipython-input-26-adbec85cbd46>, line 1)",
     "output_type": "error",
     "traceback": [
      "\u001b[0;36m  File \u001b[0;32m\"<ipython-input-26-adbec85cbd46>\"\u001b[0;36m, line \u001b[0;32m1\u001b[0m\n\u001b[0;31m    male = weed_df[weed_df['colour' & weed_df['sex'] == \"Male\"]\u001b[0m\n\u001b[0m                                                               ^\u001b[0m\n\u001b[0;31mSyntaxError\u001b[0m\u001b[0;31m:\u001b[0m unexpected EOF while parsing\n"
     ]
    }
   ],
   "source": [
    "male = weed_df[weed_df['colour' & weed_df['sex'] == \"Male\"]"
   ]
  },
  {
   "cell_type": "markdown",
   "metadata": {},
   "source": [
    "#### Part 5: Conclusion – A brief, concise narrative explaining your conclusions."
   ]
  },
  {
   "cell_type": "markdown",
   "metadata": {},
   "source": [
    "- Has there been a change in number of arrests over time?\n",
    "    - Based off the line graph it would seem that arrests have been increasing, since the drop from 2001 - 2002 is so large must assume that the data from 2002 is not a complete year, therefore it would seem that the number of arrests would again increase by the end of 2002.\n",
    "- Has there been a change in the ages of those arrested over time?\n",
    "    - There appears to not be a change in age of those who are arrested over the given years. In all years, the age curve is skewed right and remains highest among those in there late teens and twenties.\n",
    "- Which gender has more arrests? Which race?\n",
    "    - Out of those how many where citizens? \n",
    "    - How many were employed?"
   ]
  },
  {
   "cell_type": "markdown",
   "metadata": {},
   "source": [
    "Sources:\n",
    "- https://matplotlib.org/users/pyplot_tutorial.html\n",
    "- https://www.youtube.com/results?search_query=SUBPLOTS+SEABORN\n",
    "- https://seaborn.pydata.org/examples/distplot_options.html"
   ]
  }
 ],
 "metadata": {
  "kernelspec": {
   "display_name": "Python 3",
   "language": "python",
   "name": "python3"
  },
  "language_info": {
   "codemirror_mode": {
    "name": "ipython",
    "version": 3
   },
   "file_extension": ".py",
   "mimetype": "text/x-python",
   "name": "python",
   "nbconvert_exporter": "python",
   "pygments_lexer": "ipython3",
   "version": "3.7.1"
  }
 },
 "nbformat": 4,
 "nbformat_minor": 2
}
