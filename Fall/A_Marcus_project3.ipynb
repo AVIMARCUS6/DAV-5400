{
 "cells": [
  {
   "cell_type": "markdown",
   "metadata": {},
   "source": [
    "# Project 3"
   ]
  },
  {
   "cell_type": "markdown",
   "metadata": {},
   "source": [
    "## Chess Tournament Data:\n",
    "I have been taksed with summarizing results from the most recent Chess tournament in order to further study the results. The issue is that I received the data as a .txt file and need to conver it to a .CSV in order to access easier. The steps I will take to achieve this are as follows:\n",
    "1. import .txt file to python from github page\n",
    "2. Clean up text\n",
    "3. Transfer clean text to list\n",
    "4. Convert list to Pandas DataFrame\n",
    "5. Filter DataFrame to only desired data\n",
    "6. Export DataFrame to CSV"
   ]
  },
  {
   "cell_type": "code",
   "execution_count": 582,
   "metadata": {
    "colab": {},
    "colab_type": "code",
    "id": "7B5VsHE3H67o"
   },
   "outputs": [],
   "source": [
    "import re\n",
    "import requests\n",
    "import pandas as pd\n",
    "response = requests.get('https://raw.githubusercontent.com/AVIMARCUS6/DAV-5400/master/Fall/NL%20Processing%20Text/tournamentinfo.txt')"
   ]
  },
  {
   "cell_type": "code",
   "execution_count": 583,
   "metadata": {
    "colab": {},
    "colab_type": "code",
    "id": "ze_GRPdQJo8_"
   },
   "outputs": [],
   "source": [
    "#import text file as data\n",
    "data = response.text"
   ]
  },
  {
   "cell_type": "code",
   "execution_count": 584,
   "metadata": {
    "colab": {
     "base_uri": "https://localhost:8080/",
     "height": 54
    },
    "colab_type": "code",
    "executionInfo": {
     "elapsed": 622,
     "status": "ok",
     "timestamp": 1573422780720,
     "user": {
      "displayName": "Avi Marcus",
      "photoUrl": "",
      "userId": "07843124763459288494"
     },
     "user_tz": 300
    },
    "id": "kBj7SjEhJ3bL",
    "outputId": "377c74ee-66c6-4545-da06-2cf3976a988b"
   },
   "outputs": [
    {
     "data": {
      "text/plain": [
       "['-----------------------------------------------------------------------------------------',\n",
       " ' Pair | Player Name                     |Total|Round|Round|Round|Round|Round|Round|Round| ',\n",
       " ' Num  | USCF ID / Rtg (Pre->Post)       | Pts |  1  |  2  |  3  |  4  |  5  |  6  |  7  | ',\n",
       " '-----------------------------------------------------------------------------------------',\n",
       " '    1 | GARY HUA                        |6.0  |W  39|W  21|W  18|W  14|W   7|D  12|D   4|',\n",
       " '   ON | 15445895 / R: 1794   ->1817     |N:2  |W    |B    |W    |B    |W    |B    |W    |',\n",
       " '-----------------------------------------------------------------------------------------',\n",
       " '    2 | DAKSHESH DARURI                 |6.0  |W  63|W  58|L   4|W  17|W  16|W  20|W   7|',\n",
       " '   MI | 14598900 / R: 1553   ->1663     |N:2  |B    |W    |B    |W    |B    |W    |B    |',\n",
       " '-----------------------------------------------------------------------------------------',\n",
       " '    3 | ADITYA BAJAJ                    |6.0  |L   8|W  61|W  25|W  21|W  11|W  13|W  12|',\n",
       " '   MI | 14959604 / R: 1384   ->1640     |N:2  |W    |B    |W    |B    |W    |B    |W    |',\n",
       " '-----------------------------------------------------------------------------------------',\n",
       " '    4 | PATRICK H SCHILLING             |5.5  |W  23|D  28|W   2|W  26|D   5|W  19|D   1|',\n",
       " '   MI | 12616049 / R: 1716   ->1744     |N:2  |W    |B    |W    |B    |W    |B    |B    |',\n",
       " '-----------------------------------------------------------------------------------------',\n",
       " '    5 | HANSHI ZUO                      |5.5  |W  45|W  37|D  12|D  13|D   4|W  14|W  17|',\n",
       " '   MI | 14601533 / R: 1655   ->1690     |N:2  |B    |W    |B    |W    |B    |W    |B    |',\n",
       " '-----------------------------------------------------------------------------------------',\n",
       " '    6 | HANSEN SONG                     |5.0  |W  34|D  29|L  11|W  35|D  10|W  27|W  21|',\n",
       " '   OH | 15055204 / R: 1686   ->1687     |N:3  |W    |B    |W    |B    |B    |W    |B    |',\n",
       " '-----------------------------------------------------------------------------------------',\n",
       " '    7 | GARY DEE SWATHELL               |5.0  |W  57|W  46|W  13|W  11|L   1|W   9|L   2|',\n",
       " '   MI | 11146376 / R: 1649   ->1673     |N:3  |W    |B    |W    |B    |B    |W    |W    |',\n",
       " '-----------------------------------------------------------------------------------------',\n",
       " '    8 | EZEKIEL HOUGHTON                |5.0  |W   3|W  32|L  14|L   9|W  47|W  28|W  19|',\n",
       " '   MI | 15142253 / R: 1641P17->1657P24  |N:3  |B    |W    |B    |W    |B    |W    |W    |',\n",
       " '-----------------------------------------------------------------------------------------',\n",
       " '    9 | STEFANO LEE                     |5.0  |W  25|L  18|W  59|W   8|W  26|L   7|W  20|',\n",
       " '   ON | 14954524 / R: 1411   ->1564     |N:2  |W    |B    |W    |B    |W    |B    |B    |',\n",
       " '-----------------------------------------------------------------------------------------',\n",
       " '   10 | ANVIT RAO                       |5.0  |D  16|L  19|W  55|W  31|D   6|W  25|W  18|',\n",
       " '   MI | 14150362 / R: 1365   ->1544     |N:3  |W    |W    |B    |B    |W    |B    |W    |',\n",
       " '-----------------------------------------------------------------------------------------',\n",
       " '   11 | CAMERON WILLIAM MC LEMAN        |4.5  |D  38|W  56|W   6|L   7|L   3|W  34|W  26|',\n",
       " '   MI | 12581589 / R: 1712   ->1696     |N:3  |B    |W    |B    |W    |B    |W    |B    |',\n",
       " '-----------------------------------------------------------------------------------------',\n",
       " '   12 | KENNETH J TACK                  |4.5  |W  42|W  33|D   5|W  38|H    |D   1|L   3|',\n",
       " '   MI | 12681257 / R: 1663   ->1670     |N:3  |W    |B    |W    |B    |     |W    |B    |',\n",
       " '-----------------------------------------------------------------------------------------',\n",
       " '   13 | TORRANCE HENRY JR               |4.5  |W  36|W  27|L   7|D   5|W  33|L   3|W  32|',\n",
       " '   MI | 15082995 / R: 1666   ->1662     |N:3  |B    |W    |B    |B    |W    |W    |B    |',\n",
       " '-----------------------------------------------------------------------------------------',\n",
       " '   14 | BRADLEY SHAW                    |4.5  |W  54|W  44|W   8|L   1|D  27|L   5|W  31|',\n",
       " '   MI | 10131499 / R: 1610   ->1618     |N:3  |W    |B    |W    |W    |B    |B    |W    |',\n",
       " '-----------------------------------------------------------------------------------------',\n",
       " '   15 | ZACHARY JAMES HOUGHTON          |4.5  |D  19|L  16|W  30|L  22|W  54|W  33|W  38|',\n",
       " '   MI | 15619130 / R: 1220P13->1416P20  |N:3  |B    |B    |W    |W    |B    |B    |W    |',\n",
       " '-----------------------------------------------------------------------------------------',\n",
       " '   16 | MIKE NIKITIN                    |4.0  |D  10|W  15|H    |W  39|L   2|W  36|U    |',\n",
       " '   MI | 10295068 / R: 1604   ->1613     |N:3  |B    |W    |     |B    |W    |B    |     |',\n",
       " '-----------------------------------------------------------------------------------------',\n",
       " '   17 | RONALD GRZEGORCZYK              |4.0  |W  48|W  41|L  26|L   2|W  23|W  22|L   5|',\n",
       " '   MI | 10297702 / R: 1629   ->1610     |N:3  |W    |B    |W    |B    |W    |B    |W    |',\n",
       " '-----------------------------------------------------------------------------------------',\n",
       " '   18 | DAVID SUNDEEN                   |4.0  |W  47|W   9|L   1|W  32|L  19|W  38|L  10|',\n",
       " '   MI | 11342094 / R: 1600   ->1600     |N:3  |B    |W    |B    |W    |B    |W    |B    |',\n",
       " '-----------------------------------------------------------------------------------------',\n",
       " '   19 | DIPANKAR ROY                    |4.0  |D  15|W  10|W  52|D  28|W  18|L   4|L   8|',\n",
       " '   MI | 14862333 / R: 1564   ->1570     |N:3  |W    |B    |W    |B    |W    |W    |B    |',\n",
       " '-----------------------------------------------------------------------------------------',\n",
       " '   20 | JASON ZHENG                     |4.0  |L  40|W  49|W  23|W  41|W  28|L   2|L   9|',\n",
       " '   MI | 14529060 / R: 1595   ->1569     |N:4  |W    |B    |W    |B    |W    |B    |W    |',\n",
       " '-----------------------------------------------------------------------------------------',\n",
       " '   21 | DINH DANG BUI                   |4.0  |W  43|L   1|W  47|L   3|W  40|W  39|L   6|',\n",
       " '   ON | 15495066 / R: 1563P22->1562     |N:3  |B    |W    |B    |W    |W    |B    |W    |',\n",
       " '-----------------------------------------------------------------------------------------',\n",
       " '   22 | EUGENE L MCCLURE                |4.0  |W  64|D  52|L  28|W  15|H    |L  17|W  40|',\n",
       " '   MI | 12405534 / R: 1555   ->1529     |N:4  |W    |B    |W    |B    |     |W    |B    |',\n",
       " '-----------------------------------------------------------------------------------------',\n",
       " '   23 | ALAN BUI                        |4.0  |L   4|W  43|L  20|W  58|L  17|W  37|W  46|',\n",
       " '   ON | 15030142 / R: 1363   ->1371     |     |B    |W    |B    |W    |B    |W    |B    |',\n",
       " '-----------------------------------------------------------------------------------------',\n",
       " '   24 | MICHAEL R ALDRICH               |4.0  |L  28|L  47|W  43|L  25|W  60|W  44|W  39|',\n",
       " '   MI | 13469010 / R: 1229   ->1300     |N:4  |B    |W    |B    |B    |W    |W    |B    |',\n",
       " '-----------------------------------------------------------------------------------------',\n",
       " '   25 | LOREN SCHWIEBERT                |3.5  |L   9|W  53|L   3|W  24|D  34|L  10|W  47|',\n",
       " '   MI | 12486656 / R: 1745   ->1681     |N:4  |B    |W    |B    |W    |B    |W    |B    |',\n",
       " '-----------------------------------------------------------------------------------------',\n",
       " '   26 | MAX ZHU                         |3.5  |W  49|W  40|W  17|L   4|L   9|D  32|L  11|',\n",
       " '   ON | 15131520 / R: 1579   ->1564     |N:4  |B    |W    |B    |W    |B    |W    |W    |',\n",
       " '-----------------------------------------------------------------------------------------',\n",
       " '   27 | GAURAV GIDWANI                  |3.5  |W  51|L  13|W  46|W  37|D  14|L   6|U    |',\n",
       " '   MI | 14476567 / R: 1552   ->1539     |N:4  |W    |B    |W    |B    |W    |B    |     |',\n",
       " '-----------------------------------------------------------------------------------------',\n",
       " '   28 | SOFIA ADINA STANESCU-BELLU      |3.5  |W  24|D   4|W  22|D  19|L  20|L   8|D  36|',\n",
       " '   MI | 14882954 / R: 1507   ->1513     |N:3  |W    |W    |B    |W    |B    |B    |W    |',\n",
       " '-----------------------------------------------------------------------------------------',\n",
       " '   29 | CHIEDOZIE OKORIE                |3.5  |W  50|D   6|L  38|L  34|W  52|W  48|U    |',\n",
       " '   MI | 15323285 / R: 1602P6 ->1508P12  |N:4  |B    |W    |B    |W    |W    |B    |     |',\n",
       " '-----------------------------------------------------------------------------------------',\n",
       " '   30 | GEORGE AVERY JONES              |3.5  |L  52|D  64|L  15|W  55|L  31|W  61|W  50|',\n",
       " '   ON | 12577178 / R: 1522   ->1444     |     |W    |B    |B    |W    |W    |B    |B    |',\n",
       " '-----------------------------------------------------------------------------------------',\n",
       " '   31 | RISHI SHETTY                    |3.5  |L  58|D  55|W  64|L  10|W  30|W  50|L  14|',\n",
       " '   MI | 15131618 / R: 1494   ->1444     |     |B    |W    |B    |W    |B    |W    |B    |',\n",
       " '-----------------------------------------------------------------------------------------',\n",
       " '   32 | JOSHUA PHILIP MATHEWS           |3.5  |W  61|L   8|W  44|L  18|W  51|D  26|L  13|',\n",
       " '   ON | 14073750 / R: 1441   ->1433     |N:4  |W    |B    |W    |B    |W    |B    |W    |',\n",
       " '-----------------------------------------------------------------------------------------',\n",
       " '   33 | JADE GE                         |3.5  |W  60|L  12|W  50|D  36|L  13|L  15|W  51|',\n",
       " '   MI | 14691842 / R: 1449   ->1421     |     |B    |W    |B    |W    |B    |W    |B    |',\n",
       " '-----------------------------------------------------------------------------------------',\n",
       " '   34 | MICHAEL JEFFERY THOMAS          |3.5  |L   6|W  60|L  37|W  29|D  25|L  11|W  52|',\n",
       " '   MI | 15051807 / R: 1399   ->1400     |     |B    |W    |B    |B    |W    |B    |W    |',\n",
       " '-----------------------------------------------------------------------------------------',\n",
       " '   35 | JOSHUA DAVID LEE                |3.5  |L  46|L  38|W  56|L   6|W  57|D  52|W  48|',\n",
       " '   MI | 14601397 / R: 1438   ->1392     |     |W    |W    |B    |W    |B    |B    |W    |',\n",
       " '-----------------------------------------------------------------------------------------',\n",
       " '   36 | SIDDHARTH JHA                   |3.5  |L  13|W  57|W  51|D  33|H    |L  16|D  28|',\n",
       " '   MI | 14773163 / R: 1355   ->1367     |N:4  |W    |B    |W    |B    |     |W    |B    |',\n",
       " '-----------------------------------------------------------------------------------------',\n",
       " '   37 | AMIYATOSH PWNANANDAM            |3.5  |B    |L   5|W  34|L  27|H    |L  23|W  61|',\n",
       " '   MI | 15489571 / R:  980P12->1077P17  |     |     |B    |W    |W    |     |B    |W    |',\n",
       " '-----------------------------------------------------------------------------------------',\n",
       " '   38 | BRIAN LIU                       |3.0  |D  11|W  35|W  29|L  12|H    |L  18|L  15|',\n",
       " '   MI | 15108523 / R: 1423   ->1439     |N:4  |W    |B    |W    |W    |     |B    |B    |',\n",
       " '-----------------------------------------------------------------------------------------',\n",
       " '   39 | JOEL R HENDON                   |3.0  |L   1|W  54|W  40|L  16|W  44|L  21|L  24|',\n",
       " '   MI | 12923035 / R: 1436P23->1413     |N:4  |B    |W    |B    |W    |B    |W    |W    |',\n",
       " '-----------------------------------------------------------------------------------------',\n",
       " '   40 | FOREST ZHANG                    |3.0  |W  20|L  26|L  39|W  59|L  21|W  56|L  22|',\n",
       " '   MI | 14892710 / R: 1348   ->1346     |     |B    |B    |W    |W    |B    |W    |W    |',\n",
       " '-----------------------------------------------------------------------------------------',\n",
       " '   41 | KYLE WILLIAM MURPHY             |3.0  |W  59|L  17|W  58|L  20|X    |U    |U    |',\n",
       " '   MI | 15761443 / R: 1403P5 ->1341P9   |     |B    |W    |B    |W    |     |     |     |',\n",
       " '-----------------------------------------------------------------------------------------',\n",
       " '   42 | JARED GE                        |3.0  |L  12|L  50|L  57|D  60|D  61|W  64|W  56|',\n",
       " '   MI | 14462326 / R: 1332   ->1256     |     |B    |W    |B    |B    |W    |W    |B    |',\n",
       " '-----------------------------------------------------------------------------------------',\n",
       " '   43 | ROBERT GLEN VASEY               |3.0  |L  21|L  23|L  24|W  63|W  59|L  46|W  55|',\n",
       " '   MI | 14101068 / R: 1283   ->1244     |     |W    |B    |W    |W    |B    |B    |W    |',\n",
       " '-----------------------------------------------------------------------------------------',\n",
       " '   44 | JUSTIN D SCHILLING              |3.0  |B    |L  14|L  32|W  53|L  39|L  24|W  59|',\n",
       " '   MI | 15323504 / R: 1199   ->1199     |     |     |W    |B    |B    |W    |B    |W    |',\n",
       " '-----------------------------------------------------------------------------------------',\n",
       " '   45 | DEREK YAN                       |3.0  |L   5|L  51|D  60|L  56|W  63|D  55|W  58|',\n",
       " '   MI | 15372807 / R: 1242   ->1191     |     |W    |B    |W    |B    |W    |B    |W    |',\n",
       " '-----------------------------------------------------------------------------------------',\n",
       " '   46 | JACOB ALEXANDER LAVALLEY        |3.0  |W  35|L   7|L  27|L  50|W  64|W  43|L  23|',\n",
       " '   MI | 15490981 / R:  377P3 ->1076P10  |     |B    |W    |B    |W    |B    |W    |W    |',\n",
       " '-----------------------------------------------------------------------------------------',\n",
       " '   47 | ERIC WRIGHT                     |2.5  |L  18|W  24|L  21|W  61|L   8|D  51|L  25|',\n",
       " '   MI | 12533115 / R: 1362   ->1341     |     |W    |B    |W    |B    |W    |B    |W    |',\n",
       " '-----------------------------------------------------------------------------------------',\n",
       " '   48 | DANIEL KHAIN                    |2.5  |L  17|W  63|H    |D  52|H    |L  29|L  35|',\n",
       " '   MI | 14369165 / R: 1382   ->1335     |     |B    |W    |     |B    |     |W    |B    |',\n",
       " '-----------------------------------------------------------------------------------------',\n",
       " '   49 | MICHAEL J MARTIN                |2.5  |L  26|L  20|D  63|D  64|W  58|H    |U    |',\n",
       " '   MI | 12531685 / R: 1291P12->1259P17  |     |W    |W    |B    |W    |B    |     |     |',\n",
       " '-----------------------------------------------------------------------------------------',\n",
       " '   50 | SHIVAM JHA                      |2.5  |L  29|W  42|L  33|W  46|H    |L  31|L  30|',\n",
       " '   MI | 14773178 / R: 1056   ->1111     |     |W    |B    |W    |B    |     |B    |W    |',\n",
       " '-----------------------------------------------------------------------------------------',\n",
       " '   51 | TEJAS AYYAGARI                  |2.5  |L  27|W  45|L  36|W  57|L  32|D  47|L  33|',\n",
       " '   MI | 15205474 / R: 1011   ->1097     |     |B    |W    |B    |W    |B    |W    |W    |',\n",
       " '-----------------------------------------------------------------------------------------',\n",
       " '   52 | ETHAN GUO                       |2.5  |W  30|D  22|L  19|D  48|L  29|D  35|L  34|',\n",
       " '   MI | 14918803 / R:  935   ->1092     |N:4  |B    |W    |B    |W    |B    |W    |B    |',\n",
       " '-----------------------------------------------------------------------------------------',\n",
       " '   53 | JOSE C YBARRA                   |2.0  |H    |L  25|H    |L  44|U    |W  57|U    |',\n",
       " '   MI | 12578849 / R: 1393   ->1359     |     |     |B    |     |W    |     |W    |     |',\n",
       " '-----------------------------------------------------------------------------------------',\n",
       " '   54 | LARRY HODGE                     |2.0  |L  14|L  39|L  61|B    |L  15|L  59|W  64|',\n",
       " '   MI | 12836773 / R: 1270   ->1200     |     |B    |B    |W    |     |W    |B    |W    |',\n",
       " '-----------------------------------------------------------------------------------------',\n",
       " '   55 | ALEX KONG                       |2.0  |L  62|D  31|L  10|L  30|B    |D  45|L  43|',\n",
       " '   MI | 15412571 / R: 1186   ->1163     |     |W    |B    |W    |B    |     |W    |B    |',\n",
       " '-----------------------------------------------------------------------------------------',\n",
       " '   56 | MARISA RICCI                    |2.0  |H    |L  11|L  35|W  45|H    |L  40|L  42|',\n",
       " '   MI | 14679887 / R: 1153   ->1140     |     |     |B    |W    |W    |     |B    |W    |',\n",
       " '-----------------------------------------------------------------------------------------',\n",
       " '   57 | MICHAEL LU                      |2.0  |L   7|L  36|W  42|L  51|L  35|L  53|B    |',\n",
       " '   MI | 15113330 / R: 1092   ->1079     |     |B    |W    |W    |B    |W    |B    |     |',\n",
       " '-----------------------------------------------------------------------------------------',\n",
       " '   58 | VIRAJ MOHILE                    |2.0  |W  31|L   2|L  41|L  23|L  49|B    |L  45|',\n",
       " '   MI | 14700365 / R:  917   -> 941     |     |W    |B    |W    |B    |W    |     |B    |',\n",
       " '-----------------------------------------------------------------------------------------',\n",
       " '   59 | SEAN M MC CORMICK               |2.0  |L  41|B    |L   9|L  40|L  43|W  54|L  44|',\n",
       " '   MI | 12841036 / R:  853   -> 878     |     |W    |     |B    |B    |W    |W    |B    |',\n",
       " '-----------------------------------------------------------------------------------------',\n",
       " '   60 | JULIA SHEN                      |1.5  |L  33|L  34|D  45|D  42|L  24|H    |U    |',\n",
       " '   MI | 14579262 / R:  967   -> 984     |     |W    |B    |B    |W    |B    |     |     |',\n",
       " '-----------------------------------------------------------------------------------------',\n",
       " '   61 | JEZZEL FARKAS                   |1.5  |L  32|L   3|W  54|L  47|D  42|L  30|L  37|',\n",
       " '   ON | 15771592 / R:  955P11-> 979P18  |     |B    |W    |B    |W    |B    |W    |B    |',\n",
       " '-----------------------------------------------------------------------------------------',\n",
       " '   62 | ASHWIN BALAJI                   |1.0  |W  55|U    |U    |U    |U    |U    |U    |',\n",
       " '   MI | 15219542 / R: 1530   ->1535     |     |B    |     |     |     |     |     |     |',\n",
       " '-----------------------------------------------------------------------------------------',\n",
       " '   63 | THOMAS JOSEPH HOSMER            |1.0  |L   2|L  48|D  49|L  43|L  45|H    |U    |',\n",
       " '   MI | 15057092 / R: 1175   ->1125     |     |W    |B    |W    |B    |B    |     |     |',\n",
       " '-----------------------------------------------------------------------------------------',\n",
       " '   64 | BEN LI                          |1.0  |L  22|D  30|L  31|D  49|L  46|L  42|L  54|',\n",
       " '   MI | 15006561 / R: 1163   ->1112     |     |B    |W    |W    |B    |W    |B    |B    |',\n",
       " '-----------------------------------------------------------------------------------------']"
      ]
     },
     "execution_count": 584,
     "metadata": {},
     "output_type": "execute_result"
    }
   ],
   "source": [
    "#prints text file in pretty format\n",
    "data.splitlines()"
   ]
  },
  {
   "cell_type": "markdown",
   "metadata": {
    "colab_type": "text",
    "id": "_NDQ1H9vKKcz"
   },
   "source": [
    "- https://stackoverflow.com/questions/1393324/in-python-given-a-url-to-a-text-file-what-is-the-simplest-way-to-read-the-cont/46124819#46124819"
   ]
  },
  {
   "cell_type": "code",
   "execution_count": 585,
   "metadata": {},
   "outputs": [],
   "source": [
    "#replaces all occurances of ' \\r\\n' and '\\r\\n' with '|'\n",
    "reduced = re.sub('\\|\\s\\\\r\\\\n|\\|\\\\r\\\\n','|',data)"
   ]
  },
  {
   "cell_type": "code",
   "execution_count": 586,
   "metadata": {
    "colab": {},
    "colab_type": "code",
    "id": "E57U59daKzy4"
   },
   "outputs": [],
   "source": [
    "#Splits string at every occurance of '-\\r\\n' into a list\n",
    "snap = re.split('-+\\\\r\\\\n', reduced)"
   ]
  },
  {
   "cell_type": "code",
   "execution_count": 587,
   "metadata": {
    "colab": {},
    "colab_type": "code",
    "id": "E57U59daKzy4"
   },
   "outputs": [],
   "source": [
    "#Remove header and unwanted rows\n",
    "del snap[0:2]"
   ]
  },
  {
   "cell_type": "code",
   "execution_count": 589,
   "metadata": {},
   "outputs": [],
   "source": [
    "#Split strings of list at '|' into list of lists\n",
    "splitty = [i.split('|') for i in snap]"
   ]
  },
  {
   "cell_type": "code",
   "execution_count": 575,
   "metadata": {},
   "outputs": [],
   "source": [
    "#Convert list of lists to DataFrame\n",
    "df = pd.DataFrame(splitty)"
   ]
  },
  {
   "cell_type": "code",
   "execution_count": 576,
   "metadata": {},
   "outputs": [],
   "source": [
    "#Select only desired columns from DataFrame\n",
    "df = df[[0,1,10,2,11]]"
   ]
  },
  {
   "cell_type": "code",
   "execution_count": 579,
   "metadata": {},
   "outputs": [],
   "source": [
    "#Edit Column 11 of DataFrame to select proper number and format\n",
    "df[11] = df[11].str.extract(r'((?<=R\\:\\s)\\w+)', expand=True)"
   ]
  },
  {
   "cell_type": "markdown",
   "metadata": {},
   "source": [
    "- https://stackoverflow.com/questions/36167442/extract-number-before-a-character-in-a-string-using-python\n",
    "- https://docs.python.org/3.4/library/re.html"
   ]
  },
  {
   "cell_type": "code",
   "execution_count": 590,
   "metadata": {},
   "outputs": [
    {
     "data": {
      "text/html": [
       "<div>\n",
       "<style scoped>\n",
       "    .dataframe tbody tr th:only-of-type {\n",
       "        vertical-align: middle;\n",
       "    }\n",
       "\n",
       "    .dataframe tbody tr th {\n",
       "        vertical-align: top;\n",
       "    }\n",
       "\n",
       "    .dataframe thead th {\n",
       "        text-align: right;\n",
       "    }\n",
       "</style>\n",
       "<table border=\"1\" class=\"dataframe\">\n",
       "  <thead>\n",
       "    <tr style=\"text-align: right;\">\n",
       "      <th></th>\n",
       "      <th>Pair Num</th>\n",
       "      <th>Players Name</th>\n",
       "      <th>Players State</th>\n",
       "      <th>Total Number of Points</th>\n",
       "      <th>Players Pre-Rating</th>\n",
       "    </tr>\n",
       "  </thead>\n",
       "  <tbody>\n",
       "    <tr>\n",
       "      <th>0</th>\n",
       "      <td>1</td>\n",
       "      <td>GARY HUA</td>\n",
       "      <td>ON</td>\n",
       "      <td>6.0</td>\n",
       "      <td>1794</td>\n",
       "    </tr>\n",
       "    <tr>\n",
       "      <th>1</th>\n",
       "      <td>2</td>\n",
       "      <td>DAKSHESH DARURI</td>\n",
       "      <td>MI</td>\n",
       "      <td>6.0</td>\n",
       "      <td>1553</td>\n",
       "    </tr>\n",
       "    <tr>\n",
       "      <th>2</th>\n",
       "      <td>3</td>\n",
       "      <td>ADITYA BAJAJ</td>\n",
       "      <td>MI</td>\n",
       "      <td>6.0</td>\n",
       "      <td>1384</td>\n",
       "    </tr>\n",
       "    <tr>\n",
       "      <th>3</th>\n",
       "      <td>4</td>\n",
       "      <td>PATRICK H SCHILLING</td>\n",
       "      <td>MI</td>\n",
       "      <td>5.5</td>\n",
       "      <td>1716</td>\n",
       "    </tr>\n",
       "    <tr>\n",
       "      <th>4</th>\n",
       "      <td>5</td>\n",
       "      <td>HANSHI ZUO</td>\n",
       "      <td>MI</td>\n",
       "      <td>5.5</td>\n",
       "      <td>1655</td>\n",
       "    </tr>\n",
       "    <tr>\n",
       "      <th>...</th>\n",
       "      <td>...</td>\n",
       "      <td>...</td>\n",
       "      <td>...</td>\n",
       "      <td>...</td>\n",
       "      <td>...</td>\n",
       "    </tr>\n",
       "    <tr>\n",
       "      <th>59</th>\n",
       "      <td>60</td>\n",
       "      <td>JULIA SHEN</td>\n",
       "      <td>MI</td>\n",
       "      <td>1.5</td>\n",
       "      <td>NaN</td>\n",
       "    </tr>\n",
       "    <tr>\n",
       "      <th>60</th>\n",
       "      <td>61</td>\n",
       "      <td>JEZZEL FARKAS</td>\n",
       "      <td>ON</td>\n",
       "      <td>1.5</td>\n",
       "      <td>NaN</td>\n",
       "    </tr>\n",
       "    <tr>\n",
       "      <th>61</th>\n",
       "      <td>62</td>\n",
       "      <td>ASHWIN BALAJI</td>\n",
       "      <td>MI</td>\n",
       "      <td>1.0</td>\n",
       "      <td>1530</td>\n",
       "    </tr>\n",
       "    <tr>\n",
       "      <th>62</th>\n",
       "      <td>63</td>\n",
       "      <td>THOMAS JOSEPH HOSMER</td>\n",
       "      <td>MI</td>\n",
       "      <td>1.0</td>\n",
       "      <td>1175</td>\n",
       "    </tr>\n",
       "    <tr>\n",
       "      <th>63</th>\n",
       "      <td>64</td>\n",
       "      <td>BEN LI</td>\n",
       "      <td>MI</td>\n",
       "      <td>1.0</td>\n",
       "      <td>1163</td>\n",
       "    </tr>\n",
       "  </tbody>\n",
       "</table>\n",
       "<p>64 rows × 5 columns</p>\n",
       "</div>"
      ],
      "text/plain": [
       "   Pair Num                       Players Name Players State  \\\n",
       "0        1    GARY HUA                                   ON    \n",
       "1        2    DAKSHESH DARURI                            MI    \n",
       "2        3    ADITYA BAJAJ                               MI    \n",
       "3        4    PATRICK H SCHILLING                        MI    \n",
       "4        5    HANSHI ZUO                                 MI    \n",
       "..      ...                                ...           ...   \n",
       "59      60    JULIA SHEN                                 MI    \n",
       "60      61    JEZZEL FARKAS                              ON    \n",
       "61      62    ASHWIN BALAJI                              MI    \n",
       "62      63    THOMAS JOSEPH HOSMER                       MI    \n",
       "63      64    BEN LI                                     MI    \n",
       "\n",
       "   Total Number of Points Players Pre-Rating  \n",
       "0                   6.0                 1794  \n",
       "1                   6.0                 1553  \n",
       "2                   6.0                 1384  \n",
       "3                   5.5                 1716  \n",
       "4                   5.5                 1655  \n",
       "..                    ...                ...  \n",
       "59                  1.5                  NaN  \n",
       "60                  1.5                  NaN  \n",
       "61                  1.0                 1530  \n",
       "62                  1.0                 1175  \n",
       "63                  1.0                 1163  \n",
       "\n",
       "[64 rows x 5 columns]"
      ]
     },
     "execution_count": 590,
     "metadata": {},
     "output_type": "execute_result"
    }
   ],
   "source": [
    "#Rename columns with proper heading\n",
    "df.rename({0: \"Pair Num\", 1: \"Players Name\", 10: \"Players State\", 2:\"Total Number of Points\", 11:\"Players Pre-Rating\"}, axis = 'columns')"
   ]
  },
  {
   "cell_type": "code",
   "execution_count": 581,
   "metadata": {},
   "outputs": [
    {
     "data": {
      "text/plain": [
       "',0,1,10,2,11\\n0,    1 , GARY HUA                        ,   ON ,6.0  ,1794\\n1,    2 , DAKSHESH DARURI                 ,   MI ,6.0  ,1553\\n2,    3 , ADITYA BAJAJ                    ,   MI ,6.0  ,1384\\n3,    4 , PATRICK H SCHILLING             ,   MI ,5.5  ,1716\\n4,    5 , HANSHI ZUO                      ,   MI ,5.5  ,1655\\n5,    6 , HANSEN SONG                     ,   OH ,5.0  ,1686\\n6,    7 , GARY DEE SWATHELL               ,   MI ,5.0  ,1649\\n7,    8 , EZEKIEL HOUGHTON                ,   MI ,5.0  ,1641P17\\n8,    9 , STEFANO LEE                     ,   ON ,5.0  ,1411\\n9,   10 , ANVIT RAO                       ,   MI ,5.0  ,1365\\n10,   11 , CAMERON WILLIAM MC LEMAN        ,   MI ,4.5  ,1712\\n11,   12 , KENNETH J TACK                  ,   MI ,4.5  ,1663\\n12,   13 , TORRANCE HENRY JR               ,   MI ,4.5  ,1666\\n13,   14 , BRADLEY SHAW                    ,   MI ,4.5  ,1610\\n14,   15 , ZACHARY JAMES HOUGHTON          ,   MI ,4.5  ,1220P13\\n15,   16 , MIKE NIKITIN                    ,   MI ,4.0  ,1604\\n16,   17 , RONALD GRZEGORCZYK              ,   MI ,4.0  ,1629\\n17,   18 , DAVID SUNDEEN                   ,   MI ,4.0  ,1600\\n18,   19 , DIPANKAR ROY                    ,   MI ,4.0  ,1564\\n19,   20 , JASON ZHENG                     ,   MI ,4.0  ,1595\\n20,   21 , DINH DANG BUI                   ,   ON ,4.0  ,1563P22\\n21,   22 , EUGENE L MCCLURE                ,   MI ,4.0  ,1555\\n22,   23 , ALAN BUI                        ,   ON ,4.0  ,1363\\n23,   24 , MICHAEL R ALDRICH               ,   MI ,4.0  ,1229\\n24,   25 , LOREN SCHWIEBERT                ,   MI ,3.5  ,1745\\n25,   26 , MAX ZHU                         ,   ON ,3.5  ,1579\\n26,   27 , GAURAV GIDWANI                  ,   MI ,3.5  ,1552\\n27,   28 , SOFIA ADINA STANESCU-BELLU      ,   MI ,3.5  ,1507\\n28,   29 , CHIEDOZIE OKORIE                ,   MI ,3.5  ,1602P6\\n29,   30 , GEORGE AVERY JONES              ,   ON ,3.5  ,1522\\n30,   31 , RISHI SHETTY                    ,   MI ,3.5  ,1494\\n31,   32 , JOSHUA PHILIP MATHEWS           ,   ON ,3.5  ,1441\\n32,   33 , JADE GE                         ,   MI ,3.5  ,1449\\n33,   34 , MICHAEL JEFFERY THOMAS          ,   MI ,3.5  ,1399\\n34,   35 , JOSHUA DAVID LEE                ,   MI ,3.5  ,1438\\n35,   36 , SIDDHARTH JHA                   ,   MI ,3.5  ,1355\\n36,   37 , AMIYATOSH PWNANANDAM            ,   MI ,3.5  ,\\n37,   38 , BRIAN LIU                       ,   MI ,3.0  ,1423\\n38,   39 , JOEL R HENDON                   ,   MI ,3.0  ,1436P23\\n39,   40 , FOREST ZHANG                    ,   MI ,3.0  ,1348\\n40,   41 , KYLE WILLIAM MURPHY             ,   MI ,3.0  ,1403P5\\n41,   42 , JARED GE                        ,   MI ,3.0  ,1332\\n42,   43 , ROBERT GLEN VASEY               ,   MI ,3.0  ,1283\\n43,   44 , JUSTIN D SCHILLING              ,   MI ,3.0  ,1199\\n44,   45 , DEREK YAN                       ,   MI ,3.0  ,1242\\n45,   46 , JACOB ALEXANDER LAVALLEY        ,   MI ,3.0  ,\\n46,   47 , ERIC WRIGHT                     ,   MI ,2.5  ,1362\\n47,   48 , DANIEL KHAIN                    ,   MI ,2.5  ,1382\\n48,   49 , MICHAEL J MARTIN                ,   MI ,2.5  ,1291P12\\n49,   50 , SHIVAM JHA                      ,   MI ,2.5  ,1056\\n50,   51 , TEJAS AYYAGARI                  ,   MI ,2.5  ,1011\\n51,   52 , ETHAN GUO                       ,   MI ,2.5  ,\\n52,   53 , JOSE C YBARRA                   ,   MI ,2.0  ,1393\\n53,   54 , LARRY HODGE                     ,   MI ,2.0  ,1270\\n54,   55 , ALEX KONG                       ,   MI ,2.0  ,1186\\n55,   56 , MARISA RICCI                    ,   MI ,2.0  ,1153\\n56,   57 , MICHAEL LU                      ,   MI ,2.0  ,1092\\n57,   58 , VIRAJ MOHILE                    ,   MI ,2.0  ,\\n58,   59 , SEAN M MC CORMICK               ,   MI ,2.0  ,\\n59,   60 , JULIA SHEN                      ,   MI ,1.5  ,\\n60,   61 , JEZZEL FARKAS                   ,   ON ,1.5  ,\\n61,   62 , ASHWIN BALAJI                   ,   MI ,1.0  ,1530\\n62,   63 , THOMAS JOSEPH HOSMER            ,   MI ,1.0  ,1175\\n63,   64 , BEN LI                          ,   MI ,1.0  ,1163\\n'"
      ]
     },
     "execution_count": 581,
     "metadata": {},
     "output_type": "execute_result"
    }
   ],
   "source": [
    "#Export DataFrame to CSV\n",
    "df.to_csv(index=True)"
   ]
  },
  {
   "cell_type": "markdown",
   "metadata": {},
   "source": [
    "- https://stackoverflow.com/questions/16923281/writing-a-pandas-dataframe-to-csv-file"
   ]
  }
 ],
 "metadata": {
  "colab": {
   "name": "Untitled.ipynb",
   "provenance": []
  },
  "kernelspec": {
   "display_name": "Python 3",
   "language": "python",
   "name": "python3"
  },
  "language_info": {
   "codemirror_mode": {
    "name": "ipython",
    "version": 3
   },
   "file_extension": ".py",
   "mimetype": "text/x-python",
   "name": "python",
   "nbconvert_exporter": "python",
   "pygments_lexer": "ipython3",
   "version": "3.7.1"
  }
 },
 "nbformat": 4,
 "nbformat_minor": 2
}
