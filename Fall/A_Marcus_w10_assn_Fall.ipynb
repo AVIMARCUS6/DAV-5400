{
  "nbformat": 4,
  "nbformat_minor": 0,
  "metadata": {
    "colab": {
      "name": "A_Marcus_w10_ass.ipynb",
      "provenance": [],
      "collapsed_sections": []
    },
    "kernelspec": {
      "name": "python3",
      "display_name": "Python 3"
    }
  },
  "cells": [
    {
      "cell_type": "markdown",
      "metadata": {
        "id": "yUynLgvL3XLx",
        "colab_type": "text"
      },
      "source": [
        "## Narative:"
      ]
    },
    {
      "cell_type": "markdown",
      "metadata": {
        "id": "WYwUP8FA052J",
        "colab_type": "text"
      },
      "source": [
        "- I have been tasked to determine which city has the most flight delays and if there are any carriers who may have an alarming amount of delays. \n",
        "  - In order to analyze this data I need to first create a csv file from the table given and then import csv file into Pandas. \n",
        "  - Once I have imported data I need to clean the data and transform table to long and tidy format. \n",
        "  - Once the data is in proper format I can then use grouping and filtering to analyze data."
      ]
    },
    {
      "cell_type": "code",
      "metadata": {
        "id": "Tfj7ZHPZfp-x",
        "colab_type": "code",
        "colab": {}
      },
      "source": [
        "import pandas as pd\n",
        "import numpy as np\n",
        "import csv"
      ],
      "execution_count": 0,
      "outputs": []
    },
    {
      "cell_type": "code",
      "metadata": {
        "id": "yrQ8pH7EoGNG",
        "colab_type": "code",
        "colab": {}
      },
      "source": [
        "# Assemble data for CSV file\n",
        "flight_status = [['','','Los Angeles','Phoenix','San Diego','San Francisco','Seattle'],\n",
        "                  ['ALASKA','on time',497,221,212,503,1841],\n",
        "                  ['','delayed',62,12,20,102,305],\n",
        "                  ['','','','','','',''],\n",
        "                  ['AM West','on time',694,4840,383,320,201],\n",
        "                  ['','delayed',117,415,65,129,61]]"
      ],
      "execution_count": 0,
      "outputs": []
    },
    {
      "cell_type": "code",
      "metadata": {
        "id": "KqoAlymmFokw",
        "colab_type": "code",
        "outputId": "d3613b24-850c-4e57-a0bf-345087cdc78d",
        "colab": {
          "base_uri": "https://localhost:8080/",
          "height": 119
        }
      },
      "source": [
        "flight_status"
      ],
      "execution_count": 381,
      "outputs": [
        {
          "output_type": "execute_result",
          "data": {
            "text/plain": [
              "[['', '', 'Los Angeles', 'Phoenix', 'San Diego', 'San Francisco', 'Seattle'],\n",
              " ['ALASKA', 'on time', 497, 221, 212, 503, 1841],\n",
              " ['', 'delayed', 62, 12, 20, 102, 305],\n",
              " ['', '', '', '', '', '', ''],\n",
              " ['AM West', 'on time', 694, 4840, 383, 320, 201],\n",
              " ['', 'delayed', 117, 415, 65, 129, 61]]"
            ]
          },
          "metadata": {
            "tags": []
          },
          "execution_count": 381
        }
      ]
    },
    {
      "cell_type": "code",
      "metadata": {
        "id": "z1DnhMKSFqTU",
        "colab_type": "code",
        "colab": {
          "base_uri": "https://localhost:8080/",
          "height": 215
        },
        "outputId": "f9960e2d-a9cc-45f1-ea7b-22c53b012e28"
      },
      "source": [
        "# export data to .csv file\n",
        "with open('flight_status.csv', 'w') as csvFile:\n",
        "    writer = csv.writer(csvFile)\n",
        "    writer.writerows(flight_status)\n",
        "csvFile.close()"
      ],
      "execution_count": 357,
      "outputs": [
        {
          "output_type": "error",
          "ename": "NameError",
          "evalue": "ignored",
          "traceback": [
            "\u001b[0;31m---------------------------------------------------------------------------\u001b[0m",
            "\u001b[0;31mNameError\u001b[0m                                 Traceback (most recent call last)",
            "\u001b[0;32m<ipython-input-357-0678bce84f0d>\u001b[0m in \u001b[0;36m<module>\u001b[0;34m()\u001b[0m\n\u001b[1;32m      1\u001b[0m \u001b[0;32mwith\u001b[0m \u001b[0mopen\u001b[0m\u001b[0;34m(\u001b[0m\u001b[0;34m'flight_status.csv'\u001b[0m\u001b[0;34m,\u001b[0m \u001b[0;34m'w'\u001b[0m\u001b[0;34m)\u001b[0m \u001b[0;32mas\u001b[0m \u001b[0mcsvFile\u001b[0m\u001b[0;34m:\u001b[0m\u001b[0;34m\u001b[0m\u001b[0;34m\u001b[0m\u001b[0m\n\u001b[0;32m----> 2\u001b[0;31m     \u001b[0mwriter\u001b[0m \u001b[0;34m=\u001b[0m \u001b[0mcsv\u001b[0m\u001b[0;34m.\u001b[0m\u001b[0mwriter\u001b[0m\u001b[0;34m(\u001b[0m\u001b[0mcsvFile\u001b[0m\u001b[0;34m)\u001b[0m\u001b[0;34m\u001b[0m\u001b[0;34m\u001b[0m\u001b[0m\n\u001b[0m\u001b[1;32m      3\u001b[0m     \u001b[0mwriter\u001b[0m\u001b[0;34m.\u001b[0m\u001b[0mwriterows\u001b[0m\u001b[0;34m(\u001b[0m\u001b[0mflight_status\u001b[0m\u001b[0;34m)\u001b[0m\u001b[0;34m\u001b[0m\u001b[0;34m\u001b[0m\u001b[0m\n\u001b[1;32m      4\u001b[0m \u001b[0mcsvFile\u001b[0m\u001b[0;34m.\u001b[0m\u001b[0mclose\u001b[0m\u001b[0;34m(\u001b[0m\u001b[0;34m)\u001b[0m\u001b[0;34m\u001b[0m\u001b[0;34m\u001b[0m\u001b[0m\n",
            "\u001b[0;31mNameError\u001b[0m: name 'csv' is not defined"
          ]
        }
      ]
    },
    {
      "cell_type": "code",
      "metadata": {
        "id": "aiohJHUaz7eO",
        "colab_type": "code",
        "colab": {}
      },
      "source": [
        "# Import data from Github\n",
        "data = pd.read_csv('https://raw.githubusercontent.com/AVIMARCUS6/DAV-5400/master/Fall/flight_status.csv')"
      ],
      "execution_count": 0,
      "outputs": []
    },
    {
      "cell_type": "code",
      "metadata": {
        "id": "HoXYPevc1GLV",
        "colab_type": "code",
        "outputId": "27a58187-8c09-44d4-cd91-18afd9dc1a57",
        "colab": {
          "base_uri": "https://localhost:8080/",
          "height": 173
        }
      },
      "source": [
        "# Drop any row which is fully empty\n",
        "data=data.dropna(axis=0, how='all', thresh=None, subset=None, inplace=False)\n",
        "data"
      ],
      "execution_count": 383,
      "outputs": [
        {
          "output_type": "execute_result",
          "data": {
            "text/html": [
              "<div>\n",
              "<style scoped>\n",
              "    .dataframe tbody tr th:only-of-type {\n",
              "        vertical-align: middle;\n",
              "    }\n",
              "\n",
              "    .dataframe tbody tr th {\n",
              "        vertical-align: top;\n",
              "    }\n",
              "\n",
              "    .dataframe thead th {\n",
              "        text-align: right;\n",
              "    }\n",
              "</style>\n",
              "<table border=\"1\" class=\"dataframe\">\n",
              "  <thead>\n",
              "    <tr style=\"text-align: right;\">\n",
              "      <th></th>\n",
              "      <th>Unnamed: 0</th>\n",
              "      <th>Unnamed: 1</th>\n",
              "      <th>Los Angeles</th>\n",
              "      <th>Phoenix</th>\n",
              "      <th>San Diego</th>\n",
              "      <th>San Francisco</th>\n",
              "      <th>Seattle</th>\n",
              "    </tr>\n",
              "  </thead>\n",
              "  <tbody>\n",
              "    <tr>\n",
              "      <th>0</th>\n",
              "      <td>ALASKA</td>\n",
              "      <td>on time</td>\n",
              "      <td>497.0</td>\n",
              "      <td>221.0</td>\n",
              "      <td>212.0</td>\n",
              "      <td>503.0</td>\n",
              "      <td>1841.0</td>\n",
              "    </tr>\n",
              "    <tr>\n",
              "      <th>1</th>\n",
              "      <td>NaN</td>\n",
              "      <td>delayed</td>\n",
              "      <td>62.0</td>\n",
              "      <td>12.0</td>\n",
              "      <td>20.0</td>\n",
              "      <td>102.0</td>\n",
              "      <td>305.0</td>\n",
              "    </tr>\n",
              "    <tr>\n",
              "      <th>3</th>\n",
              "      <td>AM West</td>\n",
              "      <td>on time</td>\n",
              "      <td>694.0</td>\n",
              "      <td>4840.0</td>\n",
              "      <td>383.0</td>\n",
              "      <td>320.0</td>\n",
              "      <td>201.0</td>\n",
              "    </tr>\n",
              "    <tr>\n",
              "      <th>4</th>\n",
              "      <td>NaN</td>\n",
              "      <td>delayed</td>\n",
              "      <td>117.0</td>\n",
              "      <td>415.0</td>\n",
              "      <td>65.0</td>\n",
              "      <td>129.0</td>\n",
              "      <td>61.0</td>\n",
              "    </tr>\n",
              "  </tbody>\n",
              "</table>\n",
              "</div>"
            ],
            "text/plain": [
              "  Unnamed: 0 Unnamed: 1  Los Angeles  ...  San Diego  San Francisco  Seattle\n",
              "0     ALASKA    on time        497.0  ...      212.0          503.0   1841.0\n",
              "1        NaN    delayed         62.0  ...       20.0          102.0    305.0\n",
              "3    AM West    on time        694.0  ...      383.0          320.0    201.0\n",
              "4        NaN    delayed        117.0  ...       65.0          129.0     61.0\n",
              "\n",
              "[4 rows x 7 columns]"
            ]
          },
          "metadata": {
            "tags": []
          },
          "execution_count": 383
        }
      ]
    },
    {
      "cell_type": "code",
      "metadata": {
        "id": "3zzKhsFvnqH3",
        "colab_type": "code",
        "colab": {
          "base_uri": "https://localhost:8080/",
          "height": 173
        },
        "outputId": "c11e81e7-499d-45bd-d10f-a725fe0484fb"
      },
      "source": [
        "# ffill data so the NaNs take on the value of the previous value above\n",
        "data = data.fillna(method='ffill')\n",
        "data"
      ],
      "execution_count": 384,
      "outputs": [
        {
          "output_type": "execute_result",
          "data": {
            "text/html": [
              "<div>\n",
              "<style scoped>\n",
              "    .dataframe tbody tr th:only-of-type {\n",
              "        vertical-align: middle;\n",
              "    }\n",
              "\n",
              "    .dataframe tbody tr th {\n",
              "        vertical-align: top;\n",
              "    }\n",
              "\n",
              "    .dataframe thead th {\n",
              "        text-align: right;\n",
              "    }\n",
              "</style>\n",
              "<table border=\"1\" class=\"dataframe\">\n",
              "  <thead>\n",
              "    <tr style=\"text-align: right;\">\n",
              "      <th></th>\n",
              "      <th>Unnamed: 0</th>\n",
              "      <th>Unnamed: 1</th>\n",
              "      <th>Los Angeles</th>\n",
              "      <th>Phoenix</th>\n",
              "      <th>San Diego</th>\n",
              "      <th>San Francisco</th>\n",
              "      <th>Seattle</th>\n",
              "    </tr>\n",
              "  </thead>\n",
              "  <tbody>\n",
              "    <tr>\n",
              "      <th>0</th>\n",
              "      <td>ALASKA</td>\n",
              "      <td>on time</td>\n",
              "      <td>497.0</td>\n",
              "      <td>221.0</td>\n",
              "      <td>212.0</td>\n",
              "      <td>503.0</td>\n",
              "      <td>1841.0</td>\n",
              "    </tr>\n",
              "    <tr>\n",
              "      <th>1</th>\n",
              "      <td>ALASKA</td>\n",
              "      <td>delayed</td>\n",
              "      <td>62.0</td>\n",
              "      <td>12.0</td>\n",
              "      <td>20.0</td>\n",
              "      <td>102.0</td>\n",
              "      <td>305.0</td>\n",
              "    </tr>\n",
              "    <tr>\n",
              "      <th>3</th>\n",
              "      <td>AM West</td>\n",
              "      <td>on time</td>\n",
              "      <td>694.0</td>\n",
              "      <td>4840.0</td>\n",
              "      <td>383.0</td>\n",
              "      <td>320.0</td>\n",
              "      <td>201.0</td>\n",
              "    </tr>\n",
              "    <tr>\n",
              "      <th>4</th>\n",
              "      <td>AM West</td>\n",
              "      <td>delayed</td>\n",
              "      <td>117.0</td>\n",
              "      <td>415.0</td>\n",
              "      <td>65.0</td>\n",
              "      <td>129.0</td>\n",
              "      <td>61.0</td>\n",
              "    </tr>\n",
              "  </tbody>\n",
              "</table>\n",
              "</div>"
            ],
            "text/plain": [
              "  Unnamed: 0 Unnamed: 1  Los Angeles  ...  San Diego  San Francisco  Seattle\n",
              "0     ALASKA    on time        497.0  ...      212.0          503.0   1841.0\n",
              "1     ALASKA    delayed         62.0  ...       20.0          102.0    305.0\n",
              "3    AM West    on time        694.0  ...      383.0          320.0    201.0\n",
              "4    AM West    delayed        117.0  ...       65.0          129.0     61.0\n",
              "\n",
              "[4 rows x 7 columns]"
            ]
          },
          "metadata": {
            "tags": []
          },
          "execution_count": 384
        }
      ]
    },
    {
      "cell_type": "code",
      "metadata": {
        "id": "0_I1hnPQosmM",
        "colab_type": "code",
        "colab": {}
      },
      "source": [
        "# Rename unnamed columns to 'Carrier' and 'Status'\n",
        "data.rename(columns={'Unnamed: 0':'Carrier',\n",
        "                     'Unnamed: 1':'Status'},\n",
        "            inplace=True)"
      ],
      "execution_count": 0,
      "outputs": []
    },
    {
      "cell_type": "code",
      "metadata": {
        "id": "nYNI75J8rFjs",
        "colab_type": "code",
        "colab": {
          "base_uri": "https://localhost:8080/",
          "height": 669
        },
        "outputId": "57d57534-7309-4d30-ca15-daa6b6d58e08"
      },
      "source": [
        "# Creates tidy form of data, creating a new column 'City'\n",
        "data = pd.melt(data, id_vars =['Carrier','Status'], value_vars =['Los Angeles','Phoenix','San Diego','San Francisco','Seattle'],var_name='City') \n",
        "data"
      ],
      "execution_count": 386,
      "outputs": [
        {
          "output_type": "execute_result",
          "data": {
            "text/html": [
              "<div>\n",
              "<style scoped>\n",
              "    .dataframe tbody tr th:only-of-type {\n",
              "        vertical-align: middle;\n",
              "    }\n",
              "\n",
              "    .dataframe tbody tr th {\n",
              "        vertical-align: top;\n",
              "    }\n",
              "\n",
              "    .dataframe thead th {\n",
              "        text-align: right;\n",
              "    }\n",
              "</style>\n",
              "<table border=\"1\" class=\"dataframe\">\n",
              "  <thead>\n",
              "    <tr style=\"text-align: right;\">\n",
              "      <th></th>\n",
              "      <th>Carrier</th>\n",
              "      <th>Status</th>\n",
              "      <th>City</th>\n",
              "      <th>value</th>\n",
              "    </tr>\n",
              "  </thead>\n",
              "  <tbody>\n",
              "    <tr>\n",
              "      <th>0</th>\n",
              "      <td>ALASKA</td>\n",
              "      <td>on time</td>\n",
              "      <td>Los Angeles</td>\n",
              "      <td>497.0</td>\n",
              "    </tr>\n",
              "    <tr>\n",
              "      <th>1</th>\n",
              "      <td>ALASKA</td>\n",
              "      <td>delayed</td>\n",
              "      <td>Los Angeles</td>\n",
              "      <td>62.0</td>\n",
              "    </tr>\n",
              "    <tr>\n",
              "      <th>2</th>\n",
              "      <td>AM West</td>\n",
              "      <td>on time</td>\n",
              "      <td>Los Angeles</td>\n",
              "      <td>694.0</td>\n",
              "    </tr>\n",
              "    <tr>\n",
              "      <th>3</th>\n",
              "      <td>AM West</td>\n",
              "      <td>delayed</td>\n",
              "      <td>Los Angeles</td>\n",
              "      <td>117.0</td>\n",
              "    </tr>\n",
              "    <tr>\n",
              "      <th>4</th>\n",
              "      <td>ALASKA</td>\n",
              "      <td>on time</td>\n",
              "      <td>Phoenix</td>\n",
              "      <td>221.0</td>\n",
              "    </tr>\n",
              "    <tr>\n",
              "      <th>5</th>\n",
              "      <td>ALASKA</td>\n",
              "      <td>delayed</td>\n",
              "      <td>Phoenix</td>\n",
              "      <td>12.0</td>\n",
              "    </tr>\n",
              "    <tr>\n",
              "      <th>6</th>\n",
              "      <td>AM West</td>\n",
              "      <td>on time</td>\n",
              "      <td>Phoenix</td>\n",
              "      <td>4840.0</td>\n",
              "    </tr>\n",
              "    <tr>\n",
              "      <th>7</th>\n",
              "      <td>AM West</td>\n",
              "      <td>delayed</td>\n",
              "      <td>Phoenix</td>\n",
              "      <td>415.0</td>\n",
              "    </tr>\n",
              "    <tr>\n",
              "      <th>8</th>\n",
              "      <td>ALASKA</td>\n",
              "      <td>on time</td>\n",
              "      <td>San Diego</td>\n",
              "      <td>212.0</td>\n",
              "    </tr>\n",
              "    <tr>\n",
              "      <th>9</th>\n",
              "      <td>ALASKA</td>\n",
              "      <td>delayed</td>\n",
              "      <td>San Diego</td>\n",
              "      <td>20.0</td>\n",
              "    </tr>\n",
              "    <tr>\n",
              "      <th>10</th>\n",
              "      <td>AM West</td>\n",
              "      <td>on time</td>\n",
              "      <td>San Diego</td>\n",
              "      <td>383.0</td>\n",
              "    </tr>\n",
              "    <tr>\n",
              "      <th>11</th>\n",
              "      <td>AM West</td>\n",
              "      <td>delayed</td>\n",
              "      <td>San Diego</td>\n",
              "      <td>65.0</td>\n",
              "    </tr>\n",
              "    <tr>\n",
              "      <th>12</th>\n",
              "      <td>ALASKA</td>\n",
              "      <td>on time</td>\n",
              "      <td>San Francisco</td>\n",
              "      <td>503.0</td>\n",
              "    </tr>\n",
              "    <tr>\n",
              "      <th>13</th>\n",
              "      <td>ALASKA</td>\n",
              "      <td>delayed</td>\n",
              "      <td>San Francisco</td>\n",
              "      <td>102.0</td>\n",
              "    </tr>\n",
              "    <tr>\n",
              "      <th>14</th>\n",
              "      <td>AM West</td>\n",
              "      <td>on time</td>\n",
              "      <td>San Francisco</td>\n",
              "      <td>320.0</td>\n",
              "    </tr>\n",
              "    <tr>\n",
              "      <th>15</th>\n",
              "      <td>AM West</td>\n",
              "      <td>delayed</td>\n",
              "      <td>San Francisco</td>\n",
              "      <td>129.0</td>\n",
              "    </tr>\n",
              "    <tr>\n",
              "      <th>16</th>\n",
              "      <td>ALASKA</td>\n",
              "      <td>on time</td>\n",
              "      <td>Seattle</td>\n",
              "      <td>1841.0</td>\n",
              "    </tr>\n",
              "    <tr>\n",
              "      <th>17</th>\n",
              "      <td>ALASKA</td>\n",
              "      <td>delayed</td>\n",
              "      <td>Seattle</td>\n",
              "      <td>305.0</td>\n",
              "    </tr>\n",
              "    <tr>\n",
              "      <th>18</th>\n",
              "      <td>AM West</td>\n",
              "      <td>on time</td>\n",
              "      <td>Seattle</td>\n",
              "      <td>201.0</td>\n",
              "    </tr>\n",
              "    <tr>\n",
              "      <th>19</th>\n",
              "      <td>AM West</td>\n",
              "      <td>delayed</td>\n",
              "      <td>Seattle</td>\n",
              "      <td>61.0</td>\n",
              "    </tr>\n",
              "  </tbody>\n",
              "</table>\n",
              "</div>"
            ],
            "text/plain": [
              "    Carrier   Status           City   value\n",
              "0    ALASKA  on time    Los Angeles   497.0\n",
              "1    ALASKA  delayed    Los Angeles    62.0\n",
              "2   AM West  on time    Los Angeles   694.0\n",
              "3   AM West  delayed    Los Angeles   117.0\n",
              "4    ALASKA  on time        Phoenix   221.0\n",
              "5    ALASKA  delayed        Phoenix    12.0\n",
              "6   AM West  on time        Phoenix  4840.0\n",
              "7   AM West  delayed        Phoenix   415.0\n",
              "8    ALASKA  on time      San Diego   212.0\n",
              "9    ALASKA  delayed      San Diego    20.0\n",
              "10  AM West  on time      San Diego   383.0\n",
              "11  AM West  delayed      San Diego    65.0\n",
              "12   ALASKA  on time  San Francisco   503.0\n",
              "13   ALASKA  delayed  San Francisco   102.0\n",
              "14  AM West  on time  San Francisco   320.0\n",
              "15  AM West  delayed  San Francisco   129.0\n",
              "16   ALASKA  on time        Seattle  1841.0\n",
              "17   ALASKA  delayed        Seattle   305.0\n",
              "18  AM West  on time        Seattle   201.0\n",
              "19  AM West  delayed        Seattle    61.0"
            ]
          },
          "metadata": {
            "tags": []
          },
          "execution_count": 386
        }
      ]
    },
    {
      "cell_type": "markdown",
      "metadata": {
        "id": "g54OlLr_vPmY",
        "colab_type": "text"
      },
      "source": [
        "### Which City has the highest amount of delays?"
      ]
    },
    {
      "cell_type": "code",
      "metadata": {
        "id": "7zpW8Va7ziYX",
        "colab_type": "code",
        "colab": {
          "base_uri": "https://localhost:8080/",
          "height": 390
        },
        "outputId": "22764610-25b4-4b1c-d144-e5303bb70163"
      },
      "source": [
        "# Groups data by status, carrier then city\n",
        "city_delay = data.groupby(['Status','City']).sum()\n",
        "city_delay"
      ],
      "execution_count": 387,
      "outputs": [
        {
          "output_type": "execute_result",
          "data": {
            "text/html": [
              "<div>\n",
              "<style scoped>\n",
              "    .dataframe tbody tr th:only-of-type {\n",
              "        vertical-align: middle;\n",
              "    }\n",
              "\n",
              "    .dataframe tbody tr th {\n",
              "        vertical-align: top;\n",
              "    }\n",
              "\n",
              "    .dataframe thead th {\n",
              "        text-align: right;\n",
              "    }\n",
              "</style>\n",
              "<table border=\"1\" class=\"dataframe\">\n",
              "  <thead>\n",
              "    <tr style=\"text-align: right;\">\n",
              "      <th></th>\n",
              "      <th></th>\n",
              "      <th>value</th>\n",
              "    </tr>\n",
              "    <tr>\n",
              "      <th>Status</th>\n",
              "      <th>City</th>\n",
              "      <th></th>\n",
              "    </tr>\n",
              "  </thead>\n",
              "  <tbody>\n",
              "    <tr>\n",
              "      <th rowspan=\"5\" valign=\"top\">delayed</th>\n",
              "      <th>Los Angeles</th>\n",
              "      <td>179.0</td>\n",
              "    </tr>\n",
              "    <tr>\n",
              "      <th>Phoenix</th>\n",
              "      <td>427.0</td>\n",
              "    </tr>\n",
              "    <tr>\n",
              "      <th>San Diego</th>\n",
              "      <td>85.0</td>\n",
              "    </tr>\n",
              "    <tr>\n",
              "      <th>San Francisco</th>\n",
              "      <td>231.0</td>\n",
              "    </tr>\n",
              "    <tr>\n",
              "      <th>Seattle</th>\n",
              "      <td>366.0</td>\n",
              "    </tr>\n",
              "    <tr>\n",
              "      <th rowspan=\"5\" valign=\"top\">on time</th>\n",
              "      <th>Los Angeles</th>\n",
              "      <td>1191.0</td>\n",
              "    </tr>\n",
              "    <tr>\n",
              "      <th>Phoenix</th>\n",
              "      <td>5061.0</td>\n",
              "    </tr>\n",
              "    <tr>\n",
              "      <th>San Diego</th>\n",
              "      <td>595.0</td>\n",
              "    </tr>\n",
              "    <tr>\n",
              "      <th>San Francisco</th>\n",
              "      <td>823.0</td>\n",
              "    </tr>\n",
              "    <tr>\n",
              "      <th>Seattle</th>\n",
              "      <td>2042.0</td>\n",
              "    </tr>\n",
              "  </tbody>\n",
              "</table>\n",
              "</div>"
            ],
            "text/plain": [
              "                        value\n",
              "Status  City                 \n",
              "delayed Los Angeles     179.0\n",
              "        Phoenix         427.0\n",
              "        San Diego        85.0\n",
              "        San Francisco   231.0\n",
              "        Seattle         366.0\n",
              "on time Los Angeles    1191.0\n",
              "        Phoenix        5061.0\n",
              "        San Diego       595.0\n",
              "        San Francisco   823.0\n",
              "        Seattle        2042.0"
            ]
          },
          "metadata": {
            "tags": []
          },
          "execution_count": 387
        }
      ]
    },
    {
      "cell_type": "markdown",
      "metadata": {
        "id": "FS5rsI-9wtNf",
        "colab_type": "text"
      },
      "source": [
        "Based on the DataFrame it appears that Phoenix has the highest number of delays, with 427 delays."
      ]
    },
    {
      "cell_type": "markdown",
      "metadata": {
        "id": "Ga3vv3fJxBjG",
        "colab_type": "text"
      },
      "source": [
        "***"
      ]
    },
    {
      "cell_type": "markdown",
      "metadata": {
        "id": "SmkfLnPuxE4Q",
        "colab_type": "text"
      },
      "source": [
        "### From Phoenix, which carrier has the most delays?"
      ]
    },
    {
      "cell_type": "code",
      "metadata": {
        "id": "6efnR_AezxNf",
        "colab_type": "code",
        "colab": {}
      },
      "source": [
        "# Filters DataFrame to only contain data for Phoenix flights\n",
        "is_phx = data['City'] == 'Phoenix'"
      ],
      "execution_count": 0,
      "outputs": []
    },
    {
      "cell_type": "code",
      "metadata": {
        "id": "POrEVWZ6yg-s",
        "colab_type": "code",
        "colab": {}
      },
      "source": [
        "phx = data[is_phx]"
      ],
      "execution_count": 0,
      "outputs": []
    },
    {
      "cell_type": "code",
      "metadata": {
        "id": "nDEjW99fzJx2",
        "colab_type": "code",
        "colab": {
          "base_uri": "https://localhost:8080/",
          "height": 204
        },
        "outputId": "cc0d3edd-e8f5-4423-cdf4-64b2bd436af0"
      },
      "source": [
        "# Group new DataFrame of only Phoenix flights by Status and Carrier\n",
        "phx.groupby(['Status','Carrier']).sum()"
      ],
      "execution_count": 390,
      "outputs": [
        {
          "output_type": "execute_result",
          "data": {
            "text/html": [
              "<div>\n",
              "<style scoped>\n",
              "    .dataframe tbody tr th:only-of-type {\n",
              "        vertical-align: middle;\n",
              "    }\n",
              "\n",
              "    .dataframe tbody tr th {\n",
              "        vertical-align: top;\n",
              "    }\n",
              "\n",
              "    .dataframe thead th {\n",
              "        text-align: right;\n",
              "    }\n",
              "</style>\n",
              "<table border=\"1\" class=\"dataframe\">\n",
              "  <thead>\n",
              "    <tr style=\"text-align: right;\">\n",
              "      <th></th>\n",
              "      <th></th>\n",
              "      <th>value</th>\n",
              "    </tr>\n",
              "    <tr>\n",
              "      <th>Status</th>\n",
              "      <th>Carrier</th>\n",
              "      <th></th>\n",
              "    </tr>\n",
              "  </thead>\n",
              "  <tbody>\n",
              "    <tr>\n",
              "      <th rowspan=\"2\" valign=\"top\">delayed</th>\n",
              "      <th>ALASKA</th>\n",
              "      <td>12.0</td>\n",
              "    </tr>\n",
              "    <tr>\n",
              "      <th>AM West</th>\n",
              "      <td>415.0</td>\n",
              "    </tr>\n",
              "    <tr>\n",
              "      <th rowspan=\"2\" valign=\"top\">on time</th>\n",
              "      <th>ALASKA</th>\n",
              "      <td>221.0</td>\n",
              "    </tr>\n",
              "    <tr>\n",
              "      <th>AM West</th>\n",
              "      <td>4840.0</td>\n",
              "    </tr>\n",
              "  </tbody>\n",
              "</table>\n",
              "</div>"
            ],
            "text/plain": [
              "                  value\n",
              "Status  Carrier        \n",
              "delayed ALASKA     12.0\n",
              "        AM West   415.0\n",
              "on time ALASKA    221.0\n",
              "        AM West  4840.0"
            ]
          },
          "metadata": {
            "tags": []
          },
          "execution_count": 390
        }
      ]
    },
    {
      "cell_type": "markdown",
      "metadata": {
        "id": "Rm7hl0De0YoU",
        "colab_type": "text"
      },
      "source": [
        "Out of the flights leaving Phoenix, AM West has the most delays with 415 delays, while alaska only has 12 delays."
      ]
    },
    {
      "cell_type": "markdown",
      "metadata": {
        "id": "gi7fJ4g82suD",
        "colab_type": "text"
      },
      "source": [
        "***"
      ]
    },
    {
      "cell_type": "markdown",
      "metadata": {
        "id": "BA64cJFu3QMg",
        "colab_type": "text"
      },
      "source": [
        "### Changes:"
      ]
    },
    {
      "cell_type": "markdown",
      "metadata": {
        "id": "Ic97pOxK2vf7",
        "colab_type": "text"
      },
      "source": [
        "If I were to convert the data back to wide format, I would include the Carrier for each row instead of only one row. I would also switch the status and carrier columns in order to compare flight status against each carrier. "
      ]
    }
  ]
}