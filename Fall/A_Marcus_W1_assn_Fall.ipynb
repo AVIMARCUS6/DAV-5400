{
  "nbformat": 4,
  "nbformat_minor": 0,
  "metadata": {
    "colab": {
      "name": "A_Marcus_W1_assn_Fall.ipynb",
      "version": "0.3.2",
      "provenance": [],
      "include_colab_link": true
    },
    "kernelspec": {
      "name": "python3",
      "display_name": "Python 3"
    }
  },
  "cells": [
    {
      "cell_type": "markdown",
      "metadata": {
        "id": "view-in-github",
        "colab_type": "text"
      },
      "source": [
        "<a href=\"https://colab.research.google.com/github/AVIMARCUS6/DAV-5400/blob/master/A_Marcus_W1_assn_Fall.ipynb\" target=\"_parent\"><img src=\"https://colab.research.google.com/assets/colab-badge.svg\" alt=\"Open In Colab\"/></a>"
      ]
    },
    {
      "cell_type": "markdown",
      "metadata": {
        "id": "rBvSUv0ikERh",
        "colab_type": "text"
      },
      "source": [
        "https://www.kaggle.com/c/zillow-prize-1/data"
      ]
    },
    {
      "cell_type": "markdown",
      "metadata": {
        "id": "9DkIFxnbkP-w",
        "colab_type": "text"
      },
      "source": [
        "https://raw.githubusercontent.com/AVIMARCUS6/DAV-5400/master/Sale_Prices_State.csv"
      ]
    },
    {
      "cell_type": "markdown",
      "metadata": {
        "id": "yaU3AFjwkOqX",
        "colab_type": "text"
      },
      "source": [
        "This data set contains data relating to zillows database of houses and housing prices. I would like to analyze this data to try and highlight popular trends in the market as well unpopular trends. I would like to answer questions such as why do people by in a specific area over another, when do people purchase or rent their homes. What are the average costs of homes in different states, cities and zips. I would also like to compare the market in rural cities vs other cities."
      ]
    },
    {
      "cell_type": "code",
      "metadata": {
        "id": "k2liCQmMlYWE",
        "colab_type": "code",
        "colab": {}
      },
      "source": [
        ""
      ],
      "execution_count": 0,
      "outputs": []
    }
  ]
}