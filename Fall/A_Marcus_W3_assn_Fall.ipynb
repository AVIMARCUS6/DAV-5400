{
 "cells": [
  {
   "cell_type": "code",
   "execution_count": 41,
   "metadata": {},
   "outputs": [
    {
     "name": "stdout",
     "output_type": "stream",
     "text": [
      "['high', 'high', '2', '4', 'med', 'low', 'unacc']\n",
      "['high', 'high', '4', 'more', 'small', 'high', 'acc']\n",
      "['high', 'high', '4', 'more', 'big', 'low', 'unacc']\n",
      "['high', 'low', '2', 'more', 'big', 'high', 'acc']\n",
      "['vhigh', 'low', '3', '2', 'med', 'med', 'unacc']\n",
      "['low', 'high', '2', '2', 'small', 'low', 'unacc']\n",
      "['med', 'med', '4', 'more', 'med', 'high', 'vgood']\n",
      "['low', 'low', '3', '2', 'big', 'med', 'unacc']\n",
      "['vhigh', 'low', '2', '2', 'small', 'low', 'unacc']\n",
      "['vhigh', 'high', '4', '4', 'med', 'low', 'unacc']\n",
      "['low', 'low', '2', '2', 'med', 'med', 'unacc']\n",
      "['vhigh', 'low', '4', 'more', 'small', 'high', 'acc']\n",
      "['high', 'low', '2', '4', 'big', 'med', 'acc']\n",
      "['low', 'vhigh', '3', 'more', 'big', 'low', 'unacc']\n",
      "['high', 'low', '5more', '2', 'big', 'med', 'unacc']\n",
      "['vhigh', 'high', '2', 'more', 'med', 'high', 'unacc']\n",
      "['med', 'med', '2', '2', 'small', 'low', 'unacc']\n",
      "['high', 'low', '5more', '4', 'med', 'high', 'acc']\n",
      "['low', 'low', '3', 'more', 'med', 'high', 'vgood']\n",
      "['low', 'low', '2', '2', 'big', 'med', 'unacc']\n",
      "['med', 'high', '4', '2', 'big', 'high', 'unacc']\n",
      "['low', 'low', '2', '2', 'small', 'high', 'unacc']\n",
      "['vhigh', 'high', '5more', '4', 'med', 'med', 'unacc']\n",
      "['med', 'vhigh', '2', '2', 'big', 'low', 'unacc']\n",
      "['low', 'vhigh', '4', '4', 'big', 'low', 'unacc']\n",
      "['vhigh', 'low', '3', 'more', 'big', 'low', 'unacc']\n",
      "['med', 'vhigh', '3', '4', 'small', 'low', 'unacc']\n",
      "['high', 'high', '3', '4', 'med', 'med', 'unacc']\n",
      "['low', 'high', '5more', '2', 'big', 'low', 'unacc']\n",
      "['med', 'high', '5more', '2', 'med', 'med', 'unacc']\n",
      "['high', 'low', '3', '4', 'med', 'high', 'acc']\n",
      "['high', 'vhigh', '5more', '4', 'med', 'med', 'unacc']\n",
      "['low', 'low', '5more', '2', 'med', 'low', 'unacc']\n",
      "['vhigh', 'vhigh', '4', '2', 'big', 'high', 'unacc']\n",
      "['high', 'low', '3', '2', 'big', 'high', 'unacc']\n"
     ]
    }
   ],
   "source": [
    "import csv\n",
    "# be sure to update the path below to reflect your own environment!!\n",
    "# also be sure that the code is properly indented after you paste it!\n",
    "with open('/Users/avimarcus/Google Drive/Grad School/Fall 2019/Analytic Programming/Week 2/cars-sample35.txt') as csvfile:\n",
    "    readCSV = csv.reader(csvfile)\n",
    "    for row in readCSV:\n",
    " # print each row as read by the csv.reader function\n",
    "        print(row)"
   ]
  },
  {
   "cell_type": "markdown",
   "metadata": {},
   "source": [
    "- Price\n",
    "- Maintenance cost\n",
    "- Number of doors\n",
    "- Number of passengers\n",
    "- Luggage capacity\n",
    "- Safety rating\n",
    "- Classification of vehicle"
   ]
  },
  {
   "cell_type": "code",
   "execution_count": 42,
   "metadata": {},
   "outputs": [],
   "source": [
    "with open('/Users/avimarcus/Google Drive/Grad School/Fall 2019/Analytic Programming/Week 2/cars-sample35.txt') as csvfile:\n",
    "# create lists to fill of each category\n",
    "    readCSV = csv.reader(csvfile)\n",
    "    price = []\n",
    "    maintenance_cost = []\n",
    "    doors = []\n",
    "    passengers = []\n",
    "    luggage_cap = []\n",
    "    safety_score = []\n",
    "    vehicle_class = []\n",
    "\n",
    "# fill each list with corresponding column    \n",
    "    for row in readCSV:\n",
    "        price.append(row[0])\n",
    "        maintenance_cost.append(row[1])\n",
    "        doors.append(row[2])\n",
    "        passengers.append(row[3])\n",
    "        luggage_cap.append(row[4])\n",
    "        safety_score.append(row[5])\n",
    "        vehicle_class.append(row[6])"
   ]
  },
  {
   "cell_type": "code",
   "execution_count": 43,
   "metadata": {},
   "outputs": [
    {
     "name": "stdout",
     "output_type": "stream",
     "text": [
      "Price: ['high', 'high', 'high', 'high', 'vhigh', 'low', 'med', 'low', 'vhigh', 'vhigh', 'low', 'vhigh', 'high', 'low', 'high', 'vhigh', 'med', 'high', 'low', 'low', 'med', 'low', 'vhigh', 'med', 'low', 'vhigh', 'med', 'high', 'low', 'med', 'high', 'high', 'low', 'vhigh', 'high']\n",
      "Maintenance cost: ['high', 'high', 'high', 'low', 'low', 'high', 'med', 'low', 'low', 'high', 'low', 'low', 'low', 'vhigh', 'low', 'high', 'med', 'low', 'low', 'low', 'high', 'low', 'high', 'vhigh', 'vhigh', 'low', 'vhigh', 'high', 'high', 'high', 'low', 'vhigh', 'low', 'vhigh', 'low']\n",
      "Number of Doors: ['2', '4', '4', '2', '3', '2', '4', '3', '2', '4', '2', '4', '2', '3', '5more', '2', '2', '5more', '3', '2', '4', '2', '5more', '2', '4', '3', '3', '3', '5more', '5more', '3', '5more', '5more', '4', '3']\n",
      "Number of Passengers:  ['4', 'more', 'more', 'more', '2', '2', 'more', '2', '2', '4', '2', 'more', '4', 'more', '2', 'more', '2', '4', 'more', '2', '2', '2', '4', '2', '4', 'more', '4', '4', '2', '2', '4', '4', '2', '2', '2']\n",
      "Luggage capacity ['med', 'small', 'big', 'big', 'med', 'small', 'med', 'big', 'small', 'med', 'med', 'small', 'big', 'big', 'big', 'med', 'small', 'med', 'med', 'big', 'big', 'small', 'med', 'big', 'big', 'big', 'small', 'med', 'big', 'med', 'med', 'med', 'med', 'big', 'big']\n",
      "Safety rating ['low', 'high', 'low', 'high', 'med', 'low', 'high', 'med', 'low', 'low', 'med', 'high', 'med', 'low', 'med', 'high', 'low', 'high', 'high', 'med', 'high', 'high', 'med', 'low', 'low', 'low', 'low', 'med', 'low', 'med', 'high', 'med', 'low', 'high', 'high']\n",
      "Classification of vehicle ['unacc', 'acc', 'unacc', 'acc', 'unacc', 'unacc', 'vgood', 'unacc', 'unacc', 'unacc', 'unacc', 'acc', 'acc', 'unacc', 'unacc', 'unacc', 'unacc', 'acc', 'vgood', 'unacc', 'unacc', 'unacc', 'unacc', 'unacc', 'unacc', 'unacc', 'unacc', 'unacc', 'unacc', 'unacc', 'acc', 'unacc', 'unacc', 'unacc', 'unacc']\n"
     ]
    }
   ],
   "source": [
    "# print new lists of each category\n",
    "print('Price:', price)\n",
    "print('Maintenance cost:', maintenance_cost)\n",
    "print('Number of Doors:', doors)\n",
    "print('Number of Passengers: ', passengers)\n",
    "print('Luggage capacity', luggage_cap)\n",
    "print('Safety rating', safety_score)\n",
    "print('Classification of vehicle', vehicle_class)"
   ]
  },
  {
   "cell_type": "markdown",
   "metadata": {},
   "source": [
    "***"
   ]
  },
  {
   "cell_type": "markdown",
   "metadata": {},
   "source": [
    "### (1) \n",
    "Find the list index values of each automobile having a price rating of \"med\". However, you are required to do this using a list comprehension instead of a basic for or while loop. The list comprehension should create a new list containing your result. Be sure to print your results to the screen."
   ]
  },
  {
   "cell_type": "code",
   "execution_count": 44,
   "metadata": {},
   "outputs": [
    {
     "name": "stdout",
     "output_type": "stream",
     "text": [
      "[6, 16, 20, 23, 26, 29]\n"
     ]
    }
   ],
   "source": [
    "# loop through price and create list of indexes where price == 'med'\n",
    "med_price = [i for i,x in enumerate(price) if x == 'med']\n",
    "\n",
    "print(med_price)"
   ]
  },
  {
   "cell_type": "markdown",
   "metadata": {},
   "source": [
    "***"
   ]
  },
  {
   "cell_type": "markdown",
   "metadata": {},
   "source": [
    "### (2)\n",
    "Find the \"number of passengers\" value for each auto having a \"price\" value of \"med\" using a list\n",
    "comprehension instead of a basic for or while loop. The list comprehension should create a new list containing your\n",
    "findings. Be sure to print your results to the screen."
   ]
  },
  {
   "cell_type": "code",
   "execution_count": 45,
   "metadata": {},
   "outputs": [
    {
     "name": "stdout",
     "output_type": "stream",
     "text": [
      "['more', '2', '2', '2', '4', '2']\n"
     ]
    }
   ],
   "source": [
    "# use indexes from price medium and find each of those index location in the \"passangers\" list\n",
    "price_med_pass = [passengers[i] for i in med_price ]\n",
    "\n",
    "print(price_med_pass)"
   ]
  },
  {
   "cell_type": "markdown",
   "metadata": {},
   "source": [
    "***"
   ]
  },
  {
   "cell_type": "markdown",
   "metadata": {},
   "source": [
    "### (3)\n",
    "Find the index value for each automobile having a price value of \"high\" and a maintenance value that\n",
    "is not \"low\" using a list comprehension. The list comprehension should create a new list containing your findings. Be\n",
    "sure to print your results to the screen."
   ]
  },
  {
   "cell_type": "code",
   "execution_count": 46,
   "metadata": {},
   "outputs": [
    {
     "name": "stdout",
     "output_type": "stream",
     "text": [
      "[0, 1, 2, 27, 31]\n"
     ]
    }
   ],
   "source": [
    "# loop through price and create list of indexes where price == 'high'\n",
    "price_high = [i for i,x in enumerate(price) if x == 'high']\n",
    "# loop through maintenance cost and create list of indexes where maintenence cost \n",
    "# does not equal 'low'\n",
    "maint_low = [i for i,x in enumerate(maintenance_cost) if x != 'low']\n",
    "\n",
    "# merges two lists into a list containing only common indexes\n",
    "price_high_maint_low = [i for i in price_high if i in maint_low]\n",
    "\n",
    "print(price_high_maint_low)"
   ]
  },
  {
   "cell_type": "markdown",
   "metadata": {},
   "source": [
    "***"
   ]
  },
  {
   "cell_type": "markdown",
   "metadata": {},
   "source": [
    "### (4)\n",
    "Implement this same logic using a list comprehension. Apply your list comprehension to the nlist\n",
    "list of lists shown above. Be sure to print your newly created list to the screen."
   ]
  },
  {
   "cell_type": "code",
   "execution_count": 47,
   "metadata": {},
   "outputs": [],
   "source": [
    "nlist = [[1,2,3],['A','B','C'],[4,5],['D','E']]"
   ]
  },
  {
   "cell_type": "code",
   "execution_count": 48,
   "metadata": {},
   "outputs": [
    {
     "name": "stdout",
     "output_type": "stream",
     "text": [
      "[1, 2, 3, 'A', 'B', 'C', 4, 5, 'D', 'E']\n"
     ]
    }
   ],
   "source": [
    "flist = []\n",
    "for x in nlist:\n",
    "    for y in x:\n",
    "        flist.append(y)\n",
    "print(flist)"
   ]
  },
  {
   "cell_type": "code",
   "execution_count": 49,
   "metadata": {},
   "outputs": [
    {
     "name": "stdout",
     "output_type": "stream",
     "text": [
      "[1, 2, 3, 'A', 'B', 'C', 4, 5, 'D', 'E']\n"
     ]
    }
   ],
   "source": [
    "# list comprehension which takes each value of original list of lists and adds them to a new flatten list\n",
    "flist = [y for x in nlist for y in x]\n",
    "print(flist)"
   ]
  },
  {
   "cell_type": "markdown",
   "metadata": {},
   "source": [
    "- https://www.geeksforgeeks.org/nested-list-comprehensions-in-python/"
   ]
  },
  {
   "cell_type": "markdown",
   "metadata": {},
   "source": [
    "***"
   ]
  },
  {
   "cell_type": "markdown",
   "metadata": {},
   "source": [
    "### (5)\n",
    "create a user defined function that accepts as input one of the seven automobile attribute lists as\n",
    "well as an integer value and returns a Python dict object. Remember: a Python dict object is comprised of ‘key/value’\n",
    "pairs. The integer value accepted as a parameter by your function will represent the exact number of items you are to\n",
    "use from the list for purposes of creating the new dict object."
   ]
  },
  {
   "cell_type": "code",
   "execution_count": 107,
   "metadata": {},
   "outputs": [],
   "source": [
    "def makedict(mylist, x):\n",
    "    newdict = {}\n",
    "    # if x is greater then the number of values in list, x will automatically be the\n",
    "    # length of list\n",
    "    if x  > len(mylist):\n",
    "        x = len(mylist)\n",
    "        \n",
    "    # iterate through list x amount \n",
    "    for i in range(x):\n",
    "        \n",
    "        # create key for dictionary which consists of 'A' plus index number\n",
    "        newdict['A' + str(i)] = mylist[i]\n",
    "    \n",
    "    return(newdict)"
   ]
  },
  {
   "cell_type": "markdown",
   "metadata": {},
   "source": [
    "***"
   ]
  },
  {
   "cell_type": "markdown",
   "metadata": {},
   "source": [
    "### (6) \n",
    "Now that you have your reusable user-defined function, use it to create two new dict objects containing the first seven\n",
    "elements of the ‘Price’ and ‘Luggage’ lists, respectively. Then, use these dict objects to tell us the price and luggage\n",
    "capacity of the auto identified by the ‘A4’ key value."
   ]
  },
  {
   "cell_type": "code",
   "execution_count": 119,
   "metadata": {},
   "outputs": [
    {
     "name": "stdout",
     "output_type": "stream",
     "text": [
      "{'A0': 'high', 'A1': 'high', 'A2': 'high', 'A3': 'high', 'A4': 'vhigh', 'A5': 'low', 'A6': 'med'}\n",
      "{'A0': 'med', 'A1': 'small', 'A2': 'big', 'A3': 'big', 'A4': 'med', 'A5': 'small', 'A6': 'med'}\n",
      "A4:  med\n"
     ]
    }
   ],
   "source": [
    "price_dict = makedict(price, 7)\n",
    "luggage_dict = makedict(luggage_cap, 7)\n",
    "\n",
    "print(price_dict)\n",
    "print(luggage_dict)\n",
    "print('A4: ', luggage_dict['A4'])"
   ]
  },
  {
   "cell_type": "markdown",
   "metadata": {},
   "source": [
    "- https://www.youtube.com/watch?v=olgOM8ORd_s"
   ]
  }
 ],
 "metadata": {
  "kernelspec": {
   "display_name": "Python 3",
   "language": "python",
   "name": "python3"
  },
  "language_info": {
   "codemirror_mode": {
    "name": "ipython",
    "version": 3
   },
   "file_extension": ".py",
   "mimetype": "text/x-python",
   "name": "python",
   "nbconvert_exporter": "python",
   "pygments_lexer": "ipython3",
   "version": "3.7.1"
  }
 },
 "nbformat": 4,
 "nbformat_minor": 2
}
