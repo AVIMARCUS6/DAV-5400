{
 "cells": [
  {
   "cell_type": "markdown",
   "metadata": {},
   "source": [
    "# New York City Rat Infestation Through the Lense of Data"
   ]
  },
  {
   "cell_type": "markdown",
   "metadata": {},
   "source": [
    "## Project Proposal"
   ]
  },
  {
   "cell_type": "markdown",
   "metadata": {},
   "source": [
    "## Introduction:\n",
    "New York City has a rat problem, and some believe it has gotten out of hand. Between 2010 and 2019 there have been over 130,000 rat sightings in New York City. Rodents have taken over the city and the results are worrying. It was reported by Winnie Hu in her New York Times article, that the tables have turned. The infestation has gotten to the point where humans tend to find themselves dodging and avoiding the rodents as opposed to the scurrying away at the sound of footsteps."
   ]
  },
  {
   "cell_type": "markdown",
   "metadata": {},
   "source": [
    "## Research Questions:\n",
    "This project will analyze public data to get a better understanding of the rat problem. The goal will be to dig down to the core and discover possible causes for this infestation. \n",
    "- Where are the rat sightings most common?\n",
    "    - Which area of New York City are the rats sightings the highest.\n",
    "- What kind of neighborhood are these sightings in?\n",
    "    - What kind of people are located in this area?\n",
    "    - What kind of buildings are in these areas?\n",
    "    - What kind of establishments are located in these areas?\n",
    "- Could there be a relationship between the number of sightings and the neighborhood? \n",
    "    - Do establishments such as restaurants effect the number of sightings?\n",
    "- What affect does weather have on the number of sightings?\n",
    "    - Do rats tend to come into the public in certain weather?\n",
    "- Is there a central location where the infestation is at its highest with a rippling effect to its surrounding areas?\n",
    "    - Perhaps these sightings are not random and there is a source of the infestation which when resolved will break down the infestation in the other areas.\n",
    "\n",
    "\n"
   ]
  },
  {
   "cell_type": "markdown",
   "metadata": {},
   "source": [
    "## Data to be Used and Approach:\n",
    "- https://www.kaggle.com/new-york-city/nyc-rat-sightings/download\n",
    "    - Data will be uploaded by CSV from Github and stored in a pandas DataFrame. This data will serve as the main dataset for this project and will be joined with other necessary datasets for analysis. The data will be analyzed using summary statistics and bar plots. It will then be used in conunction with other data sets and analyzed based off the new information for further insights.\n",
    "- https://www.kaggle.com/new-york-city/nyc-buildings\n",
    "    - Data will be uploaded by CSV from Github and stored in a Pandas DataFrame. The data will be used in conjunction with the rat sightings data to identify key areas where sightings occur. Will attempt to construct geo plots which overlay a map of rat sightings on differet breakups of the city, such as zip code, borough, street, and Sanitation District.\n",
    "\n",
    "- https://www.kaggle.com/adamschroeder/crimes-new-york-city\n",
    "    - Data will be uploaded by CSV from Github where it will be stored in a Pandas DataFrame. The data will serve as a method in gaging the surrounding area of rat sightings and will be used to character certain characteristics of the area, such as cleanliness. Based on analysis from rat sightings data, crimes data will be used in an attempt to see if there is a relationship between crime rates and rat sightings based on area.\n",
    "- https://www.kaggle.com/new-york-city/nyc-property-sales/download\n",
    "    - Data will be uploaded by CSV from Github where it will be stored in a Pandas DataFrame. The data will serve as a method in gaging the surrounding area of rat sightings and will be used to character certain characteristics of the area, such as cleanliness. Based on analysis from rat sightings data, property sales data will be used in an attempt to see if there is a relationship between building sale prices and rat sightings based on area.\n",
    "- Weather API:\n",
    "    - https://www.worldweatheronline.com/developer/?gclid=Cj0KCQjwgNXtBRC6ARIsAIPP7RsjBP_tumBgdWFKSmbtfpszx28Kk08JuW0PQUe0ytlvQsPZTAsYdVwaAjRVEALw_wcB\n",
    "    - https://openweathermap.org/api\n",
    "    - Data will be accessed from one of the above APIs using Python and uploaded to a Pandas DataFrame. The data will then be combined with the rat sighting data to identify any trends. Data will be used with rat sightings data based on location in an attempt to find relationship between weather and rat sightings."
   ]
  }
 ],
 "metadata": {
  "kernelspec": {
   "display_name": "Python 3",
   "language": "python",
   "name": "python3"
  },
  "language_info": {
   "codemirror_mode": {
    "name": "ipython",
    "version": 3
   },
   "file_extension": ".py",
   "mimetype": "text/x-python",
   "name": "python",
   "nbconvert_exporter": "python",
   "pygments_lexer": "ipython3",
   "version": "3.7.1"
  }
 },
 "nbformat": 4,
 "nbformat_minor": 2
}
