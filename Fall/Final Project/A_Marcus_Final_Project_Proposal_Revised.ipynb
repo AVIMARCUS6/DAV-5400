{
 "cells": [
  {
   "cell_type": "markdown",
   "metadata": {
    "colab_type": "text",
    "id": "view-in-github"
   },
   "source": [
    "<a href=\"https://colab.research.google.com/github/AVIMARCUS6/DAV-5400/blob/master/A_Marcus_Final_Project_Proposal_Revised.ipynb\" target=\"_parent\"><img src=\"https://colab.research.google.com/assets/colab-badge.svg\" alt=\"Open In Colab\"/></a>"
   ]
  },
  {
   "cell_type": "markdown",
   "metadata": {
    "colab_type": "text",
    "id": "EP6ULU4_6KYb"
   },
   "source": [
    "# New York City Rat Infestation Through the Lense of Data"
   ]
  },
  {
   "cell_type": "markdown",
   "metadata": {
    "colab_type": "text",
    "id": "nnTICDYk6KYe"
   },
   "source": [
    "## Project Proposal"
   ]
  },
  {
   "cell_type": "markdown",
   "metadata": {
    "colab_type": "text",
    "id": "29eAZNES6KYf"
   },
   "source": [
    "## Introduction:\n",
    "New York City has a rat problem, and some believe it has gotten out of hand. Between 2010 and 2019 there have been over 130,000 rat sightings in New York City (https://www.forbes.com/sites/adamandrzejewski/2019/05/25/a-new-york-city-rat-invasion-130000-reported-rat-sightings-since-2010/#3fa6d51934d6). Rodents have taken over the city and the results are worrying. It was reported by Winnie Hu in her New York Times article, that the tables have turned (https://www.nytimes.com/2019/05/22/nyregion/rat-infestation-nyc.html). The infestation has gotten to the point where humans tend to find themselves dodging and avoiding the rodents as opposed to the scurrying away at the sound of footsteps."
   ]
  },
  {
   "cell_type": "markdown",
   "metadata": {
    "colab_type": "text",
    "id": "OzBn6gFI6KYg"
   },
   "source": [
    "## Research Questions:\n",
    "This project will analyze public data to get a better understanding of the rat problem. The goal will be to dig down to the core and discover possible causes for this infestation. \n",
    "\n",
    "- What affect does weather have on the number of sightings?\n",
    "    - Do rats tend to come into the public in certain weather?\n",
    "- Where are the rat sightings most common?\n",
    "    - Which area of New York City are the rats sightings the highest."
   ]
  },
  {
   "cell_type": "markdown",
   "metadata": {
    "colab_type": "text",
    "id": "prQfH9iO6KYh"
   },
   "source": [
    "## Data to be Used:\n",
    "- Rat Sighting Data:\n",
    "    - https://www.kaggle.com/new-york-city/nyc-rat-sightings/download\n",
    "    - Data will be uploaded by CSV from Github and stored in a pandas DataFrame. This data will serve as the main dataset for this project and will be joined with other necessary datasets for analysis. The data will be analyzed using summary statistics and bar plots. It will then be used in conunction with other data sets and analyzed based off the new information for further insights.\n",
    "\n",
    "- Weather API:\n",
    "    - https://darksky.net/dev\n",
    "    - Data will be accessed from Darksky API using Python and uploaded to a Pandas DataFrame. The data will then be combined with the rat sighting data to identify any trends. Data will be used with rat sightings data based on location in an attempt to find relationship between weather and rat sightings."
   ]
  },
  {
   "cell_type": "markdown",
   "metadata": {
    "colab_type": "text",
    "id": "s52Es_PqL1BB"
   },
   "source": [
    "## Approach"
   ]
  },
  {
   "cell_type": "markdown",
   "metadata": {
    "colab_type": "text",
    "id": "BL1KD_w0-rpN"
   },
   "source": [
    "In order to answer the research questions above we will use the data to create a thorough analysis of rat sightings in New York City. The \"nyc rat sightings\" (https://www.kaggle.com/new-york-city/nyc-rat-sightings/download) data will be used to to locate areas with higher number of reports. The data will be analyzed using summary statistics and bar plots. I will constrcut geo plots which overlay a map of rat sightings on differet breakups of the city, such as zip code, borough, street. The crime data will also help identify how the residents of a community treat their surroudnings. This data will then be analyzed to see if there is a relationship between weather/temperature and number of rat sightings."
   ]
  },
  {
   "cell_type": "code",
   "execution_count": null,
   "metadata": {},
   "outputs": [],
   "source": []
  }
 ],
 "metadata": {
  "colab": {
   "collapsed_sections": [],
   "include_colab_link": true,
   "name": "A_Marcus_Final_Project_Proposal_Revised.ipynb",
   "provenance": []
  },
  "kernelspec": {
   "display_name": "Python 3",
   "language": "python",
   "name": "python3"
  },
  "language_info": {
   "codemirror_mode": {
    "name": "ipython",
    "version": 3
   },
   "file_extension": ".py",
   "mimetype": "text/x-python",
   "name": "python",
   "nbconvert_exporter": "python",
   "pygments_lexer": "ipython3",
   "version": "3.7.4"
  }
 },
 "nbformat": 4,
 "nbformat_minor": 4
}
