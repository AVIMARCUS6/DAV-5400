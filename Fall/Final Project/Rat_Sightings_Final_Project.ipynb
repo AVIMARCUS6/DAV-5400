{
 "cells": [
  {
   "cell_type": "markdown",
   "metadata": {},
   "source": [
    "# Final Project"
   ]
  },
  {
   "cell_type": "markdown",
   "metadata": {
    "colab_type": "text",
    "id": "EP6ULU4_6KYb"
   },
   "source": [
    "# New York City Rat Infestation Through the Lense of Data"
   ]
  },
  {
   "cell_type": "markdown",
   "metadata": {
    "colab_type": "text",
    "id": "29eAZNES6KYf"
   },
   "source": [
    "## Introduction:\n",
    "New York City has a rat problem, and some believe it has gotten out of hand. Between 2010 and 2019 there have been over 130,000 rat sightings in New York City (https://www.forbes.com/sites/adamandrzejewski/2019/05/25/a-new-york-city-rat-invasion-130000-reported-rat-sightings-since-2010/#3fa6d51934d6). Rodents have taken over the city and the results are worrying. It was reported by Winnie Hu in her New York Times article, that the tables have turned (https://www.nytimes.com/2019/05/22/nyregion/rat-infestation-nyc.html). The infestation has gotten to the point where humans tend to find themselves dodging and avoiding the rodents as opposed to the scurrying away at the sound of footsteps."
   ]
  },
  {
   "cell_type": "markdown",
   "metadata": {},
   "source": [
    "## Narrative:\n",
    "\n",
    "Myself and my team have been hired by the State of New York to resolve the rat infestation which plagues the city and surrounding buroughs. As a data analyst I am working alongside the exterminators in order to come up with an effective plan to resolve the issue.\n"
   ]
  },
  {
   "cell_type": "markdown",
   "metadata": {
    "colab_type": "text",
    "id": "OzBn6gFI6KYg"
   },
   "source": [
    "## Research Questions:\n",
    "This project will analyze public data to get a better understanding of the rat problem. The goal will be to dig down to the core and discover possible causes for this infestation. \n",
    "\n",
    "- What affect does weather have on the number of sightings?\n",
    "    - Do rats tend to come into the public in certain weather?\n",
    "- Where are the rat sightings most common?\n",
    "    - Which area of New York City are the rats sightings the highest."
   ]
  },
  {
   "cell_type": "markdown",
   "metadata": {
    "colab_type": "text",
    "id": "prQfH9iO6KYh"
   },
   "source": [
    "## Data to be Used:\n",
    "- https://www.kaggle.com/new-york-city/nyc-rat-sightings/download\n",
    "    - Data will be uploaded by CSV from Github and stored in a pandas DataFrame. This data will serve as the main dataset for this project and will be joined with other necessary datasets for analysis. The data will be analyzed using summary statistics and bar plots. It will then be used in conunction with other data sets and analyzed based off the new information for further insights.\n",
    "\n",
    "- Weather API:\n",
    "    - https://darksky.net/dev\n",
    "    - Data will be accessed from Darksky API using Python and uploaded to a Pandas DataFrame. The data will then be combined with the rat sighting data to identify any trends. Data will be used with rat sightings data based on location in an attempt to find relationship between weather and rat sightings.\n"
   ]
  },
  {
   "cell_type": "markdown",
   "metadata": {
    "colab_type": "text",
    "id": "BL1KD_w0-rpN"
   },
   "source": [
    "In order to answer the research questions above we will use the data to create a thorough analysis of rat sightings in New York City. The \"nyc rat sightings\" (https://www.kaggle.com/new-york-city/nyc-rat-sightings/download) data will be used to to locate areas with higher number of reports. The data will be analyzed using summary statistics and bar plots. I will constrcut geo plots which overlay a map of rat sightings on differet breakups of the city, such as zip code, borough, street. The crime data will also help identify how the residents of a community treat their surroudnings. This data will then be analyzed to see if there is a relationship between weather/temperature and number of rat sightings."
   ]
  },
  {
   "cell_type": "markdown",
   "metadata": {},
   "source": [
    "***"
   ]
  },
  {
   "cell_type": "markdown",
   "metadata": {},
   "source": [
    "### Library Importing:"
   ]
  },
  {
   "cell_type": "code",
   "execution_count": 1,
   "metadata": {},
   "outputs": [],
   "source": [
    "import pandas as pd\n",
    "import matplotlib.pyplot as plt\n",
    "import seaborn as sns\n",
    "from IPython.display import Image\n",
    "from IPython.core.display import HTML"
   ]
  },
  {
   "cell_type": "markdown",
   "metadata": {},
   "source": [
    "### Data Importing:"
   ]
  },
  {
   "cell_type": "code",
   "execution_count": 2,
   "metadata": {},
   "outputs": [],
   "source": [
    "# import rat sighting data from CSV on github\n",
    "rats_df =pd.read_csv(r'https://raw.githubusercontent.com/AVIMARCUS6/DAV-5400/master/Fall/Datasets/Rat_Sightings%202.csv')"
   ]
  },
  {
   "cell_type": "code",
   "execution_count": 3,
   "metadata": {},
   "outputs": [
    {
     "data": {
      "text/html": [
       "<div>\n",
       "<style scoped>\n",
       "    .dataframe tbody tr th:only-of-type {\n",
       "        vertical-align: middle;\n",
       "    }\n",
       "\n",
       "    .dataframe tbody tr th {\n",
       "        vertical-align: top;\n",
       "    }\n",
       "\n",
       "    .dataframe thead th {\n",
       "        text-align: right;\n",
       "    }\n",
       "</style>\n",
       "<table border=\"1\" class=\"dataframe\">\n",
       "  <thead>\n",
       "    <tr style=\"text-align: right;\">\n",
       "      <th></th>\n",
       "      <th>Unique Key</th>\n",
       "      <th>Created Date</th>\n",
       "      <th>Closed Date</th>\n",
       "      <th>Agency</th>\n",
       "      <th>Agency Name</th>\n",
       "      <th>Complaint Type</th>\n",
       "      <th>Descriptor</th>\n",
       "      <th>Location Type</th>\n",
       "      <th>Incident Zip</th>\n",
       "      <th>Incident Address</th>\n",
       "      <th>...</th>\n",
       "      <th>Bridge Highway Name</th>\n",
       "      <th>Bridge Highway Direction</th>\n",
       "      <th>Road Ramp</th>\n",
       "      <th>Bridge Highway Segment</th>\n",
       "      <th>Garage Lot Name</th>\n",
       "      <th>Ferry Direction</th>\n",
       "      <th>Ferry Terminal Name</th>\n",
       "      <th>Latitude</th>\n",
       "      <th>Longitude</th>\n",
       "      <th>Location</th>\n",
       "    </tr>\n",
       "  </thead>\n",
       "  <tbody>\n",
       "    <tr>\n",
       "      <td>0</td>\n",
       "      <td>31464015</td>\n",
       "      <td>09/04/2015 12:00:00 AM</td>\n",
       "      <td>09/18/2015 12:00:00 AM</td>\n",
       "      <td>DOHMH</td>\n",
       "      <td>Department of Health and Mental Hygiene</td>\n",
       "      <td>Rodent</td>\n",
       "      <td>Rat Sighting</td>\n",
       "      <td>3+ Family Mixed Use Building</td>\n",
       "      <td>10006.0</td>\n",
       "      <td>NaN</td>\n",
       "      <td>...</td>\n",
       "      <td>NaN</td>\n",
       "      <td>NaN</td>\n",
       "      <td>NaN</td>\n",
       "      <td>NaN</td>\n",
       "      <td>NaN</td>\n",
       "      <td>NaN</td>\n",
       "      <td>NaN</td>\n",
       "      <td>40.707772</td>\n",
       "      <td>-74.012963</td>\n",
       "      <td>(40.70777155363643, -74.01296309970473)</td>\n",
       "    </tr>\n",
       "    <tr>\n",
       "      <td>1</td>\n",
       "      <td>31464024</td>\n",
       "      <td>09/04/2015 12:00:00 AM</td>\n",
       "      <td>10/28/2015 12:00:00 AM</td>\n",
       "      <td>DOHMH</td>\n",
       "      <td>Department of Health and Mental Hygiene</td>\n",
       "      <td>Rodent</td>\n",
       "      <td>Rat Sighting</td>\n",
       "      <td>Commercial Building</td>\n",
       "      <td>10306.0</td>\n",
       "      <td>2270 HYLAN BOULEVARD</td>\n",
       "      <td>...</td>\n",
       "      <td>NaN</td>\n",
       "      <td>NaN</td>\n",
       "      <td>NaN</td>\n",
       "      <td>NaN</td>\n",
       "      <td>NaN</td>\n",
       "      <td>NaN</td>\n",
       "      <td>NaN</td>\n",
       "      <td>40.575209</td>\n",
       "      <td>-74.104547</td>\n",
       "      <td>(40.575209242947444, -74.1045465185469)</td>\n",
       "    </tr>\n",
       "    <tr>\n",
       "      <td>2</td>\n",
       "      <td>31464025</td>\n",
       "      <td>09/04/2015 12:00:00 AM</td>\n",
       "      <td>NaN</td>\n",
       "      <td>DOHMH</td>\n",
       "      <td>Department of Health and Mental Hygiene</td>\n",
       "      <td>Rodent</td>\n",
       "      <td>Rat Sighting</td>\n",
       "      <td>1-2 Family Dwelling</td>\n",
       "      <td>10310.0</td>\n",
       "      <td>758 POST AVENUE</td>\n",
       "      <td>...</td>\n",
       "      <td>NaN</td>\n",
       "      <td>NaN</td>\n",
       "      <td>NaN</td>\n",
       "      <td>NaN</td>\n",
       "      <td>NaN</td>\n",
       "      <td>NaN</td>\n",
       "      <td>NaN</td>\n",
       "      <td>40.631236</td>\n",
       "      <td>-74.126878</td>\n",
       "      <td>(40.63123555151668, -74.12687759748677)</td>\n",
       "    </tr>\n",
       "    <tr>\n",
       "      <td>3</td>\n",
       "      <td>31464026</td>\n",
       "      <td>09/04/2015 12:00:00 AM</td>\n",
       "      <td>09/14/2015 12:00:00 AM</td>\n",
       "      <td>DOHMH</td>\n",
       "      <td>Department of Health and Mental Hygiene</td>\n",
       "      <td>Rodent</td>\n",
       "      <td>Rat Sighting</td>\n",
       "      <td>3+ Family Apt. Building</td>\n",
       "      <td>11206.0</td>\n",
       "      <td>198 SCHOLES STREET</td>\n",
       "      <td>...</td>\n",
       "      <td>NaN</td>\n",
       "      <td>NaN</td>\n",
       "      <td>NaN</td>\n",
       "      <td>NaN</td>\n",
       "      <td>NaN</td>\n",
       "      <td>NaN</td>\n",
       "      <td>NaN</td>\n",
       "      <td>40.708987</td>\n",
       "      <td>-73.941207</td>\n",
       "      <td>(40.70898692345805, -73.94120690238431)</td>\n",
       "    </tr>\n",
       "    <tr>\n",
       "      <td>4</td>\n",
       "      <td>31464027</td>\n",
       "      <td>09/04/2015 12:00:00 AM</td>\n",
       "      <td>09/22/2015 12:00:00 AM</td>\n",
       "      <td>DOHMH</td>\n",
       "      <td>Department of Health and Mental Hygiene</td>\n",
       "      <td>Rodent</td>\n",
       "      <td>Rat Sighting</td>\n",
       "      <td>3+ Family Mixed Use Building</td>\n",
       "      <td>10462.0</td>\n",
       "      <td>2138 WALLACE AVENUE</td>\n",
       "      <td>...</td>\n",
       "      <td>NaN</td>\n",
       "      <td>NaN</td>\n",
       "      <td>NaN</td>\n",
       "      <td>NaN</td>\n",
       "      <td>NaN</td>\n",
       "      <td>NaN</td>\n",
       "      <td>NaN</td>\n",
       "      <td>40.854130</td>\n",
       "      <td>-73.864813</td>\n",
       "      <td>(40.85413014360452, -73.86481331044513)</td>\n",
       "    </tr>\n",
       "  </tbody>\n",
       "</table>\n",
       "<p>5 rows × 52 columns</p>\n",
       "</div>"
      ],
      "text/plain": [
       "   Unique Key            Created Date             Closed Date Agency  \\\n",
       "0    31464015  09/04/2015 12:00:00 AM  09/18/2015 12:00:00 AM  DOHMH   \n",
       "1    31464024  09/04/2015 12:00:00 AM  10/28/2015 12:00:00 AM  DOHMH   \n",
       "2    31464025  09/04/2015 12:00:00 AM                     NaN  DOHMH   \n",
       "3    31464026  09/04/2015 12:00:00 AM  09/14/2015 12:00:00 AM  DOHMH   \n",
       "4    31464027  09/04/2015 12:00:00 AM  09/22/2015 12:00:00 AM  DOHMH   \n",
       "\n",
       "                               Agency Name Complaint Type    Descriptor  \\\n",
       "0  Department of Health and Mental Hygiene         Rodent  Rat Sighting   \n",
       "1  Department of Health and Mental Hygiene         Rodent  Rat Sighting   \n",
       "2  Department of Health and Mental Hygiene         Rodent  Rat Sighting   \n",
       "3  Department of Health and Mental Hygiene         Rodent  Rat Sighting   \n",
       "4  Department of Health and Mental Hygiene         Rodent  Rat Sighting   \n",
       "\n",
       "                  Location Type  Incident Zip      Incident Address  ...  \\\n",
       "0  3+ Family Mixed Use Building       10006.0                   NaN  ...   \n",
       "1           Commercial Building       10306.0  2270 HYLAN BOULEVARD  ...   \n",
       "2           1-2 Family Dwelling       10310.0       758 POST AVENUE  ...   \n",
       "3       3+ Family Apt. Building       11206.0    198 SCHOLES STREET  ...   \n",
       "4  3+ Family Mixed Use Building       10462.0   2138 WALLACE AVENUE  ...   \n",
       "\n",
       "  Bridge Highway Name Bridge Highway Direction Road Ramp  \\\n",
       "0                 NaN                      NaN       NaN   \n",
       "1                 NaN                      NaN       NaN   \n",
       "2                 NaN                      NaN       NaN   \n",
       "3                 NaN                      NaN       NaN   \n",
       "4                 NaN                      NaN       NaN   \n",
       "\n",
       "  Bridge Highway Segment Garage Lot Name Ferry Direction Ferry Terminal Name  \\\n",
       "0                    NaN             NaN             NaN                 NaN   \n",
       "1                    NaN             NaN             NaN                 NaN   \n",
       "2                    NaN             NaN             NaN                 NaN   \n",
       "3                    NaN             NaN             NaN                 NaN   \n",
       "4                    NaN             NaN             NaN                 NaN   \n",
       "\n",
       "    Latitude  Longitude                                 Location  \n",
       "0  40.707772 -74.012963  (40.70777155363643, -74.01296309970473)  \n",
       "1  40.575209 -74.104547  (40.575209242947444, -74.1045465185469)  \n",
       "2  40.631236 -74.126878  (40.63123555151668, -74.12687759748677)  \n",
       "3  40.708987 -73.941207  (40.70898692345805, -73.94120690238431)  \n",
       "4  40.854130 -73.864813  (40.85413014360452, -73.86481331044513)  \n",
       "\n",
       "[5 rows x 52 columns]"
      ]
     },
     "execution_count": 3,
     "metadata": {},
     "output_type": "execute_result"
    }
   ],
   "source": [
    "rats_df.head()"
   ]
  },
  {
   "cell_type": "markdown",
   "metadata": {},
   "source": [
    "## Data Preprocessing:"
   ]
  },
  {
   "cell_type": "markdown",
   "metadata": {},
   "source": [
    "### Dealing with NA values:"
   ]
  },
  {
   "cell_type": "code",
   "execution_count": 4,
   "metadata": {},
   "outputs": [],
   "source": [
    "# function which lists total number of Nan Values for each column\n",
    "def nas_sorted(df):\n",
    "    return df.isnull().sum().sort_values(ascending = False)"
   ]
  },
  {
   "cell_type": "code",
   "execution_count": 5,
   "metadata": {},
   "outputs": [],
   "source": [
    "sorted_nas = nas_sorted(rats_df)"
   ]
  },
  {
   "cell_type": "code",
   "execution_count": 6,
   "metadata": {},
   "outputs": [
    {
     "data": {
      "text/plain": [
       "Vehicle Type                      101914\n",
       "Road Ramp                         101914\n",
       "School or Citywide Complaint      101914\n",
       "Facility Type                     101914\n",
       "Taxi Company Borough              101914\n",
       "Bridge Highway Name               101914\n",
       "Bridge Highway Direction          101914\n",
       "Taxi Pick Up Location             101914\n",
       "Bridge Highway Segment            101914\n",
       "Garage Lot Name                   101914\n",
       "Ferry Direction                   101914\n",
       "Ferry Terminal Name               101914\n",
       "Landmark                          101879\n",
       "Intersection Street 1              92989\n",
       "Intersection Street 2              92989\n",
       "Cross Street 2                     16690\n",
       "Cross Street 1                     16657\n",
       "Closed Date                        10931\n",
       "Street Name                         9075\n",
       "Incident Address                    9074\n",
       "School Not Found                     917\n",
       "Location                             706\n",
       "Longitude                            706\n",
       "X Coordinate (State Plane)           706\n",
       "Y Coordinate (State Plane)           706\n",
       "Latitude                             706\n",
       "Address Type                         346\n",
       "City                                 342\n",
       "Incident Zip                         336\n",
       "Due Date                             117\n",
       "Location Type                          6\n",
       "Resolution Action Updated Date         3\n",
       "Park Facility Name                     0\n",
       "School State                           0\n",
       "Created Date                           0\n",
       "Agency                                 0\n",
       "Agency Name                            0\n",
       "Complaint Type                         0\n",
       "Descriptor                             0\n",
       "School Zip                             0\n",
       "School Phone Number                    0\n",
       "School City                            0\n",
       "School Address                         0\n",
       "Park Borough                           0\n",
       "School Code                            0\n",
       "School Region                          0\n",
       "School Number                          0\n",
       "Status                                 0\n",
       "Community Board                        0\n",
       "Borough                                0\n",
       "School Name                            0\n",
       "Unique Key                             0\n",
       "dtype: int64"
      ]
     },
     "execution_count": 6,
     "metadata": {},
     "output_type": "execute_result"
    }
   ],
   "source": [
    "sorted_nas"
   ]
  },
  {
   "cell_type": "code",
   "execution_count": 7,
   "metadata": {},
   "outputs": [],
   "source": [
    "# drop column if entire column is Nan\n",
    "def drop_empty(df):\n",
    "    df.dropna(axis = 1, how='all', inplace = True)"
   ]
  },
  {
   "cell_type": "code",
   "execution_count": 8,
   "metadata": {},
   "outputs": [
    {
     "data": {
      "text/plain": [
       "(101914, 40)"
      ]
     },
     "execution_count": 8,
     "metadata": {},
     "output_type": "execute_result"
    }
   ],
   "source": [
    "drop_empty(rats_df)\n",
    "rats_df.shape"
   ]
  },
  {
   "cell_type": "code",
   "execution_count": 9,
   "metadata": {},
   "outputs": [],
   "source": [
    "sorted_nas = nas_sorted(rats_df)"
   ]
  },
  {
   "cell_type": "code",
   "execution_count": 10,
   "metadata": {},
   "outputs": [
    {
     "data": {
      "text/plain": [
       "Landmark                          101879\n",
       "Intersection Street 1              92989\n",
       "Intersection Street 2              92989\n",
       "Cross Street 2                     16690\n",
       "Cross Street 1                     16657\n",
       "Closed Date                        10931\n",
       "Street Name                         9075\n",
       "Incident Address                    9074\n",
       "School Not Found                     917\n",
       "Y Coordinate (State Plane)           706\n",
       "Location                             706\n",
       "Longitude                            706\n",
       "Latitude                             706\n",
       "X Coordinate (State Plane)           706\n",
       "Address Type                         346\n",
       "City                                 342\n",
       "Incident Zip                         336\n",
       "Due Date                             117\n",
       "Location Type                          6\n",
       "Resolution Action Updated Date         3\n",
       "Community Board                        0\n",
       "Created Date                           0\n",
       "School Zip                             0\n",
       "Agency                                 0\n",
       "Agency Name                            0\n",
       "Complaint Type                         0\n",
       "Descriptor                             0\n",
       "School State                           0\n",
       "School City                            0\n",
       "School Address                         0\n",
       "School Phone Number                    0\n",
       "School Code                            0\n",
       "School Region                          0\n",
       "School Number                          0\n",
       "School Name                            0\n",
       "Park Borough                           0\n",
       "Park Facility Name                     0\n",
       "Status                                 0\n",
       "Borough                                0\n",
       "Unique Key                             0\n",
       "dtype: int64"
      ]
     },
     "execution_count": 10,
     "metadata": {},
     "output_type": "execute_result"
    }
   ],
   "source": [
    "sorted_nas"
   ]
  },
  {
   "cell_type": "code",
   "execution_count": 11,
   "metadata": {
    "scrolled": true
   },
   "outputs": [],
   "source": [
    "# https://stackoverflow.com/questions/23197324/pandas-value-counts-applied-to-each-column\n",
    "# function that prints each column with the number of unique values in each column\n",
    "def show_value_count(df):\n",
    "    for c in df.columns:\n",
    "        print(\"---- %s ---\" % c)\n",
    "        print(len(df[c].value_counts()))"
   ]
  },
  {
   "cell_type": "code",
   "execution_count": 12,
   "metadata": {},
   "outputs": [
    {
     "name": "stdout",
     "output_type": "stream",
     "text": [
      "---- Unique Key ---\n",
      "101914\n",
      "---- Created Date ---\n",
      "9041\n",
      "---- Closed Date ---\n",
      "11507\n",
      "---- Agency ---\n",
      "1\n",
      "---- Agency Name ---\n",
      "1\n",
      "---- Complaint Type ---\n",
      "1\n",
      "---- Descriptor ---\n",
      "1\n",
      "---- Location Type ---\n",
      "20\n",
      "---- Incident Zip ---\n",
      "191\n",
      "---- Incident Address ---\n",
      "51601\n",
      "---- Street Name ---\n",
      "6744\n",
      "---- Cross Street 1 ---\n",
      "4644\n",
      "---- Cross Street 2 ---\n",
      "4729\n",
      "---- Intersection Street 1 ---\n",
      "2436\n",
      "---- Intersection Street 2 ---\n",
      "2434\n",
      "---- Address Type ---\n",
      "5\n",
      "---- City ---\n",
      "100\n",
      "---- Landmark ---\n",
      "21\n",
      "---- Status ---\n",
      "5\n",
      "---- Due Date ---\n",
      "101756\n",
      "---- Resolution Action Updated Date ---\n",
      "32256\n",
      "---- Community Board ---\n",
      "68\n",
      "---- Borough ---\n",
      "6\n",
      "---- X Coordinate (State Plane) ---\n",
      "37439\n",
      "---- Y Coordinate (State Plane) ---\n",
      "43460\n",
      "---- Park Facility Name ---\n",
      "1\n",
      "---- Park Borough ---\n",
      "6\n",
      "---- School Name ---\n",
      "1\n",
      "---- School Number ---\n",
      "1\n",
      "---- School Region ---\n",
      "1\n",
      "---- School Code ---\n",
      "1\n",
      "---- School Phone Number ---\n",
      "1\n",
      "---- School Address ---\n",
      "1\n",
      "---- School City ---\n",
      "1\n",
      "---- School State ---\n",
      "1\n",
      "---- School Zip ---\n",
      "1\n",
      "---- School Not Found ---\n",
      "1\n",
      "---- Latitude ---\n",
      "58124\n",
      "---- Longitude ---\n",
      "58122\n",
      "---- Location ---\n",
      "58124\n"
     ]
    }
   ],
   "source": [
    "show_value_count(rats_df)"
   ]
  },
  {
   "cell_type": "code",
   "execution_count": 13,
   "metadata": {},
   "outputs": [],
   "source": [
    "# function that drops any column in dataframe that has 1 or less unique values\n",
    "def drop_one_value(df):\n",
    "    for c in df.columns:\n",
    "        if len(df[c].value_counts()) <= 1:\n",
    "            df.drop(c,axis = 1,inplace = True)"
   ]
  },
  {
   "cell_type": "code",
   "execution_count": 14,
   "metadata": {},
   "outputs": [],
   "source": [
    "drop_one_value(rats_df)"
   ]
  },
  {
   "cell_type": "code",
   "execution_count": 15,
   "metadata": {},
   "outputs": [
    {
     "name": "stdout",
     "output_type": "stream",
     "text": [
      "---- Unique Key ---\n",
      "101914\n",
      "---- Created Date ---\n",
      "9041\n",
      "---- Closed Date ---\n",
      "11507\n",
      "---- Location Type ---\n",
      "20\n",
      "---- Incident Zip ---\n",
      "191\n",
      "---- Incident Address ---\n",
      "51601\n",
      "---- Street Name ---\n",
      "6744\n",
      "---- Cross Street 1 ---\n",
      "4644\n",
      "---- Cross Street 2 ---\n",
      "4729\n",
      "---- Intersection Street 1 ---\n",
      "2436\n",
      "---- Intersection Street 2 ---\n",
      "2434\n",
      "---- Address Type ---\n",
      "5\n",
      "---- City ---\n",
      "100\n",
      "---- Landmark ---\n",
      "21\n",
      "---- Status ---\n",
      "5\n",
      "---- Due Date ---\n",
      "101756\n",
      "---- Resolution Action Updated Date ---\n",
      "32256\n",
      "---- Community Board ---\n",
      "68\n",
      "---- Borough ---\n",
      "6\n",
      "---- X Coordinate (State Plane) ---\n",
      "37439\n",
      "---- Y Coordinate (State Plane) ---\n",
      "43460\n",
      "---- Park Borough ---\n",
      "6\n",
      "---- Latitude ---\n",
      "58124\n",
      "---- Longitude ---\n",
      "58122\n",
      "---- Location ---\n",
      "58124\n"
     ]
    }
   ],
   "source": [
    "show_value_count(rats_df)"
   ]
  },
  {
   "cell_type": "code",
   "execution_count": 16,
   "metadata": {},
   "outputs": [],
   "source": [
    "# create dataframe of all columns with more then one value that are useful\n",
    "rats_df = rats_df[[\n",
    "'Created Date',\n",
    "'Location Type',\n",
    "'Incident Zip',\n",
    "'Incident Address',\n",
    "'Street Name',\n",
    "'City',\n",
    "'Status',\n",
    "'Due Date',\n",
    "'Community Board',\n",
    "'Borough',\n",
    "'Latitude',\n",
    "'Longitude',\n",
    "'Location'    \n",
    "]]"
   ]
  },
  {
   "cell_type": "code",
   "execution_count": 17,
   "metadata": {},
   "outputs": [],
   "source": [
    "sorted_nas = nas_sorted(rats_df)"
   ]
  },
  {
   "cell_type": "code",
   "execution_count": 18,
   "metadata": {},
   "outputs": [
    {
     "data": {
      "text/plain": [
       "Street Name         9075\n",
       "Incident Address    9074\n",
       "Location             706\n",
       "Longitude            706\n",
       "Latitude             706\n",
       "City                 342\n",
       "Incident Zip         336\n",
       "Due Date             117\n",
       "Location Type          6\n",
       "Borough                0\n",
       "Community Board        0\n",
       "Status                 0\n",
       "Created Date           0\n",
       "dtype: int64"
      ]
     },
     "execution_count": 18,
     "metadata": {},
     "output_type": "execute_result"
    }
   ],
   "source": [
    "sorted_nas"
   ]
  },
  {
   "cell_type": "code",
   "execution_count": 19,
   "metadata": {},
   "outputs": [
    {
     "data": {
      "text/plain": [
       "(101914, 13)"
      ]
     },
     "execution_count": 19,
     "metadata": {},
     "output_type": "execute_result"
    }
   ],
   "source": [
    "rats_df[[\"Created Date\",\"Due Date\"]] = rats_df[[\"Created Date\", \"Due Date\"]].apply(pd.to_datetime)\n",
    "rats_df.shape"
   ]
  },
  {
   "cell_type": "code",
   "execution_count": 20,
   "metadata": {},
   "outputs": [],
   "source": [
    "rats_df['Date'] = [d.date() for d in rats_df['Created Date']]\n",
    "rats_df = rats_df.drop(['Created Date','Due Date'], axis = 1)"
   ]
  },
  {
   "cell_type": "code",
   "execution_count": 21,
   "metadata": {},
   "outputs": [
    {
     "data": {
      "text/plain": [
       "['Date',\n",
       " 'Location Type',\n",
       " 'Incident Zip',\n",
       " 'Incident Address',\n",
       " 'Street Name',\n",
       " 'City',\n",
       " 'Status',\n",
       " 'Community Board',\n",
       " 'Borough',\n",
       " 'Latitude',\n",
       " 'Longitude',\n",
       " 'Location']"
      ]
     },
     "execution_count": 21,
     "metadata": {},
     "output_type": "execute_result"
    }
   ],
   "source": [
    "# move last column to front\n",
    "cols = rats_df.columns.tolist()\n",
    "cols = cols[-1:] + cols[:-1]\n",
    "cols"
   ]
  },
  {
   "cell_type": "code",
   "execution_count": 22,
   "metadata": {},
   "outputs": [
    {
     "data": {
      "text/plain": [
       "(101914, 12)"
      ]
     },
     "execution_count": 22,
     "metadata": {},
     "output_type": "execute_result"
    }
   ],
   "source": [
    "rats_df = rats_df[cols]\n",
    "rats_df.shape"
   ]
  },
  {
   "cell_type": "code",
   "execution_count": 23,
   "metadata": {},
   "outputs": [
    {
     "name": "stdout",
     "output_type": "stream",
     "text": [
      "<class 'pandas.core.frame.DataFrame'>\n",
      "RangeIndex: 101914 entries, 0 to 101913\n",
      "Data columns (total 12 columns):\n",
      "Date                101914 non-null datetime64[ns]\n",
      "Location Type       101908 non-null object\n",
      "Incident Zip        101578 non-null float64\n",
      "Incident Address    92840 non-null object\n",
      "Street Name         92839 non-null object\n",
      "City                101572 non-null object\n",
      "Status              101914 non-null object\n",
      "Community Board     101914 non-null object\n",
      "Borough             101914 non-null object\n",
      "Latitude            101208 non-null float64\n",
      "Longitude           101208 non-null float64\n",
      "Location            101208 non-null object\n",
      "dtypes: datetime64[ns](1), float64(3), object(8)\n",
      "memory usage: 9.3+ MB\n"
     ]
    }
   ],
   "source": [
    "rats_df['Date'] = pd.to_datetime(rats_df['Date'], errors='coerce')\n",
    "rats_df.info()"
   ]
  },
  {
   "cell_type": "markdown",
   "metadata": {},
   "source": [
    "***"
   ]
  },
  {
   "cell_type": "markdown",
   "metadata": {},
   "source": [
    "### Filter for 2016:\n",
    "\n",
    "As a result of the size of the data set and the limitations on the number of API pulls per a day, the date range was limited to only 2016"
   ]
  },
  {
   "cell_type": "code",
   "execution_count": 24,
   "metadata": {},
   "outputs": [],
   "source": [
    "start_date = '2015-12-31'\n",
    "end_date = '2017-01-1'"
   ]
  },
  {
   "cell_type": "code",
   "execution_count": 25,
   "metadata": {},
   "outputs": [],
   "source": [
    "mask = (rats_df['Date'] > start_date) & (rats_df['Date'] <= end_date)"
   ]
  },
  {
   "cell_type": "code",
   "execution_count": 26,
   "metadata": {},
   "outputs": [
    {
     "data": {
      "text/plain": [
       "17248"
      ]
     },
     "execution_count": 26,
     "metadata": {},
     "output_type": "execute_result"
    }
   ],
   "source": [
    "dates_df = rats_df.loc[mask]\n",
    "len(dates_df)"
   ]
  },
  {
   "cell_type": "code",
   "execution_count": 27,
   "metadata": {},
   "outputs": [
    {
     "name": "stderr",
     "output_type": "stream",
     "text": [
      "/Users/avimarcus/opt/anaconda3/lib/python3.7/site-packages/ipykernel_launcher.py:2: SettingWithCopyWarning: \n",
      "A value is trying to be set on a copy of a slice from a DataFrame.\n",
      "Try using .loc[row_indexer,col_indexer] = value instead\n",
      "\n",
      "See the caveats in the documentation: http://pandas.pydata.org/pandas-docs/stable/user_guide/indexing.html#returning-a-view-versus-a-copy\n",
      "  \n",
      "/Users/avimarcus/opt/anaconda3/lib/python3.7/site-packages/ipykernel_launcher.py:3: SettingWithCopyWarning: \n",
      "A value is trying to be set on a copy of a slice from a DataFrame.\n",
      "Try using .loc[row_indexer,col_indexer] = value instead\n",
      "\n",
      "See the caveats in the documentation: http://pandas.pydata.org/pandas-docs/stable/user_guide/indexing.html#returning-a-view-versus-a-copy\n",
      "  This is separate from the ipykernel package so we can avoid doing imports until\n"
     ]
    }
   ],
   "source": [
    "# seperate Date column into month,day columns\n",
    "dates_df['month'] = pd.DatetimeIndex(dates_df['Date']).month\n",
    "dates_df['day'] = pd.DatetimeIndex(dates_df['Date']).day\n",
    "#df['day_of_week'] = df['Date'].dt.dayofweek"
   ]
  },
  {
   "cell_type": "markdown",
   "metadata": {},
   "source": [
    "***"
   ]
  },
  {
   "cell_type": "markdown",
   "metadata": {},
   "source": [
    "## EDA:"
   ]
  },
  {
   "cell_type": "code",
   "execution_count": 28,
   "metadata": {},
   "outputs": [],
   "source": [
    "# Use seaborn style defaults and set the default figure size\n",
    "sns.set(rc={'figure.figsize':(11, 4)})"
   ]
  },
  {
   "cell_type": "code",
   "execution_count": 30,
   "metadata": {},
   "outputs": [
    {
     "data": {
      "text/html": [
       "<div>\n",
       "<style scoped>\n",
       "    .dataframe tbody tr th:only-of-type {\n",
       "        vertical-align: middle;\n",
       "    }\n",
       "\n",
       "    .dataframe tbody tr th {\n",
       "        vertical-align: top;\n",
       "    }\n",
       "\n",
       "    .dataframe thead th {\n",
       "        text-align: right;\n",
       "    }\n",
       "</style>\n",
       "<table border=\"1\" class=\"dataframe\">\n",
       "  <thead>\n",
       "    <tr style=\"text-align: right;\">\n",
       "      <th></th>\n",
       "      <th>month</th>\n",
       "      <th>counts</th>\n",
       "    </tr>\n",
       "  </thead>\n",
       "  <tbody>\n",
       "    <tr>\n",
       "      <td>0</td>\n",
       "      <td>1</td>\n",
       "      <td>962</td>\n",
       "    </tr>\n",
       "    <tr>\n",
       "      <td>1</td>\n",
       "      <td>2</td>\n",
       "      <td>1044</td>\n",
       "    </tr>\n",
       "    <tr>\n",
       "      <td>2</td>\n",
       "      <td>3</td>\n",
       "      <td>1261</td>\n",
       "    </tr>\n",
       "    <tr>\n",
       "      <td>3</td>\n",
       "      <td>4</td>\n",
       "      <td>1284</td>\n",
       "    </tr>\n",
       "    <tr>\n",
       "      <td>4</td>\n",
       "      <td>5</td>\n",
       "      <td>1813</td>\n",
       "    </tr>\n",
       "    <tr>\n",
       "      <td>5</td>\n",
       "      <td>6</td>\n",
       "      <td>1840</td>\n",
       "    </tr>\n",
       "    <tr>\n",
       "      <td>6</td>\n",
       "      <td>7</td>\n",
       "      <td>1769</td>\n",
       "    </tr>\n",
       "    <tr>\n",
       "      <td>7</td>\n",
       "      <td>8</td>\n",
       "      <td>1854</td>\n",
       "    </tr>\n",
       "    <tr>\n",
       "      <td>8</td>\n",
       "      <td>9</td>\n",
       "      <td>1775</td>\n",
       "    </tr>\n",
       "    <tr>\n",
       "      <td>9</td>\n",
       "      <td>10</td>\n",
       "      <td>1524</td>\n",
       "    </tr>\n",
       "    <tr>\n",
       "      <td>10</td>\n",
       "      <td>11</td>\n",
       "      <td>1121</td>\n",
       "    </tr>\n",
       "    <tr>\n",
       "      <td>11</td>\n",
       "      <td>12</td>\n",
       "      <td>1001</td>\n",
       "    </tr>\n",
       "  </tbody>\n",
       "</table>\n",
       "</div>"
      ],
      "text/plain": [
       "    month  counts\n",
       "0       1     962\n",
       "1       2    1044\n",
       "2       3    1261\n",
       "3       4    1284\n",
       "4       5    1813\n",
       "5       6    1840\n",
       "6       7    1769\n",
       "7       8    1854\n",
       "8       9    1775\n",
       "9      10    1524\n",
       "10     11    1121\n",
       "11     12    1001"
      ]
     },
     "execution_count": 30,
     "metadata": {},
     "output_type": "execute_result"
    }
   ],
   "source": [
    "# number of reported rat sightings per month for 2016\n",
    "dates_df.groupby(['month']).size().reset_index(name='counts')"
   ]
  },
  {
   "cell_type": "code",
   "execution_count": 31,
   "metadata": {},
   "outputs": [
    {
     "data": {
      "text/plain": [
       "<matplotlib.axes._subplots.AxesSubplot at 0x1a187f4410>"
      ]
     },
     "execution_count": 31,
     "metadata": {},
     "output_type": "execute_result"
    },
    {
     "data": {
      "image/png": "[encoded data removed]",
      "text/plain": [
       "<Figure size 792x288 with 1 Axes>"
      ]
     },
     "metadata": {},
     "output_type": "display_data"
    }
   ],
   "source": [
    "# number of reported rat sightings per month for 2016\n",
    "dates_df.groupby(['month']).count()[['Location']].plot()"
   ]
  },
  {
   "cell_type": "markdown",
   "metadata": {},
   "source": [
    "The most rat sightings appear to occur in the middle of the year, between May and September with peaks in May and September and lows in January and December. These months are also the summer months. Could summer and temperature have an affect on the number of sightings?"
   ]
  },
  {
   "cell_type": "code",
   "execution_count": null,
   "metadata": {},
   "outputs": [],
   "source": [
    "#Please use personal API KEY\n",
    "\n",
    "#packages\n",
    "import requests # to make calls\n",
    "import pandas as pd #to make dataframe once calls are done\n",
    "from datetime import timedelta, date # to formate dates for calls\n",
    "import time as ti #for introducing delay in script\n",
    "#base api url\n",
    "url = 'https://api.darksky.net/forecast/'\n",
    "#key \n",
    "api = 'API KEY'\n",
    "\n",
    "#location of ny \n",
    "NY_Location = '40.7188,-74.0115'\n",
    "\n",
    "start_date = date(2016,1,1) #inclusive\n",
    "end_date = date(2017,1,1) #exclusive\n",
    "time='T12:00:00' #required for call set to midday\n",
    "#length\n",
    "days = [start_date + timedelta(n) for n in range((end_date-start_date).days)]\n",
    "data = []\n",
    "\n",
    "for day in days:\n",
    "    call = f'{url}{api}/{NY_Location},{day.isoformat()}{time}?exclude=hourly,minutely,currently'\n",
    "    re = requests.get(call)\n",
    "    record = re.json()['daily']['data']\n",
    "    record[0]['date'] = day\n",
    "    data.append(record[0])\n",
    "    ti.sleep(.25)\n",
    "\n",
    "ny_weather = pd.DataFrame(data)\n",
    "\n",
    "#https://github.com/jacoblgoodman/DAV-5400/blob/master/final/weather_api_2018.py"
   ]
  },
  {
   "cell_type": "code",
   "execution_count": null,
   "metadata": {},
   "outputs": [],
   "source": [
    "#ny_weather.to_csv('NY_weather.csv', index = False )"
   ]
  },
  {
   "cell_type": "code",
   "execution_count": 34,
   "metadata": {},
   "outputs": [
    {
     "data": {
      "text/html": [
       "<div>\n",
       "<style scoped>\n",
       "    .dataframe tbody tr th:only-of-type {\n",
       "        vertical-align: middle;\n",
       "    }\n",
       "\n",
       "    .dataframe tbody tr th {\n",
       "        vertical-align: top;\n",
       "    }\n",
       "\n",
       "    .dataframe thead th {\n",
       "        text-align: right;\n",
       "    }\n",
       "</style>\n",
       "<table border=\"1\" class=\"dataframe\">\n",
       "  <thead>\n",
       "    <tr style=\"text-align: right;\">\n",
       "      <th></th>\n",
       "      <th>time</th>\n",
       "      <th>summary</th>\n",
       "      <th>icon</th>\n",
       "      <th>sunriseTime</th>\n",
       "      <th>sunsetTime</th>\n",
       "      <th>moonPhase</th>\n",
       "      <th>precipIntensity</th>\n",
       "      <th>precipIntensityMax</th>\n",
       "      <th>precipProbability</th>\n",
       "      <th>temperatureHigh</th>\n",
       "      <th>...</th>\n",
       "      <th>temperatureMax</th>\n",
       "      <th>temperatureMaxTime</th>\n",
       "      <th>apparentTemperatureMin</th>\n",
       "      <th>apparentTemperatureMinTime</th>\n",
       "      <th>apparentTemperatureMax</th>\n",
       "      <th>apparentTemperatureMaxTime</th>\n",
       "      <th>date</th>\n",
       "      <th>precipIntensityMaxTime</th>\n",
       "      <th>precipType</th>\n",
       "      <th>precipAccumulation</th>\n",
       "    </tr>\n",
       "  </thead>\n",
       "  <tbody>\n",
       "    <tr>\n",
       "      <td>0</td>\n",
       "      <td>1451624400</td>\n",
       "      <td>Overcast throughout the day.</td>\n",
       "      <td>partly-cloudy-day</td>\n",
       "      <td>1451650860</td>\n",
       "      <td>1451684400</td>\n",
       "      <td>0.75</td>\n",
       "      <td>0.0</td>\n",
       "      <td>0.0</td>\n",
       "      <td>0.0</td>\n",
       "      <td>40.85</td>\n",
       "      <td>...</td>\n",
       "      <td>42.48</td>\n",
       "      <td>1451624400</td>\n",
       "      <td>30.15</td>\n",
       "      <td>1451707200</td>\n",
       "      <td>40.13</td>\n",
       "      <td>1451631540</td>\n",
       "      <td>2016-01-01</td>\n",
       "      <td>NaN</td>\n",
       "      <td>NaN</td>\n",
       "      <td>NaN</td>\n",
       "    </tr>\n",
       "    <tr>\n",
       "      <td>1</td>\n",
       "      <td>1451710800</td>\n",
       "      <td>Mostly cloudy throughout the day.</td>\n",
       "      <td>partly-cloudy-day</td>\n",
       "      <td>1451737260</td>\n",
       "      <td>1451770860</td>\n",
       "      <td>0.78</td>\n",
       "      <td>0.0</td>\n",
       "      <td>0.0</td>\n",
       "      <td>0.0</td>\n",
       "      <td>40.32</td>\n",
       "      <td>...</td>\n",
       "      <td>40.32</td>\n",
       "      <td>1451767800</td>\n",
       "      <td>29.31</td>\n",
       "      <td>1451727600</td>\n",
       "      <td>36.55</td>\n",
       "      <td>1451779680</td>\n",
       "      <td>2016-01-02</td>\n",
       "      <td>NaN</td>\n",
       "      <td>NaN</td>\n",
       "      <td>NaN</td>\n",
       "    </tr>\n",
       "    <tr>\n",
       "      <td>2</td>\n",
       "      <td>1451797200</td>\n",
       "      <td>Clear throughout the day.</td>\n",
       "      <td>clear-day</td>\n",
       "      <td>1451823660</td>\n",
       "      <td>1451857320</td>\n",
       "      <td>0.81</td>\n",
       "      <td>0.0</td>\n",
       "      <td>0.0</td>\n",
       "      <td>0.0</td>\n",
       "      <td>45.42</td>\n",
       "      <td>...</td>\n",
       "      <td>45.42</td>\n",
       "      <td>1451842140</td>\n",
       "      <td>31.51</td>\n",
       "      <td>1451808360</td>\n",
       "      <td>41.74</td>\n",
       "      <td>1451844000</td>\n",
       "      <td>2016-01-03</td>\n",
       "      <td>NaN</td>\n",
       "      <td>NaN</td>\n",
       "      <td>NaN</td>\n",
       "    </tr>\n",
       "    <tr>\n",
       "      <td>3</td>\n",
       "      <td>1451883600</td>\n",
       "      <td>Clear throughout the day.</td>\n",
       "      <td>partly-cloudy-day</td>\n",
       "      <td>1451910060</td>\n",
       "      <td>1451943780</td>\n",
       "      <td>0.84</td>\n",
       "      <td>0.0</td>\n",
       "      <td>0.0</td>\n",
       "      <td>0.0</td>\n",
       "      <td>30.29</td>\n",
       "      <td>...</td>\n",
       "      <td>36.39</td>\n",
       "      <td>1451883600</td>\n",
       "      <td>1.68</td>\n",
       "      <td>1451960820</td>\n",
       "      <td>35.89</td>\n",
       "      <td>1451883600</td>\n",
       "      <td>2016-01-04</td>\n",
       "      <td>NaN</td>\n",
       "      <td>NaN</td>\n",
       "      <td>NaN</td>\n",
       "    </tr>\n",
       "    <tr>\n",
       "      <td>4</td>\n",
       "      <td>1451970000</td>\n",
       "      <td>Clear throughout the day.</td>\n",
       "      <td>clear-day</td>\n",
       "      <td>1451996460</td>\n",
       "      <td>1452030180</td>\n",
       "      <td>0.87</td>\n",
       "      <td>0.0</td>\n",
       "      <td>0.0</td>\n",
       "      <td>0.0</td>\n",
       "      <td>29.88</td>\n",
       "      <td>...</td>\n",
       "      <td>29.88</td>\n",
       "      <td>1452026820</td>\n",
       "      <td>-3.54</td>\n",
       "      <td>1451991900</td>\n",
       "      <td>26.78</td>\n",
       "      <td>1452035520</td>\n",
       "      <td>2016-01-05</td>\n",
       "      <td>NaN</td>\n",
       "      <td>NaN</td>\n",
       "      <td>NaN</td>\n",
       "    </tr>\n",
       "  </tbody>\n",
       "</table>\n",
       "<p>5 rows × 40 columns</p>\n",
       "</div>"
      ],
      "text/plain": [
       "         time                            summary               icon  \\\n",
       "0  1451624400       Overcast throughout the day.  partly-cloudy-day   \n",
       "1  1451710800  Mostly cloudy throughout the day.  partly-cloudy-day   \n",
       "2  1451797200          Clear throughout the day.          clear-day   \n",
       "3  1451883600          Clear throughout the day.  partly-cloudy-day   \n",
       "4  1451970000          Clear throughout the day.          clear-day   \n",
       "\n",
       "   sunriseTime  sunsetTime  moonPhase  precipIntensity  precipIntensityMax  \\\n",
       "0   1451650860  1451684400       0.75              0.0                 0.0   \n",
       "1   1451737260  1451770860       0.78              0.0                 0.0   \n",
       "2   1451823660  1451857320       0.81              0.0                 0.0   \n",
       "3   1451910060  1451943780       0.84              0.0                 0.0   \n",
       "4   1451996460  1452030180       0.87              0.0                 0.0   \n",
       "\n",
       "   precipProbability  temperatureHigh  ...  temperatureMax  \\\n",
       "0                0.0            40.85  ...           42.48   \n",
       "1                0.0            40.32  ...           40.32   \n",
       "2                0.0            45.42  ...           45.42   \n",
       "3                0.0            30.29  ...           36.39   \n",
       "4                0.0            29.88  ...           29.88   \n",
       "\n",
       "   temperatureMaxTime  apparentTemperatureMin  apparentTemperatureMinTime  \\\n",
       "0          1451624400                   30.15                  1451707200   \n",
       "1          1451767800                   29.31                  1451727600   \n",
       "2          1451842140                   31.51                  1451808360   \n",
       "3          1451883600                    1.68                  1451960820   \n",
       "4          1452026820                   -3.54                  1451991900   \n",
       "\n",
       "   apparentTemperatureMax  apparentTemperatureMaxTime        date  \\\n",
       "0                   40.13                  1451631540  2016-01-01   \n",
       "1                   36.55                  1451779680  2016-01-02   \n",
       "2                   41.74                  1451844000  2016-01-03   \n",
       "3                   35.89                  1451883600  2016-01-04   \n",
       "4                   26.78                  1452035520  2016-01-05   \n",
       "\n",
       "   precipIntensityMaxTime  precipType  precipAccumulation  \n",
       "0                     NaN         NaN                 NaN  \n",
       "1                     NaN         NaN                 NaN  \n",
       "2                     NaN         NaN                 NaN  \n",
       "3                     NaN         NaN                 NaN  \n",
       "4                     NaN         NaN                 NaN  \n",
       "\n",
       "[5 rows x 40 columns]"
      ]
     },
     "execution_count": 34,
     "metadata": {},
     "output_type": "execute_result"
    }
   ],
   "source": [
    "ny_weather = pd.read_csv(r'https://raw.githubusercontent.com/AVIMARCUS6/DAV-5400/master/Fall/Final%20Project/NY_weather.csv',infer_datetime_format = True)\n",
    "ny_weather.head()"
   ]
  },
  {
   "cell_type": "code",
   "execution_count": 35,
   "metadata": {},
   "outputs": [
    {
     "data": {
      "text/html": [
       "<div>\n",
       "<style scoped>\n",
       "    .dataframe tbody tr th:only-of-type {\n",
       "        vertical-align: middle;\n",
       "    }\n",
       "\n",
       "    .dataframe tbody tr th {\n",
       "        vertical-align: top;\n",
       "    }\n",
       "\n",
       "    .dataframe thead th {\n",
       "        text-align: right;\n",
       "    }\n",
       "</style>\n",
       "<table border=\"1\" class=\"dataframe\">\n",
       "  <thead>\n",
       "    <tr style=\"text-align: right;\">\n",
       "      <th></th>\n",
       "      <th>time</th>\n",
       "      <th>summary</th>\n",
       "      <th>temperatureMax</th>\n",
       "      <th>temperatureMin</th>\n",
       "    </tr>\n",
       "  </thead>\n",
       "  <tbody>\n",
       "    <tr>\n",
       "      <td>0</td>\n",
       "      <td>1451624400</td>\n",
       "      <td>Overcast throughout the day.</td>\n",
       "      <td>42.48</td>\n",
       "      <td>34.40</td>\n",
       "    </tr>\n",
       "    <tr>\n",
       "      <td>1</td>\n",
       "      <td>1451710800</td>\n",
       "      <td>Mostly cloudy throughout the day.</td>\n",
       "      <td>40.32</td>\n",
       "      <td>31.77</td>\n",
       "    </tr>\n",
       "    <tr>\n",
       "      <td>2</td>\n",
       "      <td>1451797200</td>\n",
       "      <td>Clear throughout the day.</td>\n",
       "      <td>45.42</td>\n",
       "      <td>31.02</td>\n",
       "    </tr>\n",
       "    <tr>\n",
       "      <td>3</td>\n",
       "      <td>1451883600</td>\n",
       "      <td>Clear throughout the day.</td>\n",
       "      <td>36.39</td>\n",
       "      <td>14.70</td>\n",
       "    </tr>\n",
       "    <tr>\n",
       "      <td>4</td>\n",
       "      <td>1451970000</td>\n",
       "      <td>Clear throughout the day.</td>\n",
       "      <td>29.88</td>\n",
       "      <td>10.59</td>\n",
       "    </tr>\n",
       "    <tr>\n",
       "      <td>...</td>\n",
       "      <td>...</td>\n",
       "      <td>...</td>\n",
       "      <td>...</td>\n",
       "      <td>...</td>\n",
       "    </tr>\n",
       "    <tr>\n",
       "      <td>361</td>\n",
       "      <td>1482814800</td>\n",
       "      <td>Partly cloudy throughout the day.</td>\n",
       "      <td>60.55</td>\n",
       "      <td>40.52</td>\n",
       "    </tr>\n",
       "    <tr>\n",
       "      <td>362</td>\n",
       "      <td>1482901200</td>\n",
       "      <td>Overcast throughout the day.</td>\n",
       "      <td>40.67</td>\n",
       "      <td>30.72</td>\n",
       "    </tr>\n",
       "    <tr>\n",
       "      <td>363</td>\n",
       "      <td>1482987600</td>\n",
       "      <td>Light rain in the morning and afternoon.</td>\n",
       "      <td>45.63</td>\n",
       "      <td>29.71</td>\n",
       "    </tr>\n",
       "    <tr>\n",
       "      <td>364</td>\n",
       "      <td>1483074000</td>\n",
       "      <td>Partly cloudy throughout the day.</td>\n",
       "      <td>40.48</td>\n",
       "      <td>33.65</td>\n",
       "    </tr>\n",
       "    <tr>\n",
       "      <td>365</td>\n",
       "      <td>1483160400</td>\n",
       "      <td>Clear throughout the day.</td>\n",
       "      <td>43.71</td>\n",
       "      <td>31.06</td>\n",
       "    </tr>\n",
       "  </tbody>\n",
       "</table>\n",
       "<p>366 rows × 4 columns</p>\n",
       "</div>"
      ],
      "text/plain": [
       "           time                                   summary  temperatureMax  \\\n",
       "0    1451624400              Overcast throughout the day.           42.48   \n",
       "1    1451710800         Mostly cloudy throughout the day.           40.32   \n",
       "2    1451797200                 Clear throughout the day.           45.42   \n",
       "3    1451883600                 Clear throughout the day.           36.39   \n",
       "4    1451970000                 Clear throughout the day.           29.88   \n",
       "..          ...                                       ...             ...   \n",
       "361  1482814800         Partly cloudy throughout the day.           60.55   \n",
       "362  1482901200              Overcast throughout the day.           40.67   \n",
       "363  1482987600  Light rain in the morning and afternoon.           45.63   \n",
       "364  1483074000         Partly cloudy throughout the day.           40.48   \n",
       "365  1483160400                 Clear throughout the day.           43.71   \n",
       "\n",
       "     temperatureMin  \n",
       "0             34.40  \n",
       "1             31.77  \n",
       "2             31.02  \n",
       "3             14.70  \n",
       "4             10.59  \n",
       "..              ...  \n",
       "361           40.52  \n",
       "362           30.72  \n",
       "363           29.71  \n",
       "364           33.65  \n",
       "365           31.06  \n",
       "\n",
       "[366 rows x 4 columns]"
      ]
     },
     "execution_count": 35,
     "metadata": {},
     "output_type": "execute_result"
    }
   ],
   "source": [
    "# Select only necessary columns to display time and temperature. \n",
    "ny_weather = ny_weather[['time','summary','temperatureMax','temperatureMin']]\n",
    "ny_weather"
   ]
  },
  {
   "cell_type": "code",
   "execution_count": 36,
   "metadata": {},
   "outputs": [],
   "source": [
    "ny_weather = ny_weather.rename(columns={\"time\": \"Date\"})"
   ]
  },
  {
   "cell_type": "code",
   "execution_count": 37,
   "metadata": {},
   "outputs": [],
   "source": [
    "ny_weather['Date'] = pd.to_datetime(ny_weather['Date'], unit ='s',).dt.date"
   ]
  },
  {
   "cell_type": "code",
   "execution_count": 38,
   "metadata": {},
   "outputs": [],
   "source": [
    "ny_weather['Date'] = ny_weather['Date'].astype('datetime64[D]')"
   ]
  },
  {
   "cell_type": "code",
   "execution_count": 39,
   "metadata": {},
   "outputs": [],
   "source": [
    "ny_weather.set_index('Date', inplace= True)"
   ]
  },
  {
   "cell_type": "markdown",
   "metadata": {},
   "source": [
    "***"
   ]
  },
  {
   "cell_type": "code",
   "execution_count": 40,
   "metadata": {},
   "outputs": [],
   "source": [
    "merge_df = dates_df.merge(ny_weather, on='Date')"
   ]
  },
  {
   "cell_type": "code",
   "execution_count": 41,
   "metadata": {},
   "outputs": [],
   "source": [
    "df = merge_df.copy()"
   ]
  },
  {
   "cell_type": "code",
   "execution_count": 42,
   "metadata": {},
   "outputs": [],
   "source": [
    "df.to_csv('merged_df.csv', index = False )"
   ]
  },
  {
   "cell_type": "markdown",
   "metadata": {},
   "source": [
    "***"
   ]
  },
  {
   "cell_type": "code",
   "execution_count": 43,
   "metadata": {},
   "outputs": [
    {
     "data": {
      "text/html": [
       "<div>\n",
       "<style scoped>\n",
       "    .dataframe tbody tr th:only-of-type {\n",
       "        vertical-align: middle;\n",
       "    }\n",
       "\n",
       "    .dataframe tbody tr th {\n",
       "        vertical-align: top;\n",
       "    }\n",
       "\n",
       "    .dataframe thead th {\n",
       "        text-align: right;\n",
       "    }\n",
       "</style>\n",
       "<table border=\"1\" class=\"dataframe\">\n",
       "  <thead>\n",
       "    <tr style=\"text-align: right;\">\n",
       "      <th></th>\n",
       "      <th>Date</th>\n",
       "      <th>Location Type</th>\n",
       "      <th>Incident Zip</th>\n",
       "      <th>Incident Address</th>\n",
       "      <th>Street Name</th>\n",
       "      <th>City</th>\n",
       "      <th>Status</th>\n",
       "      <th>Community Board</th>\n",
       "      <th>Borough</th>\n",
       "      <th>Latitude</th>\n",
       "      <th>Longitude</th>\n",
       "      <th>Location</th>\n",
       "      <th>month</th>\n",
       "      <th>day</th>\n",
       "      <th>summary</th>\n",
       "      <th>temperatureMax</th>\n",
       "      <th>temperatureMin</th>\n",
       "    </tr>\n",
       "  </thead>\n",
       "  <tbody>\n",
       "    <tr>\n",
       "      <td>0</td>\n",
       "      <td>2016-01-01</td>\n",
       "      <td>Vacant Lot</td>\n",
       "      <td>10473.0</td>\n",
       "      <td>808 HARDING PARK</td>\n",
       "      <td>HARDING PARK</td>\n",
       "      <td>BRONX</td>\n",
       "      <td>Pending</td>\n",
       "      <td>Unspecified BRONX</td>\n",
       "      <td>BRONX</td>\n",
       "      <td>40.806742</td>\n",
       "      <td>-73.857150</td>\n",
       "      <td>(40.80674160706358, -73.85715046762321)</td>\n",
       "      <td>1</td>\n",
       "      <td>1</td>\n",
       "      <td>Overcast throughout the day.</td>\n",
       "      <td>42.48</td>\n",
       "      <td>34.4</td>\n",
       "    </tr>\n",
       "    <tr>\n",
       "      <td>1</td>\n",
       "      <td>2016-01-01</td>\n",
       "      <td>Other (Explain Below)</td>\n",
       "      <td>11230.0</td>\n",
       "      <td>1541 E 19TH ST</td>\n",
       "      <td>E 19TH ST</td>\n",
       "      <td>BROOKLYN</td>\n",
       "      <td>Closed</td>\n",
       "      <td>Unspecified BROOKLYN</td>\n",
       "      <td>BROOKLYN</td>\n",
       "      <td>40.612525</td>\n",
       "      <td>-73.954813</td>\n",
       "      <td>(40.612525046508665, -73.95481274111293)</td>\n",
       "      <td>1</td>\n",
       "      <td>1</td>\n",
       "      <td>Overcast throughout the day.</td>\n",
       "      <td>42.48</td>\n",
       "      <td>34.4</td>\n",
       "    </tr>\n",
       "    <tr>\n",
       "      <td>2</td>\n",
       "      <td>2016-01-01</td>\n",
       "      <td>1-2 Family Dwelling</td>\n",
       "      <td>10312.0</td>\n",
       "      <td>70 RAMONA AVENUE</td>\n",
       "      <td>RAMONA AVENUE</td>\n",
       "      <td>STATEN ISLAND</td>\n",
       "      <td>Closed</td>\n",
       "      <td>03 STATEN ISLAND</td>\n",
       "      <td>STATEN ISLAND</td>\n",
       "      <td>40.541135</td>\n",
       "      <td>-74.188306</td>\n",
       "      <td>(40.541135407737606, -74.18830591469624)</td>\n",
       "      <td>1</td>\n",
       "      <td>1</td>\n",
       "      <td>Overcast throughout the day.</td>\n",
       "      <td>42.48</td>\n",
       "      <td>34.4</td>\n",
       "    </tr>\n",
       "    <tr>\n",
       "      <td>3</td>\n",
       "      <td>2016-01-01</td>\n",
       "      <td>3+ Family Apt. Building</td>\n",
       "      <td>10128.0</td>\n",
       "      <td>245 EAST   87 STREET</td>\n",
       "      <td>EAST   87 STREET</td>\n",
       "      <td>NEW YORK</td>\n",
       "      <td>Closed</td>\n",
       "      <td>08 MANHATTAN</td>\n",
       "      <td>MANHATTAN</td>\n",
       "      <td>40.778895</td>\n",
       "      <td>-73.951252</td>\n",
       "      <td>(40.778894916233135, -73.95125159946573)</td>\n",
       "      <td>1</td>\n",
       "      <td>1</td>\n",
       "      <td>Overcast throughout the day.</td>\n",
       "      <td>42.48</td>\n",
       "      <td>34.4</td>\n",
       "    </tr>\n",
       "    <tr>\n",
       "      <td>4</td>\n",
       "      <td>2016-01-01</td>\n",
       "      <td>Vacant Lot</td>\n",
       "      <td>11232.0</td>\n",
       "      <td>358 43 STREET</td>\n",
       "      <td>43 STREET</td>\n",
       "      <td>BROOKLYN</td>\n",
       "      <td>Assigned</td>\n",
       "      <td>07 BROOKLYN</td>\n",
       "      <td>BROOKLYN</td>\n",
       "      <td>40.650892</td>\n",
       "      <td>-74.009348</td>\n",
       "      <td>(40.650891966208945, -74.0093482505519)</td>\n",
       "      <td>1</td>\n",
       "      <td>1</td>\n",
       "      <td>Overcast throughout the day.</td>\n",
       "      <td>42.48</td>\n",
       "      <td>34.4</td>\n",
       "    </tr>\n",
       "  </tbody>\n",
       "</table>\n",
       "</div>"
      ],
      "text/plain": [
       "        Date            Location Type  Incident Zip      Incident Address  \\\n",
       "0 2016-01-01               Vacant Lot       10473.0      808 HARDING PARK   \n",
       "1 2016-01-01    Other (Explain Below)       11230.0        1541 E 19TH ST   \n",
       "2 2016-01-01      1-2 Family Dwelling       10312.0      70 RAMONA AVENUE   \n",
       "3 2016-01-01  3+ Family Apt. Building       10128.0  245 EAST   87 STREET   \n",
       "4 2016-01-01               Vacant Lot       11232.0         358 43 STREET   \n",
       "\n",
       "        Street Name           City    Status       Community Board  \\\n",
       "0      HARDING PARK          BRONX   Pending     Unspecified BRONX   \n",
       "1         E 19TH ST       BROOKLYN    Closed  Unspecified BROOKLYN   \n",
       "2     RAMONA AVENUE  STATEN ISLAND    Closed      03 STATEN ISLAND   \n",
       "3  EAST   87 STREET       NEW YORK    Closed          08 MANHATTAN   \n",
       "4         43 STREET       BROOKLYN  Assigned           07 BROOKLYN   \n",
       "\n",
       "         Borough   Latitude  Longitude  \\\n",
       "0          BRONX  40.806742 -73.857150   \n",
       "1       BROOKLYN  40.612525 -73.954813   \n",
       "2  STATEN ISLAND  40.541135 -74.188306   \n",
       "3      MANHATTAN  40.778895 -73.951252   \n",
       "4       BROOKLYN  40.650892 -74.009348   \n",
       "\n",
       "                                   Location  month  day  \\\n",
       "0   (40.80674160706358, -73.85715046762321)      1    1   \n",
       "1  (40.612525046508665, -73.95481274111293)      1    1   \n",
       "2  (40.541135407737606, -74.18830591469624)      1    1   \n",
       "3  (40.778894916233135, -73.95125159946573)      1    1   \n",
       "4   (40.650891966208945, -74.0093482505519)      1    1   \n",
       "\n",
       "                        summary  temperatureMax  temperatureMin  \n",
       "0  Overcast throughout the day.           42.48            34.4  \n",
       "1  Overcast throughout the day.           42.48            34.4  \n",
       "2  Overcast throughout the day.           42.48            34.4  \n",
       "3  Overcast throughout the day.           42.48            34.4  \n",
       "4  Overcast throughout the day.           42.48            34.4  "
      ]
     },
     "execution_count": 43,
     "metadata": {},
     "output_type": "execute_result"
    }
   ],
   "source": [
    "df.head()"
   ]
  },
  {
   "cell_type": "code",
   "execution_count": 44,
   "metadata": {},
   "outputs": [
    {
     "data": {
      "text/plain": [
       "(17230, 17)"
      ]
     },
     "execution_count": 44,
     "metadata": {},
     "output_type": "execute_result"
    }
   ],
   "source": [
    "df.shape"
   ]
  },
  {
   "cell_type": "code",
   "execution_count": 45,
   "metadata": {},
   "outputs": [],
   "source": [
    "# Create average temperature column\n",
    "df['avg_temp'] = ((df['temperatureMax']+df['temperatureMin'])/2).round()"
   ]
  },
  {
   "cell_type": "code",
   "execution_count": 46,
   "metadata": {},
   "outputs": [
    {
     "data": {
      "text/plain": [
       "array([38., 36., 26., 20., 29., 35., 44., 50., 33., 30., 40., 46., 25.,\n",
       "       23., 32., 31., 28., 39., 45., 42., 47., 34., 21., 15.,  8., 24.,\n",
       "       37., 49., 52., 54., 58., 69., 55., 53., 51., 41., 59., 48., 60.,\n",
       "       71., 56., 57., 63., 64., 61., 62., 66., 73., 80., 77., 79., 78.,\n",
       "       74., 76., 67., 75., 72., 65., 70., 82., 68., 81., 84., 83., 87.,\n",
       "       86., 85., 88., 43., 27., 22.])"
      ]
     },
     "execution_count": 46,
     "metadata": {},
     "output_type": "execute_result"
    }
   ],
   "source": [
    "# See only unique average temperatures\n",
    "df['avg_temp'].unique()"
   ]
  },
  {
   "cell_type": "code",
   "execution_count": 47,
   "metadata": {},
   "outputs": [
    {
     "data": {
      "text/plain": [
       "<matplotlib.axes._subplots.AxesSubplot at 0x1a199b3310>"
      ]
     },
     "execution_count": 47,
     "metadata": {},
     "output_type": "execute_result"
    },
    {
     "data": {
      "image/png": "[encoded data removed]",
      "text/plain": [
       "<Figure size 792x288 with 1 Axes>"
      ]
     },
     "metadata": {},
     "output_type": "display_data"
    }
   ],
   "source": [
    "df['avg_temp'].hist()"
   ]
  },
  {
   "cell_type": "markdown",
   "metadata": {},
   "source": [
    "As shown by the histogram, as temperature rises the number of rat sightings seems to increase slightly as well."
   ]
  },
  {
   "cell_type": "markdown",
   "metadata": {},
   "source": [
    "***"
   ]
  },
  {
   "cell_type": "code",
   "execution_count": 48,
   "metadata": {},
   "outputs": [],
   "source": [
    "date_index = df.set_index('Date').copy()\n",
    "m_avg = date_index.resample('M').mean()\n",
    "m_avg = m_avg[['temperatureMax','temperatureMin','avg_temp']]"
   ]
  },
  {
   "cell_type": "code",
   "execution_count": 49,
   "metadata": {},
   "outputs": [
    {
     "data": {
      "text/plain": [
       "<matplotlib.axes._subplots.AxesSubplot at 0x1a19195e90>"
      ]
     },
     "execution_count": 49,
     "metadata": {},
     "output_type": "execute_result"
    },
    {
     "data": {
      "image/png": "[encoded data removed]",
      "text/plain": [
       "<Figure size 792x288 with 1 Axes>"
      ]
     },
     "metadata": {},
     "output_type": "display_data"
    }
   ],
   "source": [
    "m_avg.plot()"
   ]
  },
  {
   "cell_type": "markdown",
   "metadata": {},
   "source": [
    "It appears that the highest average temperatures, both min and max for each month lie between May and September as well."
   ]
  },
  {
   "cell_type": "markdown",
   "metadata": {},
   "source": [
    "***"
   ]
  },
  {
   "cell_type": "markdown",
   "metadata": {},
   "source": [
    "### How does weather effect rat sightings?"
   ]
  },
  {
   "cell_type": "code",
   "execution_count": 50,
   "metadata": {},
   "outputs": [],
   "source": [
    "# create dataframe of df grouped by avg_temp and with count of each avg_temp value occurance in data\n",
    "weather_sighting_df = df.groupby('avg_temp')[['Location']].count()"
   ]
  },
  {
   "cell_type": "code",
   "execution_count": 51,
   "metadata": {},
   "outputs": [],
   "source": [
    "# reset index\n",
    "weather_sighting_df.reset_index(inplace=True)"
   ]
  },
  {
   "cell_type": "code",
   "execution_count": 52,
   "metadata": {},
   "outputs": [],
   "source": [
    "# rename count column to 'num_of_sightings'\n",
    "weather_sighting_df.rename(columns={'Location':'num_of_sightings'},inplace=True)"
   ]
  },
  {
   "cell_type": "code",
   "execution_count": 53,
   "metadata": {},
   "outputs": [
    {
     "data": {
      "text/plain": [
       "Index(['avg_temp', 'num_of_sightings'], dtype='object')"
      ]
     },
     "execution_count": 53,
     "metadata": {},
     "output_type": "execute_result"
    }
   ],
   "source": [
    "# list columns in weather_sighting_df\n",
    "weather_sighting_df.columns"
   ]
  },
  {
   "cell_type": "code",
   "execution_count": 54,
   "metadata": {},
   "outputs": [
    {
     "data": {
      "text/plain": [
       "array([ 19,  13,  41,  29,  37,  25,  89,  77,  55,  46, 102, 155,  80,\n",
       "       191, 212, 105, 136, 161, 354, 214, 127,  95, 199, 174, 273, 278,\n",
       "        94, 265, 218, 420, 374, 327, 631, 291, 530, 287, 122, 224, 222,\n",
       "       367, 399, 233, 373, 188, 342, 217, 378, 186, 159, 344,  52, 435,\n",
       "       472, 588, 633, 693, 527, 622, 391, 307, 198, 511, 372, 319, 131,\n",
       "       116,  65,  33,  63])"
      ]
     },
     "execution_count": 54,
     "metadata": {},
     "output_type": "execute_result"
    }
   ],
   "source": [
    "# see only unique num_of_sightings values\n",
    "weather_sighting_df[\"num_of_sightings\"].unique()"
   ]
  },
  {
   "cell_type": "code",
   "execution_count": 55,
   "metadata": {},
   "outputs": [
    {
     "data": {
      "image/png": "[encoded data removed]",
      "text/plain": [
       "<Figure size 792x288 with 1 Axes>"
      ]
     },
     "metadata": {},
     "output_type": "display_data"
    }
   ],
   "source": [
    "plt.scatter(weather_sighting_df.avg_temp,weather_sighting_df.num_of_sightings)\n",
    "plt.show()"
   ]
  },
  {
   "cell_type": "markdown",
   "metadata": {},
   "source": [
    "The scatter plot appears to show a strong positive relationship between lower temperatues and rat sightings, which weakens as the temperature rises. In summary, there appears to be a weak positive relationship between temperature and number of reported rat sightings."
   ]
  },
  {
   "cell_type": "markdown",
   "metadata": {},
   "source": [
    "### How strong is the relationship?"
   ]
  },
  {
   "cell_type": "markdown",
   "metadata": {},
   "source": [
    "- ### Simple Linear Regression Model:\n",
    "    - The affect of weather on number of right sightings"
   ]
  },
  {
   "cell_type": "code",
   "execution_count": 56,
   "metadata": {},
   "outputs": [],
   "source": [
    "# building simple linear regression model\n",
    "import numpy as np\n",
    "from sklearn.linear_model import LinearRegression\n",
    "X = weather_sighting_df[['avg_temp']]\n",
    "\n",
    "y = weather_sighting_df['num_of_sightings']"
   ]
  },
  {
   "cell_type": "code",
   "execution_count": 57,
   "metadata": {},
   "outputs": [],
   "source": [
    "reg = LinearRegression().fit(X, y)"
   ]
  },
  {
   "cell_type": "code",
   "execution_count": 58,
   "metadata": {},
   "outputs": [
    {
     "name": "stdout",
     "output_type": "stream",
     "text": [
      "0.2643869156143802\n"
     ]
    }
   ],
   "source": [
    "print(reg.score(X, y))"
   ]
  },
  {
   "cell_type": "markdown",
   "metadata": {},
   "source": [
    "- R^2: the goodness of fit, between 0 and 1. The goodness of fit for this model is 26.44%\n",
    "- Only 26.44% of variance in number of sightings is explained by the avg_temperature variable."
   ]
  },
  {
   "cell_type": "code",
   "execution_count": 59,
   "metadata": {},
   "outputs": [
    {
     "name": "stdout",
     "output_type": "stream",
     "text": [
      "[4.30441212]\n"
     ]
    }
   ],
   "source": [
    "print(reg.coef_)"
   ]
  },
  {
   "cell_type": "markdown",
   "metadata": {},
   "source": [
    "- With a degree increase in temperature the number of sightings in New York increases by 4.3 units."
   ]
  },
  {
   "cell_type": "code",
   "execution_count": 60,
   "metadata": {},
   "outputs": [
    {
     "name": "stdout",
     "output_type": "stream",
     "text": [
      "13.278295033614853\n"
     ]
    }
   ],
   "source": [
    "print(reg.intercept_)"
   ]
  },
  {
   "cell_type": "markdown",
   "metadata": {},
   "source": [
    "- When there is Zero degree temperature the number of sightings in New York State is 13.28 as per the data. "
   ]
  },
  {
   "cell_type": "markdown",
   "metadata": {},
   "source": [
    "#### Single Linear Regression Conclusion:\n",
    "It appears that although there is a relationship between temperature and number of sightings, only 26.44% of the variance in the number of sightings can be explained by the avg_temperature variable. Therefore temperature does not appear to be a very good estimator for number of sightings. "
   ]
  },
  {
   "cell_type": "markdown",
   "metadata": {},
   "source": [
    "***"
   ]
  },
  {
   "cell_type": "markdown",
   "metadata": {},
   "source": [
    "Perhaps location, specifically Boroughs will enhance the model and give more accurate results."
   ]
  },
  {
   "cell_type": "code",
   "execution_count": 61,
   "metadata": {},
   "outputs": [
    {
     "data": {
      "text/html": [
       "<img src=\"https://github.com/AVIMARCUS6/DAV-5400/blob/master/Fall/Final%20Project/Rat%20Sightings%20by%20Burough.png?raw=true\"/>"
      ],
      "text/plain": [
       "<IPython.core.display.Image object>"
      ]
     },
     "execution_count": 61,
     "metadata": {},
     "output_type": "execute_result"
    }
   ],
   "source": [
    "# import image from github of a heatmap made in Tableau of number of rat sightings by borough \n",
    "Image(url= \"https://github.com/AVIMARCUS6/DAV-5400/blob/master/Fall/Final%20Project/Rat%20Sightings%20by%20Burough.png?raw=true\")"
   ]
  },
  {
   "cell_type": "markdown",
   "metadata": {},
   "source": [
    "This heatmap appears to show that certain buroughs in New York tend to have more rat sightings."
   ]
  },
  {
   "cell_type": "code",
   "execution_count": 62,
   "metadata": {},
   "outputs": [
    {
     "data": {
      "text/plain": [
       "<matplotlib.axes._subplots.AxesSubplot at 0x1a1b2f8750>"
      ]
     },
     "execution_count": 62,
     "metadata": {},
     "output_type": "execute_result"
    },
    {
     "data": {
      "image/png": "[encoded data removed]",
      "text/plain": [
       "<Figure size 792x288 with 1 Axes>"
      ]
     },
     "metadata": {},
     "output_type": "display_data"
    }
   ],
   "source": [
    "df['Borough'].value_counts().plot.bar()"
   ]
  },
  {
   "cell_type": "markdown",
   "metadata": {},
   "source": [
    "It appears from the bar plot above that some boroughs, such as Brooklyn or Manhatten appear to have more rat sightings then other locations."
   ]
  },
  {
   "cell_type": "markdown",
   "metadata": {},
   "source": [
    "- ### Multi Linear Regeression:\n",
    "  - The affect of weather and location (burough) on the number of rat sightings  "
   ]
  },
  {
   "cell_type": "markdown",
   "metadata": {},
   "source": [
    "Data Prep:"
   ]
  },
  {
   "cell_type": "code",
   "execution_count": 63,
   "metadata": {},
   "outputs": [],
   "source": [
    "weather_sighting_df = df.groupby(['Borough','avg_temp'])[['Location']].count()"
   ]
  },
  {
   "cell_type": "code",
   "execution_count": 64,
   "metadata": {},
   "outputs": [],
   "source": [
    "weather_sighting_df.reset_index(inplace=True)"
   ]
  },
  {
   "cell_type": "code",
   "execution_count": 65,
   "metadata": {},
   "outputs": [],
   "source": [
    "weather_sighting_df.rename(columns={'Location':'num_of_sightings'},inplace=True)"
   ]
  },
  {
   "cell_type": "code",
   "execution_count": 66,
   "metadata": {},
   "outputs": [
    {
     "data": {
      "text/plain": [
       "array([ 10,   6,   9,  14,   4,   8,  26,  15,  16,  11,  22,  41,  44,\n",
       "        46,  32,  33,  87,  56,  35,  18,  50,  63,  70,  54,  51,  85,\n",
       "        76,  64, 127, 107,  65,  47,  73,  58,  74,  34,  43,  39,  30,\n",
       "        77,  97, 109, 115, 116, 117,  75,  61,  29, 104,  62,  59,  37,\n",
       "        17,   5,  13,   2,   1,  21,  12,  28, 103,  23,  68,  98,  89,\n",
       "        81, 129, 130, 216, 118, 184,  82, 134, 136, 128,  71,  83, 124,\n",
       "       131, 153, 157, 205, 235, 247, 172, 232, 105, 188, 139,  42,  20,\n",
       "         7,  57,  72,  86, 143, 194,  99, 100,  96,  84,  52, 123, 162,\n",
       "       169, 179, 132, 151,  40, 111,  94,  25,  31,   3,  19,  49,  38,\n",
       "        78,  91,  67,   0,  24,  27])"
      ]
     },
     "execution_count": 66,
     "metadata": {},
     "output_type": "execute_result"
    }
   ],
   "source": [
    "weather_sighting_df[\"num_of_sightings\"].unique()"
   ]
  },
  {
   "cell_type": "code",
   "execution_count": 67,
   "metadata": {},
   "outputs": [],
   "source": [
    "# create dataframe with dummy variables for borough and drop first borough\n",
    "regression_df = pd.get_dummies(weather_sighting_df, drop_first=True)"
   ]
  },
  {
   "cell_type": "code",
   "execution_count": 68,
   "metadata": {},
   "outputs": [],
   "source": [
    "# building multi linear regression model\n",
    "import numpy as np\n",
    "from sklearn.linear_model import LinearRegression\n",
    "\n",
    "x_col = list(regression_df.columns)\n",
    "x_col.remove('num_of_sightings')"
   ]
  },
  {
   "cell_type": "code",
   "execution_count": 69,
   "metadata": {},
   "outputs": [
    {
     "data": {
      "text/plain": [
       "['avg_temp',\n",
       " 'Borough_BROOKLYN',\n",
       " 'Borough_MANHATTAN',\n",
       " 'Borough_QUEENS',\n",
       " 'Borough_STATEN ISLAND']"
      ]
     },
     "execution_count": 69,
     "metadata": {},
     "output_type": "execute_result"
    }
   ],
   "source": [
    "x_col"
   ]
  },
  {
   "cell_type": "code",
   "execution_count": 70,
   "metadata": {},
   "outputs": [],
   "source": [
    "X = regression_df[x_col]\n",
    "\n",
    "y = weather_sighting_df['num_of_sightings']\n",
    "reg = LinearRegression().fit(X, y)"
   ]
  },
  {
   "cell_type": "markdown",
   "metadata": {},
   "source": [
    "Multi Linear Regression Results:"
   ]
  },
  {
   "cell_type": "code",
   "execution_count": 71,
   "metadata": {},
   "outputs": [
    {
     "data": {
      "text/plain": [
       "0.4126266994034135"
      ]
     },
     "execution_count": 71,
     "metadata": {},
     "output_type": "execute_result"
    }
   ],
   "source": [
    "reg.score(X, y)"
   ]
  },
  {
   "cell_type": "markdown",
   "metadata": {},
   "source": [
    "- 41% of variance in number of sightings is explained by both borough and temperature variables."
   ]
  },
  {
   "cell_type": "code",
   "execution_count": 72,
   "metadata": {},
   "outputs": [
    {
     "data": {
      "text/plain": [
       "array([  0.8995501 ,  34.67605634,  14.74647887, -15.15492958,\n",
       "       -40.3673556 ])"
      ]
     },
     "execution_count": 72,
     "metadata": {},
     "output_type": "execute_result"
    }
   ],
   "source": [
    "reg.coef_"
   ]
  },
  {
   "cell_type": "markdown",
   "metadata": {},
   "source": [
    "- All these variables are not correlated with each other becuase all the weather data is the same for any location in New York."
   ]
  },
  {
   "cell_type": "code",
   "execution_count": 73,
   "metadata": {},
   "outputs": [
    {
     "data": {
      "text/plain": [
       "1.5012210195265752"
      ]
     },
     "execution_count": 73,
     "metadata": {},
     "output_type": "execute_result"
    }
   ],
   "source": [
    "reg.intercept_"
   ]
  },
  {
   "cell_type": "markdown",
   "metadata": {},
   "source": [
    "- When the temperature is 0 and the borough is Bronx the number sightings is 3.88."
   ]
  },
  {
   "cell_type": "markdown",
   "metadata": {},
   "source": [
    "#### Multi Linear Regression Conclusion:\n",
    "\n",
    "Where as only 26% of variance was captured by merely using only average temperature, 41% of variance was captured when using temperature and borough. This indicates that the number of sightings also depends on borough.  "
   ]
  },
  {
   "cell_type": "markdown",
   "metadata": {},
   "source": [
    "## Conclusions:\n",
    "\n",
    "Based on our analysis we conclude that the best time to put our plan into action can be concluded from the data. We believe that the sighting are higher during the hot seasons in certain locations within New York. This was concluded from the Linear Regression Equations. \n",
    "We believe that exterminators should focus on these locations (Brooklyn and Manhattan) during the hot periods (May-September) of the year in order to optimize their results. \n"
   ]
  },
  {
   "cell_type": "markdown",
   "metadata": {},
   "source": [
    "## Challenges:\n",
    "\n",
    "- Finding the data was easy, accessing the data was the trouble since the API only allowed 1000 pulls per a day. To resolve this isse we were forced to cut down the data to only 2016.\n",
    "- Ensuring that data was properly cleaned and formatted to achieve a proper merge and statistical analysis. For instance the 'Date' columns in each data frame needed to be of type DateTime.\n",
    "- If we had more accessible information regarding litter information in New York State, we would have been able to uncover more interesting patterns"
   ]
  },
  {
   "cell_type": "code",
   "execution_count": null,
   "metadata": {},
   "outputs": [],
   "source": []
  }
 ],
 "metadata": {
  "kernelspec": {
   "display_name": "Python 3",
   "language": "python",
   "name": "python3"
  },
  "language_info": {
   "codemirror_mode": {
    "name": "ipython",
    "version": 3
   },
   "file_extension": ".py",
   "mimetype": "text/x-python",
   "name": "python",
   "nbconvert_exporter": "python",
   "pygments_lexer": "ipython3",
   "version": "3.7.4"
  }
 },
 "nbformat": 4,
 "nbformat_minor": 4
}
