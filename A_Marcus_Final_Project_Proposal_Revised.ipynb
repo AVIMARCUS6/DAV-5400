{
  "nbformat": 4,
  "nbformat_minor": 0,
  "metadata": {
    "kernelspec": {
      "display_name": "Python 3",
      "language": "python",
      "name": "python3"
    },
    "language_info": {
      "codemirror_mode": {
        "name": "ipython",
        "version": 3
      },
      "file_extension": ".py",
      "mimetype": "text/x-python",
      "name": "python",
      "nbconvert_exporter": "python",
      "pygments_lexer": "ipython3",
      "version": "3.7.1"
    },
    "colab": {
      "name": "A_Marcus_Final_Project_Proposal_Revised.ipynb",
      "provenance": [],
      "collapsed_sections": [],
      "include_colab_link": true
    }
  },
  "cells": [
    {
      "cell_type": "markdown",
      "metadata": {
        "id": "view-in-github",
        "colab_type": "text"
      },
      "source": [
        "<a href=\"https://colab.research.google.com/github/AVIMARCUS6/DAV-5400/blob/master/A_Marcus_Final_Project_Proposal_Revised.ipynb\" target=\"_parent\"><img src=\"https://colab.research.google.com/assets/colab-badge.svg\" alt=\"Open In Colab\"/></a>"
      ]
    },
    {
      "cell_type": "markdown",
      "metadata": {
        "id": "EP6ULU4_6KYb",
        "colab_type": "text"
      },
      "source": [
        "# New York City Rat Infestation Through the Lense of Data"
      ]
    },
    {
      "cell_type": "markdown",
      "metadata": {
        "id": "nnTICDYk6KYe",
        "colab_type": "text"
      },
      "source": [
        "## Project Proposal"
      ]
    },
    {
      "cell_type": "markdown",
      "metadata": {
        "id": "29eAZNES6KYf",
        "colab_type": "text"
      },
      "source": [
        "## Introduction:\n",
        "New York City has a rat problem, and some believe it has gotten out of hand. Between 2010 and 2019 there have been over 130,000 rat sightings in New York City (https://www.forbes.com/sites/adamandrzejewski/2019/05/25/a-new-york-city-rat-invasion-130000-reported-rat-sightings-since-2010/#3fa6d51934d6). Rodents have taken over the city and the results are worrying. It was reported by Winnie Hu in her New York Times article, that the tables have turned (https://www.nytimes.com/2019/05/22/nyregion/rat-infestation-nyc.html). The infestation has gotten to the point where humans tend to find themselves dodging and avoiding the rodents as opposed to the scurrying away at the sound of footsteps."
      ]
    },
    {
      "cell_type": "markdown",
      "metadata": {
        "id": "OzBn6gFI6KYg",
        "colab_type": "text"
      },
      "source": [
        "## Research Questions:\n",
        "This project will analyze public data to get a better understanding of the rat problem. The goal will be to dig down to the core and discover possible causes for this infestation. \n",
        "- Where are the rat sightings most common?\n",
        "    - Which area of New York City are the rats sightings the highest.\n",
        "- What kind of neighborhood are these sightings in?\n",
        "    - What kind of people are located in this area?\n",
        "    - What kind of buildings are in these areas?\n",
        "    - What kind of establishments are located in these areas?\n",
        "- Could there be a relationship between the number of sightings and the neighborhood? \n",
        "    - Do establishments such as restaurants effect the number of sightings?\n",
        "- What affect does weather have on the number of sightings?\n",
        "    - Do rats tend to come into the public in certain weather?\n"
      ]
    },
    {
      "cell_type": "markdown",
      "metadata": {
        "id": "prQfH9iO6KYh",
        "colab_type": "text"
      },
      "source": [
        "## Data to be Used:\n",
        "- https://www.kaggle.com/new-york-city/nyc-rat-sightings/download\n",
        "    - Data will be uploaded by CSV from Github and stored in a pandas DataFrame. This data will serve as the main dataset for this project and will be joined with other necessary datasets for analysis. The data will be analyzed using summary statistics and bar plots. It will then be used in conunction with other data sets and analyzed based off the new information for further insights.\n",
        "- https://www.kaggle.com/new-york-city/nyc-buildings\n",
        "    - Data will be uploaded by CSV from Github and stored in a Pandas DataFrame. The data will be used in conjunction with the rat sightings data to identify key areas where sightings occur. Will attempt to construct geo plots which overlay a map of rat sightings on differet breakups of the city, such as zip code, borough, street, and Sanitation District.\n",
        "\n",
        "- https://www.kaggle.com/adamschroeder/crimes-new-york-city\n",
        "    - Data will be uploaded by CSV from Github where it will be stored in a Pandas DataFrame. The data will serve as a method in gaging the surrounding area of rat sightings and will be used to character certain characteristics of the area, such as cleanliness. Based on analysis from rat sightings data, crimes data will be used in an attempt to see if there is a relationship between crime rates and rat sightings based on area.\n",
        "- https://www.kaggle.com/new-york-city/nyc-property-sales/download\n",
        "    - Data will be uploaded by CSV from Github where it will be stored in a Pandas DataFrame. The data will serve as a method in gaging the surrounding area of rat sightings and will be used to character certain characteristics of the area, such as cleanliness. Based on analysis from rat sightings data, property sales data will be used in an attempt to see if there is a relationship between building sale prices and rat sightings based on area.\n"
      ]
    },
    {
      "cell_type": "markdown",
      "metadata": {
        "id": "s52Es_PqL1BB",
        "colab_type": "text"
      },
      "source": [
        "## Approach"
      ]
    },
    {
      "cell_type": "markdown",
      "metadata": {
        "id": "BL1KD_w0-rpN",
        "colab_type": "text"
      },
      "source": [
        "In order to answer the research questions above we will use the data to create a thorough analysis of rat sightings in New York City. The \"nyc rat sightings\" (https://www.kaggle.com/new-york-city/nyc-rat-sightings/download) data will be used to to locate areas with higher number of reports. The data will be analyzed using summary statistics and bar plots. In order to properly classify locations the \"nyc buildings\",\"nyc property sales\" and \"crime new york city\" data will be used to identify if an area is part of a residential or commercial neighborhood based on buildings data. The property sales can be used to identify more expensive or cheaper neighborhoods. I will constrcut geo plots which overlay a map of rat sightings on differet breakups of the city, such as zip code, borough, street, and Sanitation District. The crime data will also help identify how the residents of a community treat their surroudnings. \"Beyond Broken Windows\" by Stephen Lurie, studies these communities and conlcudes that there is a correlation between crime and low quality of life (https://www.citylab.com/perspective/2019/02/broken-windows-theory-policing-urban-violence-crime-data/583030/). This data will then be analyzed to see if there is a relationship between crime rates and rat sightings based on area."
      ]
    }
  ]
}