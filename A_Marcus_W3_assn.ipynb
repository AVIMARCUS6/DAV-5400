{
 "cells": [
  {
   "cell_type": "code",
   "execution_count": 1,
   "metadata": {},
   "outputs": [
    {
     "name": "stdout",
     "output_type": "stream",
     "text": [
      "['high', 'high', '2', '4', 'med', 'low', 'unacc']\n",
      "['high', 'high', '4', 'more', 'small', 'high', 'acc']\n",
      "['high', 'high', '4', 'more', 'big', 'low', 'unacc']\n",
      "['high', 'low', '2', 'more', 'big', 'high', 'acc']\n",
      "['vhigh', 'low', '3', '2', 'med', 'med', 'unacc']\n",
      "['low', 'high', '2', '2', 'small', 'low', 'unacc']\n",
      "['med', 'med', '4', 'more', 'med', 'high', 'vgood']\n",
      "['low', 'low', '3', '2', 'big', 'med', 'unacc']\n",
      "['vhigh', 'low', '2', '2', 'small', 'low', 'unacc']\n",
      "['vhigh', 'high', '4', '4', 'med', 'low', 'unacc']\n",
      "['low', 'low', '2', '2', 'med', 'med', 'unacc']\n",
      "['vhigh', 'low', '4', 'more', 'small', 'high', 'acc']\n",
      "['high', 'low', '2', '4', 'big', 'med', 'acc']\n",
      "['low', 'vhigh', '3', 'more', 'big', 'low', 'unacc']\n",
      "['high', 'low', '5more', '2', 'big', 'med', 'unacc']\n",
      "['vhigh', 'high', '2', 'more', 'med', 'high', 'unacc']\n",
      "['med', 'med', '2', '2', 'small', 'low', 'unacc']\n",
      "['high', 'low', '5more', '4', 'med', 'high', 'acc']\n",
      "['low', 'low', '3', 'more', 'med', 'high', 'vgood']\n",
      "['low', 'low', '2', '2', 'big', 'med', 'unacc']\n",
      "['med', 'high', '4', '2', 'big', 'high', 'unacc']\n",
      "['low', 'low', '2', '2', 'small', 'high', 'unacc']\n",
      "['vhigh', 'high', '5more', '4', 'med', 'med', 'unacc']\n",
      "['med', 'vhigh', '2', '2', 'big', 'low', 'unacc']\n",
      "['low', 'vhigh', '4', '4', 'big', 'low', 'unacc']\n",
      "['vhigh', 'low', '3', 'more', 'big', 'low', 'unacc']\n",
      "['med', 'vhigh', '3', '4', 'small', 'low', 'unacc']\n",
      "['high', 'high', '3', '4', 'med', 'med', 'unacc']\n",
      "['low', 'high', '5more', '2', 'big', 'low', 'unacc']\n",
      "['med', 'high', '5more', '2', 'med', 'med', 'unacc']\n",
      "['high', 'low', '3', '4', 'med', 'high', 'acc']\n",
      "['high', 'vhigh', '5more', '4', 'med', 'med', 'unacc']\n",
      "['low', 'low', '5more', '2', 'med', 'low', 'unacc']\n",
      "['vhigh', 'vhigh', '4', '2', 'big', 'high', 'unacc']\n",
      "['high', 'low', '3', '2', 'big', 'high', 'unacc']\n"
     ]
    }
   ],
   "source": [
    "import csv\n",
    "with open('/Users/avimarcus/Google Drive/Grad School/Spring 2019/Analytics Programming/Week 2/cars-sample35.txt') as csvfile:\n",
    "    readCSV = csv.reader(csvfile)\n",
    "    for row in readCSV:\n",
    "# print each row as read by the csv.reader function\n",
    "        print(row)"
   ]
  },
  {
   "cell_type": "code",
   "execution_count": 18,
   "metadata": {},
   "outputs": [
    {
     "name": "stdout",
     "output_type": "stream",
     "text": [
      "Price: ['high', 'high', 'high', 'high', 'vhigh', 'low', 'med', 'low', 'vhigh', 'vhigh', 'low', 'vhigh', 'high', 'low', 'high', 'vhigh', 'med', 'high', 'low', 'low', 'med', 'low', 'vhigh', 'med', 'low', 'vhigh', 'med', 'high', 'low', 'med', 'high', 'high', 'low', 'vhigh', 'high']\n",
      "Maintenance Cost: ['high', 'high', 'high', 'low', 'low', 'high', 'med', 'low', 'low', 'high', 'low', 'low', 'low', 'vhigh', 'low', 'high', 'med', 'low', 'low', 'low', 'high', 'low', 'high', 'vhigh', 'vhigh', 'low', 'vhigh', 'high', 'high', 'high', 'low', 'vhigh', 'low', 'vhigh', 'low']\n",
      "Number of Doors: ['2', '4', '4', '2', '3', '2', '4', '3', '2', '4', '2', '4', '2', '3', '5more', '2', '2', '5more', '3', '2', '4', '2', '5more', '2', '4', '3', '3', '3', '5more', '5more', '3', '5more', '5more', '4', '3']\n",
      "Number of Passengers: ['4', 'more', 'more', 'more', '2', '2', 'more', '2', '2', '4', '2', 'more', '4', 'more', '2', 'more', '2', '4', 'more', '2', '2', '2', '4', '2', '4', 'more', '4', '4', '2', '2', '4', '4', '2', '2', '2']\n",
      "Luggage Capacity: ['med', 'small', 'big', 'big', 'med', 'small', 'med', 'big', 'small', 'med', 'med', 'small', 'big', 'big', 'big', 'med', 'small', 'med', 'med', 'big', 'big', 'small', 'med', 'big', 'big', 'big', 'small', 'med', 'big', 'med', 'med', 'med', 'med', 'big', 'big']\n",
      "Safety Rating: ['low', 'high', 'low', 'high', 'med', 'low', 'high', 'med', 'low', 'low', 'med', 'high', 'med', 'low', 'med', 'high', 'low', 'high', 'high', 'med', 'high', 'high', 'med', 'low', 'low', 'low', 'low', 'med', 'low', 'med', 'high', 'med', 'low', 'high', 'high']\n",
      "Classification of Vehicle: ['unacc', 'acc', 'unacc', 'acc', 'unacc', 'unacc', 'vgood', 'unacc', 'unacc', 'unacc', 'unacc', 'acc', 'acc', 'unacc', 'unacc', 'unacc', 'unacc', 'acc', 'vgood', 'unacc', 'unacc', 'unacc', 'unacc', 'unacc', 'unacc', 'unacc', 'unacc', 'unacc', 'unacc', 'unacc', 'acc', 'unacc', 'unacc', 'unacc', 'unacc']\n"
     ]
    }
   ],
   "source": [
    "import csv\n",
    "with open('/Users/avimarcus/Google Drive/Grad School/Spring 2019/Analytics Programming/Week 2/cars-sample35.txt') as csvfile:\n",
    "    readCSV = csv.reader(csvfile)\n",
    "    price = []\n",
    "    maintenance_cost = []\n",
    "    number_of_doors = []\n",
    "    number_of_passengers = []\n",
    "    luggage_capacity = []\n",
    "    safety_rating = []\n",
    "    classification_of_vehicle = []\n",
    "\n",
    "# take first value in each list and create new list with given name\n",
    "    for row in readCSV:\n",
    "        # take first value in each list and create new list with given name\n",
    "        price.append(row[0])\n",
    "        # take second value in each list and create new list with given name\n",
    "        maintenance_cost.append(row[1])\n",
    "        # take third value in each list and create new list with given name\n",
    "        number_of_doors.append(row[2])\n",
    "        # take fourth value in each list and create new list with given name\n",
    "        number_of_passengers.append(row[3])\n",
    "        # take fifth value in each list and create new list with given name\n",
    "        luggage_capacity.append(row[4])\n",
    "        # take sixth value in each list and create new list with given name\n",
    "        safety_rating.append(row[5])\n",
    "        # take seventh value in each list and create new list with given name\n",
    "        classification_of_vehicle.append(row[6])\n",
    "    \n",
    "    print('Price:', price)\n",
    "    print('Maintenance Cost:', maintenance_cost)\n",
    "    print('Number of Doors:', number_of_doors)\n",
    "    print('Number of Passengers:', number_of_passengers)\n",
    "    print('Luggage Capacity:', luggage_capacity)\n",
    "    print('Safety Rating:', safety_rating)\n",
    "    print('Classification of Vehicle:', classification_of_vehicle)\n",
    "    \n",
    "    "
   ]
  },
  {
   "cell_type": "markdown",
   "metadata": {},
   "source": [
    "### Task 1: "
   ]
  },
  {
   "cell_type": "code",
   "execution_count": 19,
   "metadata": {},
   "outputs": [
    {
     "name": "stdout",
     "output_type": "stream",
     "text": [
      "[6, 16, 20, 23, 26, 29]\n"
     ]
    }
   ],
   "source": [
    "#searches through price list and finds the index for each occurance of 'med'\n",
    "\n",
    "price_med = [i for i, x in enumerate(price) if x == 'med']\n",
    "\n",
    "print(price_med)\n"
   ]
  },
  {
   "cell_type": "markdown",
   "metadata": {},
   "source": [
    "### Task 2:"
   ]
  },
  {
   "cell_type": "code",
   "execution_count": 20,
   "metadata": {},
   "outputs": [
    {
     "name": "stdout",
     "output_type": "stream",
     "text": [
      "['more', '2', '2', '2', '4', '2']\n"
     ]
    }
   ],
   "source": [
    "# take the indexes found in task 2 and find each of those index location in the \"number \n",
    "# of passangers\" list\n",
    "\n",
    "price_med_num_pass = [number_of_passengers[i] for i in price_med]\n",
    "print(price_med_num_pass)"
   ]
  },
  {
   "cell_type": "markdown",
   "metadata": {},
   "source": [
    "### Task 3:"
   ]
  },
  {
   "cell_type": "markdown",
   "metadata": {},
   "source": [
    "your third task is to find the index value for each automobile having a price value of \"high\" and a maintenance value that is not \"low\" using list comprehension. The list comprehension should create a new list containing your findings. Be sure to print your results to the screen."
   ]
  },
  {
   "cell_type": "code",
   "execution_count": 25,
   "metadata": {},
   "outputs": [
    {
     "name": "stdout",
     "output_type": "stream",
     "text": [
      "[0, 1, 2, 27, 31]\n"
     ]
    }
   ],
   "source": [
    "# iterate through price list for index of elements equal 'high'\n",
    "price_high = [i for i, x in enumerate(price) if x == 'high']\n",
    "# iterate through maintanence list for index of elements not equal to 'low'\n",
    "maint_low = [i for i, x in enumerate(maintenance_cost) if x != 'low']\n",
    "# iterate through both new lists and find common indexes\n",
    "price_maint = [i for i in price_high if i in maint_low]\n",
    "print(price_maint)"
   ]
  },
  {
   "cell_type": "markdown",
   "metadata": {},
   "source": [
    "### Task 4:"
   ]
  },
  {
   "cell_type": "markdown",
   "metadata": {},
   "source": [
    "Consider the following list of lists:"
   ]
  },
  {
   "cell_type": "code",
   "execution_count": 27,
   "metadata": {},
   "outputs": [],
   "source": [
    "nlist = [[1,2,3],['A','B','C'],[4,5],['D','E']]\n"
   ]
  },
  {
   "cell_type": "markdown",
   "metadata": {},
   "source": [
    "\n",
    "If we wanted to extract each individual element of the component lists contained within nlist and add them to a new list, we could use a nested for loop similiar to this:"
   ]
  },
  {
   "cell_type": "code",
   "execution_count": 29,
   "metadata": {},
   "outputs": [
    {
     "name": "stdout",
     "output_type": "stream",
     "text": [
      "[1, 2, 3, 'A', 'B', 'C', 4, 5, 'D', 'E']\n"
     ]
    }
   ],
   "source": [
    "flist = []\n",
    "\n",
    "for x in nlist:\n",
    "    for y in x:\n",
    "        flist.append(y)\n",
    "print(flist)"
   ]
  },
  {
   "cell_type": "markdown",
   "metadata": {},
   "source": [
    "List Comprehension:"
   ]
  },
  {
   "cell_type": "code",
   "execution_count": 35,
   "metadata": {},
   "outputs": [
    {
     "name": "stdout",
     "output_type": "stream",
     "text": [
      "[1, 2, 3, 'A', 'B', 'C', 4, 5, 'D', 'E']\n"
     ]
    }
   ],
   "source": [
    "flist = [x for y in nlist for x in y]\n",
    "print(flist)"
   ]
  },
  {
   "cell_type": "markdown",
   "metadata": {},
   "source": [
    "Source: https://stackoverflow.com/questions/716477/join-list-of-lists-in-python"
   ]
  },
  {
   "cell_type": "markdown",
   "metadata": {},
   "source": [
    "### Task 5:"
   ]
  },
  {
   "cell_type": "markdown",
   "metadata": {},
   "source": [
    "Write a function that converts a list to a dict object"
   ]
  },
  {
   "cell_type": "markdown",
   "metadata": {},
   "source": [
    "create a user defined function that accepts as input one of the seven automobile attribute lists as well as an integer value and returns a Python dict object. \n",
    "\n",
    "Remember: a Python dict object is comprised of ‘key/value’ pairs. The integer value accepted as a parameter by your function will represent the exact number of items you are to use from the list for purposes of creating the new dict object. "
   ]
  },
  {
   "cell_type": "code",
   "execution_count": 115,
   "metadata": {},
   "outputs": [],
   "source": [
    "def makedict(mylist, x):\n",
    "    newDict = {}\n",
    "\n",
    "    #check if x is bigger than length of list\n",
    "    if x > len(mylist):\n",
    "        x = len(mylist)\n",
    "\n",
    "    # iterate over x elements of list\n",
    "    for i in range(x):\n",
    "        # extract ith value from list\n",
    "        value = mylist[i]\n",
    "\n",
    "        # build key\n",
    "        k = 'A' + str(i)\n",
    "\n",
    "        # add key value pair to newDict\n",
    "        newDict[k] = value\n",
    "\n",
    "    return(newDict)\n"
   ]
  },
  {
   "cell_type": "markdown",
   "metadata": {},
   "source": [
    "### Using Your New Function\n",
    "Now that you have your reusable user-defined function, use it to create two new dict objects containing the first seven elements of the ‘Price’ and ‘Luggage’ lists, respectively. Then, use these dict objects to tell us the price and luggage capacity of the auto identified by the ‘A4’ key value."
   ]
  },
  {
   "cell_type": "code",
   "execution_count": 127,
   "metadata": {},
   "outputs": [
    {
     "data": {
      "text/plain": [
       "{'A0': 'high',\n",
       " 'A1': 'high',\n",
       " 'A2': 'high',\n",
       " 'A3': 'high',\n",
       " 'A4': 'vhigh',\n",
       " 'A5': 'low',\n",
       " 'A6': 'med'}"
      ]
     },
     "execution_count": 127,
     "metadata": {},
     "output_type": "execute_result"
    }
   ],
   "source": [
    "price_dict = makedict(price, 7)\n",
    "price_dict"
   ]
  },
  {
   "cell_type": "code",
   "execution_count": 128,
   "metadata": {},
   "outputs": [
    {
     "data": {
      "text/plain": [
       "{'A0': 'med',\n",
       " 'A1': 'small',\n",
       " 'A2': 'big',\n",
       " 'A3': 'big',\n",
       " 'A4': 'med',\n",
       " 'A5': 'small',\n",
       " 'A6': 'med'}"
      ]
     },
     "execution_count": 128,
     "metadata": {},
     "output_type": "execute_result"
    }
   ],
   "source": [
    "luggage_capacity_dict = makedict(luggage_capacity, 7)\n",
    "luggage_capacity_dict"
   ]
  },
  {
   "cell_type": "code",
   "execution_count": 129,
   "metadata": {},
   "outputs": [
    {
     "data": {
      "text/plain": [
       "'vhigh'"
      ]
     },
     "execution_count": 129,
     "metadata": {},
     "output_type": "execute_result"
    }
   ],
   "source": [
    "price_dict['A4']"
   ]
  },
  {
   "cell_type": "code",
   "execution_count": 130,
   "metadata": {},
   "outputs": [
    {
     "data": {
      "text/plain": [
       "'med'"
      ]
     },
     "execution_count": 130,
     "metadata": {},
     "output_type": "execute_result"
    }
   ],
   "source": [
    "luggage_capacity_dict['A4']"
   ]
  },
  {
   "cell_type": "markdown",
   "metadata": {},
   "source": [
    "Source: with assistance from Zach Katz (a.k.a ZKplops)"
   ]
  }
 ],
 "metadata": {
  "kernelspec": {
   "display_name": "Python 3",
   "language": "python",
   "name": "python3"
  },
  "language_info": {
   "codemirror_mode": {
    "name": "ipython",
    "version": 3
   },
   "file_extension": ".py",
   "mimetype": "text/x-python",
   "name": "python",
   "nbconvert_exporter": "python",
   "pygments_lexer": "ipython3",
   "version": "3.7.1"
  }
 },
 "nbformat": 4,
 "nbformat_minor": 2
}
