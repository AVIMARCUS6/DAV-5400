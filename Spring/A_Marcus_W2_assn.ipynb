{
 "cells": [
  {
   "cell_type": "code",
   "execution_count": 6,
   "metadata": {},
   "outputs": [
    {
     "name": "stdout",
     "output_type": "stream",
     "text": [
      "['high', 'high', '2', '4', 'med', 'low', 'unacc']\n",
      "['high', 'high', '4', 'more', 'small', 'high', 'acc']\n",
      "['high', 'high', '4', 'more', 'big', 'low', 'unacc']\n",
      "['high', 'low', '2', 'more', 'big', 'high', 'acc']\n",
      "['vhigh', 'low', '3', '2', 'med', 'med', 'unacc']\n",
      "['low', 'high', '2', '2', 'small', 'low', 'unacc']\n",
      "['med', 'med', '4', 'more', 'med', 'high', 'vgood']\n",
      "['low', 'low', '3', '2', 'big', 'med', 'unacc']\n",
      "['vhigh', 'low', '2', '2', 'small', 'low', 'unacc']\n",
      "['vhigh', 'high', '4', '4', 'med', 'low', 'unacc']\n",
      "['low', 'low', '2', '2', 'med', 'med', 'unacc']\n",
      "['vhigh', 'low', '4', 'more', 'small', 'high', 'acc']\n",
      "['high', 'low', '2', '4', 'big', 'med', 'acc']\n",
      "['low', 'vhigh', '3', 'more', 'big', 'low', 'unacc']\n",
      "['high', 'low', '5more', '2', 'big', 'med', 'unacc']\n",
      "['vhigh', 'high', '2', 'more', 'med', 'high', 'unacc']\n",
      "['med', 'med', '2', '2', 'small', 'low', 'unacc']\n",
      "['high', 'low', '5more', '4', 'med', 'high', 'acc']\n",
      "['low', 'low', '3', 'more', 'med', 'high', 'vgood']\n",
      "['low', 'low', '2', '2', 'big', 'med', 'unacc']\n",
      "['med', 'high', '4', '2', 'big', 'high', 'unacc']\n",
      "['low', 'low', '2', '2', 'small', 'high', 'unacc']\n",
      "['vhigh', 'high', '5more', '4', 'med', 'med', 'unacc']\n",
      "['med', 'vhigh', '2', '2', 'big', 'low', 'unacc']\n",
      "['low', 'vhigh', '4', '4', 'big', 'low', 'unacc']\n",
      "['vhigh', 'low', '3', 'more', 'big', 'low', 'unacc']\n",
      "['med', 'vhigh', '3', '4', 'small', 'low', 'unacc']\n",
      "['high', 'high', '3', '4', 'med', 'med', 'unacc']\n",
      "['low', 'high', '5more', '2', 'big', 'low', 'unacc']\n",
      "['med', 'high', '5more', '2', 'med', 'med', 'unacc']\n",
      "['high', 'low', '3', '4', 'med', 'high', 'acc']\n",
      "['high', 'vhigh', '5more', '4', 'med', 'med', 'unacc']\n",
      "['low', 'low', '5more', '2', 'med', 'low', 'unacc']\n",
      "['vhigh', 'vhigh', '4', '2', 'big', 'high', 'unacc']\n",
      "['high', 'low', '3', '2', 'big', 'high', 'unacc']\n"
     ]
    }
   ],
   "source": [
    "import csv\n",
    "with open('/Users/avimarcus/Google Drive/Grad School/Spring 2019/Analytics Programming/Week 2/cars-sample35.txt') as csvfile:\n",
    "    readCSV = csv.reader(csvfile)\n",
    "    for row in readCSV:\n",
    "# print each row as read by the csv.reader function\n",
    "        print(row)"
   ]
  },
  {
   "cell_type": "markdown",
   "metadata": {},
   "source": [
    "# Task 1:\n",
    "Your first task is to read the file again and extract these seven attributes from each line of the file and create seven\n",
    "distinct lists comprised solely of the values you extracted for a given attribute. In other words, you should have lists of\n",
    "prices, maintenance costs, number of doors, etc. For example, the first five \"luggage\" values should be as follows:\n",
    "['med', 'small', 'big', 'big', 'med']\n",
    "One way to complete this task would be to use the code snippet from above as a starting point: you could replace the\n",
    "“print(row)” statement with whatever Python code you feel is necessary to create the seven required lists."
   ]
  },
  {
   "cell_type": "code",
   "execution_count": 42,
   "metadata": {},
   "outputs": [
    {
     "name": "stdout",
     "output_type": "stream",
     "text": [
      "Price: ['high', 'high', 'high', 'high', 'vhigh', 'low', 'med', 'low', 'vhigh', 'vhigh', 'low', 'vhigh', 'high', 'low', 'high', 'vhigh', 'med', 'high', 'low', 'low', 'med', 'low', 'vhigh', 'med', 'low', 'vhigh', 'med', 'high', 'low', 'med', 'high', 'high', 'low', 'vhigh', 'high']\n",
      "Maintenance Cost: ['high', 'high', 'high', 'low', 'low', 'high', 'med', 'low', 'low', 'high', 'low', 'low', 'low', 'vhigh', 'low', 'high', 'med', 'low', 'low', 'low', 'high', 'low', 'high', 'vhigh', 'vhigh', 'low', 'vhigh', 'high', 'high', 'high', 'low', 'vhigh', 'low', 'vhigh', 'low']\n",
      "Number of Doors: ['2', '4', '4', '2', '3', '2', '4', '3', '2', '4', '2', '4', '2', '3', '5more', '2', '2', '5more', '3', '2', '4', '2', '5more', '2', '4', '3', '3', '3', '5more', '5more', '3', '5more', '5more', '4', '3']\n",
      "Number of Passengers: ['4', 'more', 'more', 'more', '2', '2', 'more', '2', '2', '4', '2', 'more', '4', 'more', '2', 'more', '2', '4', 'more', '2', '2', '2', '4', '2', '4', 'more', '4', '4', '2', '2', '4', '4', '2', '2', '2']\n",
      "Luggage Capacity: ['med', 'small', 'big', 'big', 'med', 'small', 'med', 'big', 'small', 'med', 'med', 'small', 'big', 'big', 'big', 'med', 'small', 'med', 'med', 'big', 'big', 'small', 'med', 'big', 'big', 'big', 'small', 'med', 'big', 'med', 'med', 'med', 'med', 'big', 'big']\n",
      "Safety Rating: ['low', 'high', 'low', 'high', 'med', 'low', 'high', 'med', 'low', 'low', 'med', 'high', 'med', 'low', 'med', 'high', 'low', 'high', 'high', 'med', 'high', 'high', 'med', 'low', 'low', 'low', 'low', 'med', 'low', 'med', 'high', 'med', 'low', 'high', 'high']\n",
      "Classification of Vehicle: ['unacc', 'acc', 'unacc', 'acc', 'unacc', 'unacc', 'vgood', 'unacc', 'unacc', 'unacc', 'unacc', 'acc', 'acc', 'unacc', 'unacc', 'unacc', 'unacc', 'acc', 'vgood', 'unacc', 'unacc', 'unacc', 'unacc', 'unacc', 'unacc', 'unacc', 'unacc', 'unacc', 'unacc', 'unacc', 'acc', 'unacc', 'unacc', 'unacc', 'unacc']\n"
     ]
    }
   ],
   "source": [
    "import csv\n",
    "with open('/Users/avimarcus/Google Drive/Grad School/Spring 2019/Analytics Programming/Week 2/cars-sample35.txt') as csvfile:\n",
    "    readCSV = csv.reader(csvfile)\n",
    "    price = []\n",
    "    maintenance_cost = []\n",
    "    number_of_doors = []\n",
    "    number_of_passengers = []\n",
    "    luggage_capacity = []\n",
    "    safety_rating = []\n",
    "    classification_of_vehicle = []\n",
    "\n",
    "# take first value in each list and create new list with given name\n",
    "    for row in readCSV:\n",
    "        # take first value in each list and create new list with given name\n",
    "        price.append(row[0])\n",
    "        # take second value in each list and create new list with given name\n",
    "        maintenance_cost.append(row[1])\n",
    "        # take third value in each list and create new list with given name\n",
    "        number_of_doors.append(row[2])\n",
    "        # take fourth value in each list and create new list with given name\n",
    "        number_of_passengers.append(row[3])\n",
    "        # take fifth value in each list and create new list with given name\n",
    "        luggage_capacity.append(row[4])\n",
    "        # take sixth value in each list and create new list with given name\n",
    "        safety_rating.append(row[5])\n",
    "        # take seventh value in each list and create new list with given name\n",
    "        classification_of_vehicle.append(row[6])\n",
    "    \n",
    "    print('Price:', price)\n",
    "    print('Maintenance Cost:', maintenance_cost)\n",
    "    print('Number of Doors:', number_of_doors)\n",
    "    print('Number of Passengers:', number_of_passengers)\n",
    "    print('Luggage Capacity:', luggage_capacity)\n",
    "    print('Safety Rating:', safety_rating)\n",
    "    print('Classification of Vehicle:', classification_of_vehicle)\n",
    "    \n",
    "    "
   ]
  },
  {
   "cell_type": "markdown",
   "metadata": {},
   "source": [
    "# Task 2\n",
    "Your second task is to find the list index values of each automobile having a price rating of \"med\". Create a new list with your result. HINT: you can accomplish this task by searching the list of price values you created earlier. Be sure to print your results.\n"
   ]
  },
  {
   "cell_type": "code",
   "execution_count": 55,
   "metadata": {},
   "outputs": [
    {
     "name": "stdout",
     "output_type": "stream",
     "text": [
      "[6, 16, 20, 23, 26, 29]\n"
     ]
    }
   ],
   "source": [
    "#searches through price list and finds the index for each occurance of 'med'\n",
    "\n",
    "price_med = [i for i, x in enumerate(price) if x == 'med']\n",
    "\n",
    "print(price_med)\n",
    "\n"
   ]
  },
  {
   "cell_type": "markdown",
   "metadata": {},
   "source": [
    "# Task 3\n",
    "Your third task is to find the \"number of passengers\" value for each auto having a \"price\" value of \"med\". Create a new list to store your findings and be sure to print your results.\n"
   ]
  },
  {
   "cell_type": "code",
   "execution_count": 60,
   "metadata": {},
   "outputs": [
    {
     "name": "stdout",
     "output_type": "stream",
     "text": [
      "['more', '2', '2', '2', '4', '2']\n"
     ]
    }
   ],
   "source": [
    "price_med_num_pass = []\n",
    "\n",
    "# take the indexes found in task 2 and find each of those index location in the \"number \n",
    "# of passangers\" list\n",
    "\n",
    "for i in price_med:\n",
    "    price_med_num_pass.append(number_of_passengers[i])\n",
    "\n",
    "print(price_med_num_pass)"
   ]
  },
  {
   "cell_type": "markdown",
   "metadata": {},
   "source": [
    "# Task 4\n",
    "Your fourth task is to find the index value for each automobile having a price value of \"high\" and a maintenance value that is not \"low\". Create a new list to store your findings and be sure to print your results."
   ]
  },
  {
   "cell_type": "code",
   "execution_count": 77,
   "metadata": {
    "scrolled": true
   },
   "outputs": [
    {
     "name": "stdout",
     "output_type": "stream",
     "text": [
      "[0, 1, 2, 3, 12, 14, 17, 27, 30, 31, 34]\n",
      "[0, 1, 2, 5, 6, 9, 13, 15, 16, 20, 22, 23, 24, 26, 27, 28, 29, 31, 33]\n"
     ]
    }
   ],
   "source": [
    "# iterate through price list for index of elements equal 'high'\n",
    "price_high = [i for i, x in enumerate(price) if x == 'high']\n",
    "# iterate through maintanence list for index of elements not equal to 'low'\n",
    "maint_low = [i for i, x in enumerate(maintenance_cost) if x != 'low']\n",
    "\n",
    "print(price_high)\n",
    "print(maint_low)"
   ]
  },
  {
   "cell_type": "code",
   "execution_count": 79,
   "metadata": {},
   "outputs": [
    {
     "name": "stdout",
     "output_type": "stream",
     "text": [
      "[0, 1, 2, 27, 31]\n"
     ]
    }
   ],
   "source": [
    "price_high_maint_low = []\n",
    "\n",
    "#executed if length of list price_high is longer then or equal to maint_low\n",
    "if len(price_high) >= len(maint_low):\n",
    "# finds all elements in the shorter list and sees if they are in the longer list and adds\n",
    "# the elements to the new list price_high_maint_low\n",
    "    for elements in maint_low:\n",
    "        if elements in price_high:\n",
    "            price_high_maint_low.append(elements)\n",
    "else:\n",
    "    for elements in price_high:\n",
    "        if elements in maint_low:\n",
    "            price_high_maint_low.append(elements)\n",
    "\n",
    "print(price_high_maint_low)"
   ]
  },
  {
   "cell_type": "markdown",
   "metadata": {},
   "source": [
    "# Task 5\n",
    "Your fifth task is to find the index value for each auto having 2 doors and a luggage value of \"big\". Create a new list to store your findings and be sure to print your results."
   ]
  },
  {
   "cell_type": "code",
   "execution_count": 84,
   "metadata": {},
   "outputs": [
    {
     "name": "stdout",
     "output_type": "stream",
     "text": [
      "[0, 3, 5, 8, 10, 12, 15, 16, 19, 21, 23]\n",
      "[2, 3, 7, 12, 13, 14, 19, 20, 23, 24, 25, 28, 33, 34]\n"
     ]
    }
   ],
   "source": [
    "# same iteration technique as above\n",
    "two_doors = [i for i, x in enumerate(number_of_doors) if x == '2']\n",
    "luggage_big = [i for i, x in enumerate(luggage_capacity) if x == 'big']\n",
    "\n",
    "print(two_doors)\n",
    "print(luggage_big)"
   ]
  },
  {
   "cell_type": "code",
   "execution_count": 85,
   "metadata": {},
   "outputs": [
    {
     "name": "stdout",
     "output_type": "stream",
     "text": [
      "[3, 12, 19, 23]\n"
     ]
    }
   ],
   "source": [
    "two_doors_luggage_big = []\n",
    "#executed if length of list price_high is longer then or equal to maint_low\n",
    "if len(two_doors) >= len(luggage_big):\n",
    "# finds all elements in the shorter list and sees if they are in the longer list and adds\n",
    "# the elements to the new list price_high_maint_low\n",
    "    for elements in luggage_big:\n",
    "        if elements in two_doors:\n",
    "            two_doors_luggage_big.append(elements)\n",
    "else:\n",
    "    for elements in two_doors:\n",
    "        if elements in luggage_big:\n",
    "            two_doors_luggage_big.append(elements)\n",
    "\n",
    "print(two_doors_luggage_big)"
   ]
  },
  {
   "cell_type": "markdown",
   "metadata": {},
   "source": [
    "# Task 6\n",
    "Finally, create a new list containing the only the integer equivalents of the doors values. Keep in mind that the lists you have created thus far are composed solely of strings. If you find any values of '5more' in your list, convert them to a '5'. After converting the '5more' values to '5', convert all of the items in your list to their numeric equivalent and calculate the average number of doors across all 35 autos using whichever of Python's built in functions you require. Print your result."
   ]
  },
  {
   "cell_type": "code",
   "execution_count": 106,
   "metadata": {},
   "outputs": [
    {
     "name": "stdout",
     "output_type": "stream",
     "text": [
      "[2, 4, 4, 2, 3, 2, 4, 3, 2, 4, 2, 4, 2, 3, 5, 2, 2, 5, 3, 2, 4, 2, 5, 2, 4, 3, 3, 3, 5, 5, 3, 5, 5, 4, 3]\n"
     ]
    }
   ],
   "source": [
    "# replaces all occurances of the string '5more' with the string '5' for the number_of_doors\n",
    "# list\n",
    "number_of_doors = ['5' if x == '5more' else x for x in number_of_doors]\n",
    "#converts the number_of_doors list to integers\n",
    "number_of_doors = [int(i) for i in number_of_doors]\n",
    "\n",
    "print(number_of_doors)\n",
    "\n"
   ]
  },
  {
   "cell_type": "code",
   "execution_count": 105,
   "metadata": {},
   "outputs": [
    {
     "name": "stdout",
     "output_type": "stream",
     "text": [
      "3.31\n"
     ]
    }
   ],
   "source": [
    "#import python mean function\n",
    "from statistics import mean\n",
    "#take average of number_of_doors list\n",
    "average_doors = mean(number_of_doors)\n",
    "\n",
    "print(round(average_doors,2))"
   ]
  },
  {
   "cell_type": "markdown",
   "metadata": {},
   "source": [
    "### Sources:\n",
    "- Create new list from list when certain criteria is met: https://stackoverflow.com/questions/7406448/python-create-a-new-list-from-a-list-when-a-certain-condition-is-met\n",
    "\n",
    "- finding and replacing elements in a list: https://stackoverflow.com/questions/2582138/finding-and-replacing-elements-in-a-list-python/2582163\n",
    "\n",
    "- List Comprehension: https://www.pythonforbeginners.com/basics/list-comprehensions-in-python\n",
    "\n",
    "- Convert all strings in a list to int: https://stackoverflow.com/questions/7368789/convert-all-strings-in-a-list-to-int\n",
    "\n",
    "- Find average of list: https://www.geeksforgeeks.org/find-average-list-python/"
   ]
  },
  {
   "cell_type": "code",
   "execution_count": null,
   "metadata": {},
   "outputs": [],
   "source": []
  }
 ],
 "metadata": {
  "kernelspec": {
   "display_name": "Python 3",
   "language": "python",
   "name": "python3"
  },
  "language_info": {
   "codemirror_mode": {
    "name": "ipython",
    "version": 3
   },
   "file_extension": ".py",
   "mimetype": "text/x-python",
   "name": "python",
   "nbconvert_exporter": "python",
   "pygments_lexer": "ipython3",
   "version": "3.7.1"
  }
 },
 "nbformat": 4,
 "nbformat_minor": 2
}
