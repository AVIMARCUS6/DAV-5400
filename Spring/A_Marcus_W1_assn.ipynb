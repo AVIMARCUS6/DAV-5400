{
 "cells": [
  {
   "cell_type": "markdown",
   "metadata": {},
   "source": [
    "## Data:\n",
    "\n",
    "**DATASET** : https://github.com/AVIMARCUS6/DAV-5400/blob/master/titanic%20passenger%20list.csv\n",
    "\n",
    "**SOURCE**: http://www.seanlahman.com/baseball-archive/statistics/"
   ]
  },
  {
   "cell_type": "markdown",
   "metadata": {},
   "source": [
    "## Write Up:\n",
    "\n",
    "I've chosen this dataset becuase I feel that it contains values that can be analyzed in many different ways. The data has various quantitative variables along in addition to dummy varaibles."
   ]
  },
  {
   "cell_type": "markdown",
   "metadata": {},
   "source": [
    "**Questions**:\n",
    "\n",
    "1) What was the average price of tickets?\n",
    "2) Where were the majority of passangers from?\n",
    "3) Did different locations bring different passanger class types? (correlation between location and class among passangers)\n",
    "4) Was there a difference in the survival rate among\n",
    "    a) genders?\n",
    "    b) ages?\n",
    "    c) classes?\n",
    "    d) cabin/ location on ship?\n",
    "5) What was the effect of these variables on survival? (linear regression)\n",
    "6) How many passengers lost siblings during the incident?"
   ]
  },
  {
   "cell_type": "markdown",
   "metadata": {},
   "source": [
    "**Note**:\n",
    "I have had a lot of trouble in the past choosing a dataset since I was always looking for \n",
    "data that interests me, instead I chose this dataset which I am intrigued by but I am \n",
    "definetly not obssessed with, becuase I want a dataset which I know will be easy to use \n",
    "and learn from."
   ]
  }
 ],
 "metadata": {
  "kernelspec": {
   "display_name": "Python 3",
   "language": "python",
   "name": "python3"
  },
  "language_info": {
   "codemirror_mode": {
    "name": "ipython",
    "version": 3
   },
   "file_extension": ".py",
   "mimetype": "text/x-python",
   "name": "python",
   "nbconvert_exporter": "python",
   "pygments_lexer": "ipython3",
   "version": "3.7.1"
  }
 },
 "nbformat": 4,
 "nbformat_minor": 2
}
